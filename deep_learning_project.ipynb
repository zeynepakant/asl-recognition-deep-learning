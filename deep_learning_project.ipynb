{
  "nbformat": 4,
  "nbformat_minor": 0,
  "metadata": {
    "kernelspec": {
      "language": "python",
      "display_name": "Python 3",
      "name": "python3"
    },
    "language_info": {
      "name": "python",
      "version": "3.7.10",
      "mimetype": "text/x-python",
      "codemirror_mode": {
        "name": "ipython",
        "version": 3
      },
      "pygments_lexer": "ipython3",
      "nbconvert_exporter": "python",
      "file_extension": ".py"
    },
    "colab": {
      "name": "deep_learning_project.ipynb",
      "provenance": []
    }
  },
  "cells": [
    {
      "cell_type": "code",
      "metadata": {
        "_uuid": "8f2839f25d086af736a60e9eeb907d3b93b6e0e5",
        "_cell_guid": "b1076dfc-b9ad-4769-8c92-a6c4dae69d19",
        "execution": {
          "iopub.status.busy": "2021-06-09T16:43:59.408345Z",
          "iopub.execute_input": "2021-06-09T16:43:59.408695Z",
          "iopub.status.idle": "2021-06-09T16:44:07.488222Z",
          "shell.execute_reply.started": "2021-06-09T16:43:59.408616Z",
          "shell.execute_reply": "2021-06-09T16:44:07.487095Z"
        },
        "trusted": true,
        "id": "EwJXqKYE40ep"
      },
      "source": [
        "import keras\n",
        "import numpy as np\n",
        "import pandas as pd\n",
        "import random\n",
        "import matplotlib.pyplot as plt\n",
        "from numpy import asarray\n",
        "import os\n",
        "import csv\n",
        "from sklearn.model_selection import train_test_split\n",
        "import tensorflow as tf\n",
        "from string import ascii_uppercase\n",
        "from tqdm import tqdm, trange, tqdm_notebook\n",
        "from time import sleep\n",
        "import cv2, skimage\n",
        "from skimage.transform import resize\n",
        "from sklearn.model_selection import StratifiedKFold\n",
        "from keras.layers import Input\n",
        "from keras import Model\n",
        "from tensorflow import keras\n",
        "from tensorflow.keras import layers"
      ],
      "execution_count": null,
      "outputs": []
    },
    {
      "cell_type": "markdown",
      "metadata": {
        "id": "Q-WMQB4X40er"
      },
      "source": [
        "## Label Conversion"
      ]
    },
    {
      "cell_type": "code",
      "metadata": {
        "execution": {
          "iopub.status.busy": "2021-06-09T16:44:07.492355Z",
          "iopub.execute_input": "2021-06-09T16:44:07.492714Z",
          "iopub.status.idle": "2021-06-09T16:44:07.501005Z",
          "shell.execute_reply.started": "2021-06-09T16:44:07.492683Z",
          "shell.execute_reply": "2021-06-09T16:44:07.499553Z"
        },
        "trusted": true,
        "id": "63cuk5bo40et",
        "outputId": "570e2256-8d7d-4bdd-d526-da12cd78b5d9"
      },
      "source": [
        "labels = {x: y for y, x in enumerate(ascii_uppercase)}\n",
        "labels['del'] = 26\n",
        "labels['nothing'] = 27\n",
        "labels['space'] = 28\n",
        "print(labels)\n",
        "\n",
        "train_len = 29000\n",
        "img_size = 64\n",
        "train_dir = \"../input/cs412-spring-2021/train_data/train/\"\n",
        "target_dims = (64,64,3) "
      ],
      "execution_count": null,
      "outputs": [
        {
          "name": "stdout",
          "text": "{'A': 0, 'B': 1, 'C': 2, 'D': 3, 'E': 4, 'F': 5, 'G': 6, 'H': 7, 'I': 8, 'J': 9, 'K': 10, 'L': 11, 'M': 12, 'N': 13, 'O': 14, 'P': 15, 'Q': 16, 'R': 17, 'S': 18, 'T': 19, 'U': 20, 'V': 21, 'W': 22, 'X': 23, 'Y': 24, 'Z': 25, 'del': 26, 'nothing': 27, 'space': 28}\n",
          "output_type": "stream"
        }
      ]
    },
    {
      "cell_type": "markdown",
      "metadata": {
        "id": "S8zVTGkb40eu"
      },
      "source": [
        "## Reading Training Set"
      ]
    },
    {
      "cell_type": "code",
      "metadata": {
        "execution": {
          "iopub.status.busy": "2021-06-09T16:44:07.504184Z",
          "iopub.execute_input": "2021-06-09T16:44:07.505103Z",
          "iopub.status.idle": "2021-06-09T16:44:08.852864Z",
          "shell.execute_reply.started": "2021-06-09T16:44:07.505001Z",
          "shell.execute_reply": "2021-06-09T16:44:08.851642Z"
        },
        "trusted": true,
        "id": "_7DAB3uT40eu",
        "outputId": "febcaa74-d31e-451d-811d-29a27d1a1c8e"
      },
      "source": [
        "from skimage import data\n",
        "from skimage.viewer import ImageViewer\n",
        "def read_training_datasetGray(train_dir):\n",
        "    counter = 0\n",
        "    \n",
        "    X = np.empty((train_len, img_size, img_size, 3), dtype=np.float32)\n",
        "    y = np.empty ((train_len), dtype = np.int)\n",
        "    \n",
        "    folders = sorted(os.listdir(train_dir))\n",
        "    for folder in tqdm(folders):\n",
        "        if not folder.startswith('.'):\n",
        "            if folder in labels:\n",
        "                label = labels[folder]\n",
        "                print(label)\n",
        "            else:\n",
        "                label = 29\n",
        "            for image_name in os.listdir(train_dir + folder):\n",
        "                image = cv2.imread(train_dir+folder+'/'+image_name)\n",
        "                #image = cv2.cvtColor(img, cv2.COLOR_BGR2GRAY)\n",
        "\n",
        "                if image is not None:\n",
        "                    image = skimage.transform.resize(image, (img_size, img_size, 3))\n",
        "                    image_array = np.asarray(image).reshape((-1, img_size, img_size, 3))\n",
        "                    X[counter] = image_array\n",
        "                    y[counter] = label\n",
        "                    counter += 1\n",
        "        sleep(0.1)\n",
        "    return X, y"
      ],
      "execution_count": null,
      "outputs": [
        {
          "name": "stderr",
          "text": "/opt/conda/lib/python3.7/site-packages/skimage/viewer/utils/__init__.py:1: UserWarning: Recommended matplotlib backend is `Agg` for full skimage.viewer functionality.\n  from .core import *\n",
          "output_type": "stream"
        }
      ]
    },
    {
      "cell_type": "code",
      "metadata": {
        "execution": {
          "iopub.status.busy": "2021-06-09T16:44:08.855775Z",
          "iopub.execute_input": "2021-06-09T16:44:08.856071Z",
          "iopub.status.idle": "2021-06-09T16:52:15.405101Z",
          "shell.execute_reply.started": "2021-06-09T16:44:08.856041Z",
          "shell.execute_reply": "2021-06-09T16:52:15.402196Z"
        },
        "trusted": true,
        "id": "ja5dZFyd40ev",
        "outputId": "bcbd549d-0a61-44b9-d91b-36ef30dbd631"
      },
      "source": [
        "X_trainn, y_trainn = read_training_datasetGray(train_dir)"
      ],
      "execution_count": null,
      "outputs": [
        {
          "name": "stderr",
          "text": "  0%|          | 0/29 [00:00<?, ?it/s]",
          "output_type": "stream"
        },
        {
          "name": "stdout",
          "text": "0\n",
          "output_type": "stream"
        },
        {
          "name": "stderr",
          "text": "  3%|▎         | 1/29 [00:16<07:53, 16.90s/it]",
          "output_type": "stream"
        },
        {
          "name": "stdout",
          "text": "1\n",
          "output_type": "stream"
        },
        {
          "name": "stderr",
          "text": "  7%|▋         | 2/29 [00:33<07:37, 16.94s/it]",
          "output_type": "stream"
        },
        {
          "name": "stdout",
          "text": "2\n",
          "output_type": "stream"
        },
        {
          "name": "stderr",
          "text": " 10%|█         | 3/29 [00:50<07:14, 16.71s/it]",
          "output_type": "stream"
        },
        {
          "name": "stdout",
          "text": "3\n",
          "output_type": "stream"
        },
        {
          "name": "stderr",
          "text": " 14%|█▍        | 4/29 [01:07<06:59, 16.78s/it]",
          "output_type": "stream"
        },
        {
          "name": "stdout",
          "text": "4\n",
          "output_type": "stream"
        },
        {
          "name": "stderr",
          "text": " 17%|█▋        | 5/29 [01:23<06:40, 16.68s/it]",
          "output_type": "stream"
        },
        {
          "name": "stdout",
          "text": "5\n",
          "output_type": "stream"
        },
        {
          "name": "stderr",
          "text": " 21%|██        | 6/29 [01:40<06:25, 16.77s/it]",
          "output_type": "stream"
        },
        {
          "name": "stdout",
          "text": "6\n",
          "output_type": "stream"
        },
        {
          "name": "stderr",
          "text": " 24%|██▍       | 7/29 [01:57<06:06, 16.64s/it]",
          "output_type": "stream"
        },
        {
          "name": "stdout",
          "text": "7\n",
          "output_type": "stream"
        },
        {
          "name": "stderr",
          "text": " 28%|██▊       | 8/29 [02:13<05:50, 16.71s/it]",
          "output_type": "stream"
        },
        {
          "name": "stdout",
          "text": "8\n",
          "output_type": "stream"
        },
        {
          "name": "stderr",
          "text": " 31%|███       | 9/29 [02:30<05:31, 16.57s/it]",
          "output_type": "stream"
        },
        {
          "name": "stdout",
          "text": "9\n",
          "output_type": "stream"
        },
        {
          "name": "stderr",
          "text": " 34%|███▍      | 10/29 [02:48<05:24, 17.06s/it]",
          "output_type": "stream"
        },
        {
          "name": "stdout",
          "text": "10\n",
          "output_type": "stream"
        },
        {
          "name": "stderr",
          "text": " 38%|███▊      | 11/29 [03:04<05:01, 16.77s/it]",
          "output_type": "stream"
        },
        {
          "name": "stdout",
          "text": "11\n",
          "output_type": "stream"
        },
        {
          "name": "stderr",
          "text": " 41%|████▏     | 12/29 [03:20<04:42, 16.61s/it]",
          "output_type": "stream"
        },
        {
          "name": "stdout",
          "text": "12\n",
          "output_type": "stream"
        },
        {
          "name": "stderr",
          "text": " 45%|████▍     | 13/29 [03:37<04:25, 16.57s/it]",
          "output_type": "stream"
        },
        {
          "name": "stdout",
          "text": "13\n",
          "output_type": "stream"
        },
        {
          "name": "stderr",
          "text": " 48%|████▊     | 14/29 [03:53<04:06, 16.46s/it]",
          "output_type": "stream"
        },
        {
          "name": "stdout",
          "text": "14\n",
          "output_type": "stream"
        },
        {
          "name": "stderr",
          "text": " 52%|█████▏    | 15/29 [04:09<03:49, 16.38s/it]",
          "output_type": "stream"
        },
        {
          "name": "stdout",
          "text": "15\n",
          "output_type": "stream"
        },
        {
          "name": "stderr",
          "text": " 55%|█████▌    | 16/29 [04:26<03:34, 16.53s/it]",
          "output_type": "stream"
        },
        {
          "name": "stdout",
          "text": "16\n",
          "output_type": "stream"
        },
        {
          "name": "stderr",
          "text": " 59%|█████▊    | 17/29 [04:43<03:19, 16.60s/it]",
          "output_type": "stream"
        },
        {
          "name": "stdout",
          "text": "17\n",
          "output_type": "stream"
        },
        {
          "name": "stderr",
          "text": " 62%|██████▏   | 18/29 [05:00<03:03, 16.69s/it]",
          "output_type": "stream"
        },
        {
          "name": "stdout",
          "text": "18\n",
          "output_type": "stream"
        },
        {
          "name": "stderr",
          "text": " 66%|██████▌   | 19/29 [05:17<02:47, 16.77s/it]",
          "output_type": "stream"
        },
        {
          "name": "stdout",
          "text": "19\n",
          "output_type": "stream"
        },
        {
          "name": "stderr",
          "text": " 69%|██████▉   | 20/29 [05:33<02:31, 16.82s/it]",
          "output_type": "stream"
        },
        {
          "name": "stdout",
          "text": "20\n",
          "output_type": "stream"
        },
        {
          "name": "stderr",
          "text": " 72%|███████▏  | 21/29 [05:51<02:15, 16.94s/it]",
          "output_type": "stream"
        },
        {
          "name": "stdout",
          "text": "21\n",
          "output_type": "stream"
        },
        {
          "name": "stderr",
          "text": " 76%|███████▌  | 22/29 [06:08<01:59, 17.09s/it]",
          "output_type": "stream"
        },
        {
          "name": "stdout",
          "text": "22\n",
          "output_type": "stream"
        },
        {
          "name": "stderr",
          "text": " 79%|███████▉  | 23/29 [06:25<01:42, 17.10s/it]",
          "output_type": "stream"
        },
        {
          "name": "stdout",
          "text": "23\n",
          "output_type": "stream"
        },
        {
          "name": "stderr",
          "text": " 83%|████████▎ | 24/29 [06:42<01:24, 16.95s/it]",
          "output_type": "stream"
        },
        {
          "name": "stdout",
          "text": "24\n",
          "output_type": "stream"
        },
        {
          "name": "stderr",
          "text": " 86%|████████▌ | 25/29 [06:58<01:07, 16.85s/it]",
          "output_type": "stream"
        },
        {
          "name": "stdout",
          "text": "25\n",
          "output_type": "stream"
        },
        {
          "name": "stderr",
          "text": " 90%|████████▉ | 26/29 [07:15<00:50, 16.78s/it]",
          "output_type": "stream"
        },
        {
          "name": "stdout",
          "text": "26\n",
          "output_type": "stream"
        },
        {
          "name": "stderr",
          "text": " 93%|█████████▎| 27/29 [07:32<00:33, 16.76s/it]",
          "output_type": "stream"
        },
        {
          "name": "stdout",
          "text": "27\n",
          "output_type": "stream"
        },
        {
          "name": "stderr",
          "text": " 97%|█████████▋| 28/29 [07:49<00:16, 16.75s/it]",
          "output_type": "stream"
        },
        {
          "name": "stdout",
          "text": "28\n",
          "output_type": "stream"
        },
        {
          "name": "stderr",
          "text": "100%|██████████| 29/29 [08:06<00:00, 16.78s/it]\n",
          "output_type": "stream"
        }
      ]
    },
    {
      "cell_type": "markdown",
      "metadata": {
        "id": "Urli-7b040ev"
      },
      "source": [
        "## Suffling Training Data "
      ]
    },
    {
      "cell_type": "code",
      "metadata": {
        "execution": {
          "iopub.status.busy": "2021-06-09T16:52:15.407123Z",
          "iopub.execute_input": "2021-06-09T16:52:15.407654Z",
          "iopub.status.idle": "2021-06-09T16:52:15.973882Z",
          "shell.execute_reply.started": "2021-06-09T16:52:15.407602Z",
          "shell.execute_reply": "2021-06-09T16:52:15.972726Z"
        },
        "trusted": true,
        "id": "HeePbXLM40ev"
      },
      "source": [
        "#shuffle the data\n",
        "idx = np.random.permutation(len(X_trainn))\n",
        "X_trainn , y_trainn = X_trainn[idx], y_trainn[idx]"
      ],
      "execution_count": null,
      "outputs": []
    },
    {
      "cell_type": "markdown",
      "metadata": {
        "id": "WoA--ZUl40ew"
      },
      "source": [
        "## Train-Validation Split"
      ]
    },
    {
      "cell_type": "code",
      "metadata": {
        "execution": {
          "iopub.status.busy": "2021-06-09T16:52:15.975672Z",
          "iopub.execute_input": "2021-06-09T16:52:15.976154Z",
          "iopub.status.idle": "2021-06-09T16:52:16.563718Z",
          "shell.execute_reply.started": "2021-06-09T16:52:15.976093Z",
          "shell.execute_reply": "2021-06-09T16:52:16.562572Z"
        },
        "trusted": true,
        "id": "U-km-aN140ew"
      },
      "source": [
        "X_train,X_val,y_train,y_val = train_test_split(X_trainn,y_trainn,test_size=0.2,random_state=22, stratify = y_trainn)\n",
        "\n",
        "y_train = keras.utils.to_categorical(y_train ,29)\n",
        "y_val = keras.utils.to_categorical(y_val ,29)"
      ],
      "execution_count": null,
      "outputs": []
    },
    {
      "cell_type": "code",
      "metadata": {
        "execution": {
          "iopub.status.busy": "2021-06-09T16:52:16.565371Z",
          "iopub.execute_input": "2021-06-09T16:52:16.565820Z",
          "iopub.status.idle": "2021-06-09T16:52:16.574766Z",
          "shell.execute_reply.started": "2021-06-09T16:52:16.565772Z",
          "shell.execute_reply": "2021-06-09T16:52:16.573445Z"
        },
        "trusted": true,
        "id": "J9RwsIcN40ew",
        "outputId": "82a23e30-3f53-49bc-cfc0-9c5dc212e20b"
      },
      "source": [
        "print(\"X_train shape:\" , X_train.shape)\n",
        "\n",
        "print(\"y_train shape:\", y_train.shape)\n",
        "\n",
        "print(\"X_val shape:\", X_val.shape)"
      ],
      "execution_count": null,
      "outputs": [
        {
          "name": "stdout",
          "text": "X_train shape: (23200, 64, 64, 3)\ny_train shape: (23200, 29)\nX_val shape: (5800, 64, 64, 3)\n",
          "output_type": "stream"
        }
      ]
    },
    {
      "cell_type": "markdown",
      "metadata": {
        "id": "9uM6F8n-40ex"
      },
      "source": [
        "## Data Augmentation (Rotating, Zoom, etc)"
      ]
    },
    {
      "cell_type": "code",
      "metadata": {
        "execution": {
          "iopub.status.busy": "2021-06-09T16:52:16.579275Z",
          "iopub.execute_input": "2021-06-09T16:52:16.580133Z",
          "iopub.status.idle": "2021-06-09T16:52:16.590063Z",
          "shell.execute_reply.started": "2021-06-09T16:52:16.580073Z",
          "shell.execute_reply": "2021-06-09T16:52:16.588713Z"
        },
        "trusted": true,
        "id": "m8Y4XhlG40ex"
      },
      "source": [
        "batch_size = 32\n",
        "train_image_generator = tf.keras.preprocessing.image.ImageDataGenerator(\n",
        "                            shear_range=0.1,\n",
        "                            #featurewise_std_normalization=False,  # divide inputs by std of the dataset\n",
        "                            samplewise_center=True,                       \n",
        "                            samplewise_std_normalization=True,  # divide each input by its std\n",
        "                            zca_whitening=False,  # apply ZCA whitening\n",
        "                            rotation_range=10,  # randomly rotate images in the range (degrees, 0 to 180)\n",
        "                            zoom_range = 0.1, # Randomly zoom image \n",
        "                            width_shift_range=0.1,  # randomly shift images horizontally (fraction of total width)\n",
        "                            height_shift_range=0.1,  # randomly shift images vertically (fraction of total height)\n",
        "                            horizontal_flip=False,  # randomly flip images\n",
        "                            vertical_flip=False)  # randomly flip images\n",
        "\n",
        "val_image_generator = tf.keras.preprocessing.image.ImageDataGenerator(\n",
        "    samplewise_center=True,\n",
        "    samplewise_std_normalization=True,\n",
        ")\n",
        "\n",
        "train_generator = train_image_generator.flow(x=X_train, y=y_train, batch_size=batch_size, shuffle=True)\n",
        "val_generator = val_image_generator.flow(x=X_val, y=y_val, batch_size=batch_size, shuffle=False)"
      ],
      "execution_count": null,
      "outputs": []
    },
    {
      "cell_type": "markdown",
      "metadata": {
        "id": "ttjaB4x240ex"
      },
      "source": [
        "## Reading Test Set"
      ]
    },
    {
      "cell_type": "code",
      "metadata": {
        "execution": {
          "iopub.status.busy": "2021-06-09T16:52:16.592754Z",
          "iopub.execute_input": "2021-06-09T16:52:16.593265Z",
          "iopub.status.idle": "2021-06-09T16:52:16.604558Z",
          "shell.execute_reply.started": "2021-06-09T16:52:16.593219Z",
          "shell.execute_reply": "2021-06-09T16:52:16.602810Z"
        },
        "trusted": true,
        "id": "9e-GziUn40ex"
      },
      "source": [
        "def read_test_dataset(test_dir):\n",
        "    counter = 0\n",
        "    X = np.empty((test_len, img_size, img_size, 3), dtype=np.float32)\n",
        "    arr = []\n",
        "    for j in tqdm_notebook(range(1), desc= \"reading test\"):\n",
        "     \n",
        "        for image_name in os.listdir(test_dir):\n",
        "            if image_name.split('.')[-1] == 'jpg':\n",
        "                #print(image_name)\n",
        "                image = cv2.imread(test_dir+'/'+image_name)\n",
        "                #image = cv2.cvtColor(img, cv2.COLOR_BGR2GRAY)\n",
        "                #print(image)\n",
        "                image = skimage.transform.resize(image, (img_size, img_size, 3))\n",
        "                image_array = np.asarray(image).reshape((-1, img_size, img_size, 3))\n",
        "\n",
        "                X[counter] = image_array\n",
        "                counter += 1\n",
        "                arr.append(image_name.split('.')[0])\n",
        "    sleep(0.1)\n",
        "    return X, arr"
      ],
      "execution_count": null,
      "outputs": []
    },
    {
      "cell_type": "code",
      "metadata": {
        "execution": {
          "iopub.status.busy": "2021-06-09T16:52:16.606810Z",
          "iopub.execute_input": "2021-06-09T16:52:16.607470Z",
          "iopub.status.idle": "2021-06-09T16:56:28.177551Z",
          "shell.execute_reply.started": "2021-06-09T16:52:16.607424Z",
          "shell.execute_reply": "2021-06-09T16:56:28.176345Z"
        },
        "trusted": true,
        "colab": {
          "referenced_widgets": [
            "42974b38a6e84ab5a4ee0e15b1d402ca"
          ]
        },
        "id": "PzvxvHmH40ey",
        "outputId": "0250ac42-f583-46a8-ad6e-cddb750a6fc9"
      },
      "source": [
        "test_dir = \"../input/cs412-spring-2021/nonlabeled-test2/\"\n",
        "test_len = 14500\n",
        "X_test, ids = read_test_dataset(test_dir)\n",
        "print(X_test.shape)"
      ],
      "execution_count": null,
      "outputs": [
        {
          "name": "stderr",
          "text": "/opt/conda/lib/python3.7/site-packages/ipykernel_launcher.py:5: TqdmDeprecationWarning: This function will be removed in tqdm==5.0.0\nPlease use `tqdm.notebook.tqdm` instead of `tqdm.tqdm_notebook`\n  \"\"\"\n",
          "output_type": "stream"
        },
        {
          "output_type": "display_data",
          "data": {
            "text/plain": "reading test:   0%|          | 0/1 [00:00<?, ?it/s]",
            "application/vnd.jupyter.widget-view+json": {
              "version_major": 2,
              "version_minor": 0,
              "model_id": "42974b38a6e84ab5a4ee0e15b1d402ca"
            }
          },
          "metadata": {}
        },
        {
          "name": "stdout",
          "text": "(14500, 64, 64, 3)\n",
          "output_type": "stream"
        }
      ]
    },
    {
      "cell_type": "code",
      "metadata": {
        "execution": {
          "iopub.status.busy": "2021-06-09T16:56:28.179016Z",
          "iopub.execute_input": "2021-06-09T16:56:28.179534Z",
          "iopub.status.idle": "2021-06-09T16:56:28.187670Z",
          "shell.execute_reply.started": "2021-06-09T16:56:28.179483Z",
          "shell.execute_reply": "2021-06-09T16:56:28.186212Z"
        },
        "trusted": true,
        "id": "wgzXPerE40ey"
      },
      "source": [
        "test_image_generator = tf.keras.preprocessing.image.ImageDataGenerator(\n",
        "    samplewise_center=True,\n",
        "    samplewise_std_normalization=True,\n",
        ")\n",
        "\n",
        "test_generator = test_image_generator.flow(x=X_test, batch_size=batch_size, shuffle=False)"
      ],
      "execution_count": null,
      "outputs": []
    },
    {
      "cell_type": "markdown",
      "metadata": {
        "id": "P80czRjg40ey"
      },
      "source": [
        "# **Machine Learning**"
      ]
    },
    {
      "cell_type": "markdown",
      "metadata": {
        "id": "4_HxvnRh40ez"
      },
      "source": [
        "# Hyperband"
      ]
    },
    {
      "cell_type": "code",
      "metadata": {
        "execution": {
          "iopub.status.busy": "2021-06-09T16:56:28.189544Z",
          "iopub.execute_input": "2021-06-09T16:56:28.190357Z",
          "iopub.status.idle": "2021-06-09T16:56:28.206636Z",
          "shell.execute_reply.started": "2021-06-09T16:56:28.190292Z",
          "shell.execute_reply": "2021-06-09T16:56:28.205500Z"
        },
        "trusted": true,
        "id": "s1AqSCpC40ez",
        "outputId": "5f715b4b-a7fe-4eb3-939a-ba7c47c1283f"
      },
      "source": [
        "import kerastuner\n",
        "from kerastuner import HyperModel\n",
        "\n",
        "class CNNHyperModel(HyperModel):\n",
        "    def __init__(self, input_shape, num_classes):\n",
        "        self.input_shape = input_shape\n",
        "        self.num_classes = num_classes\n",
        "\n",
        "    def build(self, hp):\n",
        "        model = keras.Sequential()\n",
        "        model.add(\n",
        "            Conv2D(\n",
        "                filters=16,\n",
        "                kernel_size=3,\n",
        "                activation=\"relu\",\n",
        "                input_shape=self.input_shape,\n",
        "            )\n",
        "        )\n",
        "        model.add(Conv2D(filters=16, activation=\"relu\", kernel_size=3))\n",
        "        model.add(MaxPooling2D(pool_size=2))\n",
        "        model.add(\n",
        "            Dropout(\n",
        "                rate=hp.Float(\n",
        "                    \"dropout_1\", min_value=0.0, max_value=0.5, default=0.25, step=0.05,\n",
        "                )\n",
        "            )\n",
        "        )\n",
        "        model.add(Conv2D(filters=32, kernel_size=3, activation=\"relu\"))\n",
        "        model.add(\n",
        "            Conv2D(\n",
        "                filters=hp.Choice(\"num_filters\", values=[32, 64], default=64,),\n",
        "                activation=\"relu\",\n",
        "                kernel_size=3,\n",
        "            )\n",
        "        )\n",
        "        model.add(MaxPooling2D(pool_size=2))\n",
        "        model.add(\n",
        "            Dropout(\n",
        "                rate=hp.Float(\n",
        "                    \"dropout_2\", min_value=0.0, max_value=0.5, default=0.25, step=0.05,\n",
        "                )\n",
        "            )\n",
        "        )\n",
        "        model.add(Flatten())\n",
        "        model.add(\n",
        "            Dense(\n",
        "                units=hp.Int(\n",
        "                    \"units\", min_value=32, max_value=512, step=32, default=128\n",
        "                ),\n",
        "                activation=hp.Choice(\n",
        "                    \"dense_activation\",\n",
        "                    values=[\"relu\", \"tanh\", \"sigmoid\"],\n",
        "                    default=\"relu\",\n",
        "                ),\n",
        "            )\n",
        "        )\n",
        "        model.add(\n",
        "            Dropout(\n",
        "                rate=hp.Float(\n",
        "                    \"dropout_3\", min_value=0.0, max_value=0.5, default=0.25, step=0.05\n",
        "                )\n",
        "            )\n",
        "        )\n",
        "        model.add(Dense(self.num_classes, activation=\"softmax\"))\n",
        "\n",
        "        model.compile(\n",
        "            optimizer=keras.optimizers.Adam(\n",
        "                hp.Float(\n",
        "                    \"learning_rate\",\n",
        "                    min_value=1e-4,\n",
        "                    max_value=1e-2,\n",
        "                    sampling=\"LOG\",\n",
        "                    default=1e-3,\n",
        "                )\n",
        "            ),\n",
        "            loss=\"sparse_categorical_crossentropy\",\n",
        "            metrics=[\"accuracy\"],\n",
        "        )\n",
        "        return model\n",
        "\n",
        "\n",
        "HYPERBAND_MAX_EPOCHS = 40\n",
        "MAX_TRIALS = 20\n",
        "EXECUTION_PER_TRIAL = 2\n",
        "\n",
        "hypermodel = CNNHyperModel(input_shape=target_dims, num_classes=29)\n",
        "\n",
        "tuner = kerastuner.tuners.hyperband.Hyperband(\n",
        "    hypermodel,\n",
        "    max_epochs=HYPERBAND_MAX_EPOCHS,\n",
        "    objective='val_accuracy',\n",
        "    executions_per_trial=EXECUTION_PER_TRIAL,\n",
        ")"
      ],
      "execution_count": null,
      "outputs": [
        {
          "execution_count": 12,
          "output_type": "execute_result",
          "data": {
            "text/plain": "'from tensorflow import keras\\nimport kerastuner\\nfrom kerastuner import HyperModel\\n\\nclass CNNHyperModel(HyperModel):\\n    def __init__(self, input_shape, num_classes):\\n        self.input_shape = input_shape\\n        self.num_classes = num_classes\\n\\n    def build(self, hp):\\n        model = keras.Sequential()\\n        model.add(\\n            Conv2D(\\n                filters=16,\\n                kernel_size=3,\\n                activation=\"relu\",\\n                input_shape=self.input_shape,\\n            )\\n        )\\n        model.add(Conv2D(filters=16, activation=\"relu\", kernel_size=3))\\n        model.add(MaxPooling2D(pool_size=2))\\n        model.add(\\n            Dropout(\\n                rate=hp.Float(\\n                    \"dropout_1\", min_value=0.0, max_value=0.5, default=0.25, step=0.05,\\n                )\\n            )\\n        )\\n        model.add(Conv2D(filters=32, kernel_size=3, activation=\"relu\"))\\n        model.add(\\n            Conv2D(\\n                filters=hp.Choice(\"num_filters\", values=[32, 64], default=64,),\\n                activation=\"relu\",\\n                kernel_size=3,\\n            )\\n        )\\n        model.add(MaxPooling2D(pool_size=2))\\n        model.add(\\n            Dropout(\\n                rate=hp.Float(\\n                    \"dropout_2\", min_value=0.0, max_value=0.5, default=0.25, step=0.05,\\n                )\\n            )\\n        )\\n        model.add(Flatten())\\n        model.add(\\n            Dense(\\n                units=hp.Int(\\n                    \"units\", min_value=32, max_value=512, step=32, default=128\\n                ),\\n                activation=hp.Choice(\\n                    \"dense_activation\",\\n                    values=[\"relu\", \"tanh\", \"sigmoid\"],\\n                    default=\"relu\",\\n                ),\\n            )\\n        )\\n        model.add(\\n            Dropout(\\n                rate=hp.Float(\\n                    \"dropout_3\", min_value=0.0, max_value=0.5, default=0.25, step=0.05\\n                )\\n            )\\n        )\\n        model.add(Dense(self.num_classes, activation=\"softmax\"))\\n\\n        model.compile(\\n            optimizer=keras.optimizers.Adam(\\n                hp.Float(\\n                    \"learning_rate\",\\n                    min_value=1e-4,\\n                    max_value=1e-2,\\n                    sampling=\"LOG\",\\n                    default=1e-3,\\n                )\\n            ),\\n            loss=\"sparse_categorical_crossentropy\",\\n            metrics=[\"accuracy\"],\\n        )\\n        return model\\n\\n\\nHYPERBAND_MAX_EPOCHS = 40\\nMAX_TRIALS = 20\\nEXECUTION_PER_TRIAL = 2\\n\\nhypermodel = CNNHyperModel(input_shape=target_dims, num_classes=29)\\n\\ntuner = kerastuner.tuners.hyperband.Hyperband(\\n    hypermodel,\\n    max_epochs=HYPERBAND_MAX_EPOCHS,\\n    objective=\\'val_accuracy\\',\\n    executions_per_trial=EXECUTION_PER_TRIAL,\\n)\\n'"
          },
          "metadata": {}
        }
      ]
    },
    {
      "cell_type": "code",
      "metadata": {
        "execution": {
          "iopub.status.busy": "2021-06-09T16:56:28.208557Z",
          "iopub.execute_input": "2021-06-09T16:56:28.209058Z",
          "iopub.status.idle": "2021-06-09T16:56:28.220519Z",
          "shell.execute_reply.started": "2021-06-09T16:56:28.209009Z",
          "shell.execute_reply": "2021-06-09T16:56:28.219189Z"
        },
        "trusted": true,
        "id": "vU6c38q_40ez"
      },
      "source": [
        "#tuner.search_space_summary()"
      ],
      "execution_count": null,
      "outputs": []
    },
    {
      "cell_type": "code",
      "metadata": {
        "execution": {
          "iopub.status.busy": "2021-06-09T16:56:28.222551Z",
          "iopub.execute_input": "2021-06-09T16:56:28.223071Z",
          "iopub.status.idle": "2021-06-09T16:56:28.232722Z",
          "shell.execute_reply.started": "2021-06-09T16:56:28.223024Z",
          "shell.execute_reply": "2021-06-09T16:56:28.231341Z"
        },
        "trusted": true,
        "id": "-bFc6__t40ez"
      },
      "source": [
        "#N_EPOCH_SEARCH = 40\n",
        "#tuner.search(X_train, y_train, epochs=N_EPOCH_SEARCH, validation_data=(X_val, y_val))"
      ],
      "execution_count": null,
      "outputs": []
    },
    {
      "cell_type": "code",
      "metadata": {
        "execution": {
          "iopub.status.busy": "2021-06-09T16:56:28.234476Z",
          "iopub.execute_input": "2021-06-09T16:56:28.235224Z",
          "iopub.status.idle": "2021-06-09T16:56:28.247947Z",
          "shell.execute_reply.started": "2021-06-09T16:56:28.235178Z",
          "shell.execute_reply": "2021-06-09T16:56:28.246800Z"
        },
        "trusted": true,
        "id": "CtOzdgcE40e0"
      },
      "source": [
        "# Show a summary of the search\n",
        "#tuner.results_summary()"
      ],
      "execution_count": null,
      "outputs": []
    },
    {
      "cell_type": "code",
      "metadata": {
        "execution": {
          "iopub.status.busy": "2021-06-09T16:56:28.249686Z",
          "iopub.execute_input": "2021-06-09T16:56:28.250174Z",
          "iopub.status.idle": "2021-06-09T16:56:28.259191Z",
          "shell.execute_reply.started": "2021-06-09T16:56:28.250129Z",
          "shell.execute_reply": "2021-06-09T16:56:28.257848Z"
        },
        "trusted": true,
        "id": "gynL7mji40e0"
      },
      "source": [
        "# Retrieve the best model\n",
        "#best_model = tuner.get_best_models(num_models=1)[0]"
      ],
      "execution_count": null,
      "outputs": []
    },
    {
      "cell_type": "markdown",
      "metadata": {
        "id": "5igfHpCH40e0"
      },
      "source": [
        "Created a model with the hyperparameters that Hyperband provided."
      ]
    },
    {
      "cell_type": "code",
      "metadata": {
        "execution": {
          "iopub.status.busy": "2021-06-09T16:56:28.261658Z",
          "iopub.execute_input": "2021-06-09T16:56:28.261995Z",
          "iopub.status.idle": "2021-06-09T16:56:30.992468Z",
          "shell.execute_reply.started": "2021-06-09T16:56:28.261950Z",
          "shell.execute_reply": "2021-06-09T16:56:30.991423Z"
        },
        "trusted": true,
        "id": "aP_VqdoJ40e0"
      },
      "source": [
        "import tensorflow as tf\n",
        "from tensorflow import keras\n",
        "from tensorflow.keras import layers\n",
        "from tensorflow.keras.layers import Conv2D\n",
        "from keras.layers.convolutional import MaxPooling2D\n",
        "from keras.layers import Flatten\n",
        "from keras.layers import Dense\n",
        "\n",
        "\n",
        "best_model =  keras.Sequential()\n",
        "best_model.add(\n",
        "    Conv2D(\n",
        "        filters=16,\n",
        "        kernel_size=3,\n",
        "        activation=\"relu\",\n",
        "        input_shape=target_dims,\n",
        "    )\n",
        ")\n",
        "best_model.add(Conv2D(filters=16, activation=\"relu\", kernel_size=3))\n",
        "best_model.add(MaxPooling2D(pool_size=2))\n",
        "best_model.add(\n",
        "    tf.keras.layers.Dropout(\n",
        "        rate=0.05\n",
        "        )\n",
        "    )\n",
        "best_model.add(Conv2D(filters=32, kernel_size=3, activation=\"relu\"))\n",
        "best_model.add(\n",
        "    Conv2D(\n",
        "        filters=64,\n",
        "        activation=\"relu\",\n",
        "        kernel_size=3,\n",
        "    )\n",
        ")\n",
        "best_model.add(MaxPooling2D(pool_size=2))\n",
        "best_model.add(\n",
        "    tf.keras.layers.Dropout(\n",
        "        rate=0.2,\n",
        "        )\n",
        "    )\n",
        "best_model.add(Flatten())\n",
        "best_model.add(\n",
        "    Dense(\n",
        "        units=384,\n",
        "        activation=\"relu\"\n",
        "        ),\n",
        "    )\n",
        "best_model.add(\n",
        "    tf.keras.layers.Dropout(\n",
        "        rate=0.25\n",
        "    )\n",
        ")\n",
        "best_model.add(Dense(29, activation=\"softmax\"))"
      ],
      "execution_count": null,
      "outputs": []
    },
    {
      "cell_type": "code",
      "metadata": {
        "execution": {
          "iopub.status.busy": "2021-06-09T16:56:30.994178Z",
          "iopub.execute_input": "2021-06-09T16:56:30.994670Z",
          "iopub.status.idle": "2021-06-09T16:56:31.011359Z",
          "shell.execute_reply.started": "2021-06-09T16:56:30.994626Z",
          "shell.execute_reply": "2021-06-09T16:56:31.008975Z"
        },
        "trusted": true,
        "id": "sYnN9nNE40e0",
        "outputId": "1ea142d0-32df-4fe0-b8e7-4f23a0af1957"
      },
      "source": [
        "best_model.summary()"
      ],
      "execution_count": null,
      "outputs": [
        {
          "name": "stdout",
          "text": "Model: \"sequential\"\n_________________________________________________________________\nLayer (type)                 Output Shape              Param #   \n=================================================================\nconv2d (Conv2D)              (None, 62, 62, 16)        448       \n_________________________________________________________________\nconv2d_1 (Conv2D)            (None, 60, 60, 16)        2320      \n_________________________________________________________________\nmax_pooling2d (MaxPooling2D) (None, 30, 30, 16)        0         \n_________________________________________________________________\ndropout (Dropout)            (None, 30, 30, 16)        0         \n_________________________________________________________________\nconv2d_2 (Conv2D)            (None, 28, 28, 32)        4640      \n_________________________________________________________________\nconv2d_3 (Conv2D)            (None, 26, 26, 64)        18496     \n_________________________________________________________________\nmax_pooling2d_1 (MaxPooling2 (None, 13, 13, 64)        0         \n_________________________________________________________________\ndropout_1 (Dropout)          (None, 13, 13, 64)        0         \n_________________________________________________________________\nflatten (Flatten)            (None, 10816)             0         \n_________________________________________________________________\ndense (Dense)                (None, 384)               4153728   \n_________________________________________________________________\ndropout_2 (Dropout)          (None, 384)               0         \n_________________________________________________________________\ndense_1 (Dense)              (None, 29)                11165     \n=================================================================\nTotal params: 4,190,797\nTrainable params: 4,190,797\nNon-trainable params: 0\n_________________________________________________________________\n",
          "output_type": "stream"
        }
      ]
    },
    {
      "cell_type": "code",
      "metadata": {
        "execution": {
          "iopub.status.busy": "2021-06-09T16:56:31.013039Z",
          "iopub.execute_input": "2021-06-09T16:56:31.013518Z",
          "iopub.status.idle": "2021-06-09T16:57:42.269678Z",
          "shell.execute_reply.started": "2021-06-09T16:56:31.013445Z",
          "shell.execute_reply": "2021-06-09T16:57:42.268473Z"
        },
        "trusted": true,
        "id": "FsFIfn1e40e1",
        "outputId": "0818220a-8229-415d-9d4d-9320b9debe80"
      },
      "source": [
        "from keras.callbacks import EarlyStopping \n",
        "\n",
        "best_model.compile(\n",
        "    optimizer=keras.optimizers.Adam(learning_rate=\n",
        "        0.000854),\n",
        "    loss=\"categorical_crossentropy\",\n",
        "    metrics=[\"accuracy\"])\n",
        "\n",
        "best_history = best_model.fit(train_generator.x, train_generator.y, epochs=40, validation_data=(val_generator.x, val_generator.y), initial_epoch=14, callbacks=EarlyStopping(monitor='val_loss',verbose=1))"
      ],
      "execution_count": null,
      "outputs": [
        {
          "name": "stdout",
          "text": "Epoch 15/40\n725/725 [==============================] - 17s 16ms/step - loss: 2.3727 - accuracy: 0.3122 - val_loss: 0.4721 - val_accuracy: 0.8462\nEpoch 16/40\n725/725 [==============================] - 11s 15ms/step - loss: 0.4690 - accuracy: 0.8468 - val_loss: 0.2230 - val_accuracy: 0.9284\nEpoch 17/40\n725/725 [==============================] - 11s 15ms/step - loss: 0.2237 - accuracy: 0.9245 - val_loss: 0.1357 - val_accuracy: 0.9550\nEpoch 18/40\n725/725 [==============================] - 11s 15ms/step - loss: 0.1352 - accuracy: 0.9549 - val_loss: 0.0891 - val_accuracy: 0.9728\nEpoch 19/40\n725/725 [==============================] - 11s 15ms/step - loss: 0.0995 - accuracy: 0.9668 - val_loss: 0.0725 - val_accuracy: 0.9753\nEpoch 20/40\n725/725 [==============================] - 10s 14ms/step - loss: 0.0778 - accuracy: 0.9742 - val_loss: 0.0754 - val_accuracy: 0.9762\nEpoch 00020: early stopping\n",
          "output_type": "stream"
        }
      ]
    },
    {
      "cell_type": "code",
      "metadata": {
        "execution": {
          "iopub.status.busy": "2021-06-09T16:57:42.271746Z",
          "iopub.execute_input": "2021-06-09T16:57:42.272239Z",
          "iopub.status.idle": "2021-06-09T16:57:42.281638Z",
          "shell.execute_reply.started": "2021-06-09T16:57:42.272192Z",
          "shell.execute_reply": "2021-06-09T16:57:42.280176Z"
        },
        "trusted": true,
        "id": "6Mk5b9Xi40e1"
      },
      "source": [
        "h= pd.DataFrame(best_history.history) "
      ],
      "execution_count": null,
      "outputs": []
    },
    {
      "cell_type": "code",
      "metadata": {
        "execution": {
          "iopub.status.busy": "2021-06-09T16:57:42.283768Z",
          "iopub.execute_input": "2021-06-09T16:57:42.284292Z",
          "iopub.status.idle": "2021-06-09T16:57:42.519512Z",
          "shell.execute_reply.started": "2021-06-09T16:57:42.284249Z",
          "shell.execute_reply": "2021-06-09T16:57:42.518059Z"
        },
        "trusted": true,
        "id": "qK6Wexiz40e1",
        "outputId": "a74ef40b-0fc1-4d08-825a-e6f9d63803b6"
      },
      "source": [
        "#Plot train & validation loss\n",
        "from matplotlib import pyplot\n",
        "import matplotlib.pyplot as plt\n",
        "\n",
        "h[[\"accuracy\", \"val_accuracy\"]].plot()\n",
        "plt.show()"
      ],
      "execution_count": null,
      "outputs": [
        {
          "output_type": "display_data",
          "data": {
            "text/plain": "<Figure size 432x288 with 1 Axes>",
            "image/png": "[encoded data removed]"
          },
          "metadata": {
            "needs_background": "light"
          }
        }
      ]
    },
    {
      "cell_type": "markdown",
      "metadata": {
        "id": "OJYm-QTk40e1"
      },
      "source": [
        "Get the best 5 models and apply majority voting among them."
      ]
    },
    {
      "cell_type": "code",
      "metadata": {
        "id": "v77ifbSN40e2"
      },
      "source": [
        "best_model = tuner.get_best_models(num_models=1)[0]\n",
        "best_model1 = tuner.get_best_models(num_models=2)[1]\n",
        "best_model2 = tuner.get_best_models(num_models=3)[2]\n",
        "best_model3 = tuner.get_best_models(num_models=4)[3]\n",
        "best_model4 = tuner.get_best_models(num_models=5)[4]\n",
        "predicts = []\n",
        "y_pred = best_model.predict(X_test)\n",
        "ypred = np.argmax(y_pred, axis = 1)\n",
        "predicts.append(ypred)\n",
        "\n",
        "y_pred = best_model1.predict(X_test)\n",
        "ypred = np.argmax(y_pred, axis = 1)\n",
        "predicts.append(ypred)\n",
        "\n",
        "y_pred = best_model2.predict(X_test)\n",
        "ypred = np.argmax(y_pred, axis = 1)\n",
        "predicts.append(ypred)\n",
        "\n",
        "y_pred = best_model3.predict(X_test)\n",
        "ypred = np.argmax(y_pred, axis = 1)\n",
        "predicts.append(ypred)\n",
        "\n",
        "y_pred = best_model4.predict(X_test)\n",
        "ypred = np.argmax(y_pred, axis = 1)\n",
        "predicts.append(ypred)\n",
        "import operator\n",
        "\n",
        "last_predict = []\n",
        "\n",
        "for i in range(7250):\n",
        "    d = {}\n",
        "\n",
        "    for j in range(5):\n",
        "        if predicts[j][i] in d :\n",
        "            d[predicts[j][i]] += 1\n",
        "        else:\n",
        "            d[predicts[j][i]] = 1\n",
        "\n",
        "\n",
        "\n",
        "    l = max(d.items(), key=operator.itemgetter(1))[0] \n",
        "    last_predict.append(l)\n",
        "\n",
        "\n",
        "\n",
        "print(last_predict)"
      ],
      "execution_count": null,
      "outputs": []
    },
    {
      "cell_type": "markdown",
      "metadata": {
        "id": "taW2dc0Q40e2"
      },
      "source": [
        "# Transfer Learning"
      ]
    },
    {
      "cell_type": "code",
      "metadata": {
        "execution": {
          "iopub.status.busy": "2021-06-09T16:57:42.521397Z",
          "iopub.execute_input": "2021-06-09T16:57:42.521832Z",
          "iopub.status.idle": "2021-06-09T16:57:44.010634Z",
          "shell.execute_reply.started": "2021-06-09T16:57:42.521787Z",
          "shell.execute_reply": "2021-06-09T16:57:44.009652Z"
        },
        "trusted": true,
        "id": "XP4urh1r40e2",
        "outputId": "4bfb86f1-db4d-473b-af6d-8f338398b0ba"
      },
      "source": [
        "model_vgg19 = tf.keras.applications.VGG19(\n",
        "    include_top=False,\n",
        "    weights=\"imagenet\",\n",
        "    input_tensor=None,\n",
        "    input_shape=target_dims,\n",
        "    pooling=None,\n",
        "    classes=29,\n",
        "    classifier_activation=\"softmax\",\n",
        ")\n",
        "\n",
        "model_vgg19.summary()"
      ],
      "execution_count": null,
      "outputs": [
        {
          "name": "stdout",
          "text": "Downloading data from https://storage.googleapis.com/tensorflow/keras-applications/vgg19/vgg19_weights_tf_dim_ordering_tf_kernels_notop.h5\n80142336/80134624 [==============================] - 1s 0us/step\nModel: \"vgg19\"\n_________________________________________________________________\nLayer (type)                 Output Shape              Param #   \n=================================================================\ninput_1 (InputLayer)         [(None, 64, 64, 3)]       0         \n_________________________________________________________________\nblock1_conv1 (Conv2D)        (None, 64, 64, 64)        1792      \n_________________________________________________________________\nblock1_conv2 (Conv2D)        (None, 64, 64, 64)        36928     \n_________________________________________________________________\nblock1_pool (MaxPooling2D)   (None, 32, 32, 64)        0         \n_________________________________________________________________\nblock2_conv1 (Conv2D)        (None, 32, 32, 128)       73856     \n_________________________________________________________________\nblock2_conv2 (Conv2D)        (None, 32, 32, 128)       147584    \n_________________________________________________________________\nblock2_pool (MaxPooling2D)   (None, 16, 16, 128)       0         \n_________________________________________________________________\nblock3_conv1 (Conv2D)        (None, 16, 16, 256)       295168    \n_________________________________________________________________\nblock3_conv2 (Conv2D)        (None, 16, 16, 256)       590080    \n_________________________________________________________________\nblock3_conv3 (Conv2D)        (None, 16, 16, 256)       590080    \n_________________________________________________________________\nblock3_conv4 (Conv2D)        (None, 16, 16, 256)       590080    \n_________________________________________________________________\nblock3_pool (MaxPooling2D)   (None, 8, 8, 256)         0         \n_________________________________________________________________\nblock4_conv1 (Conv2D)        (None, 8, 8, 512)         1180160   \n_________________________________________________________________\nblock4_conv2 (Conv2D)        (None, 8, 8, 512)         2359808   \n_________________________________________________________________\nblock4_conv3 (Conv2D)        (None, 8, 8, 512)         2359808   \n_________________________________________________________________\nblock4_conv4 (Conv2D)        (None, 8, 8, 512)         2359808   \n_________________________________________________________________\nblock4_pool (MaxPooling2D)   (None, 4, 4, 512)         0         \n_________________________________________________________________\nblock5_conv1 (Conv2D)        (None, 4, 4, 512)         2359808   \n_________________________________________________________________\nblock5_conv2 (Conv2D)        (None, 4, 4, 512)         2359808   \n_________________________________________________________________\nblock5_conv3 (Conv2D)        (None, 4, 4, 512)         2359808   \n_________________________________________________________________\nblock5_conv4 (Conv2D)        (None, 4, 4, 512)         2359808   \n_________________________________________________________________\nblock5_pool (MaxPooling2D)   (None, 2, 2, 512)         0         \n=================================================================\nTotal params: 20,024,384\nTrainable params: 20,024,384\nNon-trainable params: 0\n_________________________________________________________________\n",
          "output_type": "stream"
        }
      ]
    },
    {
      "cell_type": "code",
      "metadata": {
        "execution": {
          "iopub.status.busy": "2021-06-09T16:57:44.016567Z",
          "iopub.execute_input": "2021-06-09T16:57:44.016863Z",
          "iopub.status.idle": "2021-06-09T16:57:44.025642Z",
          "shell.execute_reply.started": "2021-06-09T16:57:44.016833Z",
          "shell.execute_reply": "2021-06-09T16:57:44.024464Z"
        },
        "trusted": true,
        "id": "zD1lu_Qz40e2"
      },
      "source": [
        "for layer in model_vgg19.layers[:-5]:\n",
        "   layer.trainable = False"
      ],
      "execution_count": null,
      "outputs": []
    },
    {
      "cell_type": "code",
      "metadata": {
        "execution": {
          "iopub.status.busy": "2021-06-09T16:57:44.029551Z",
          "iopub.execute_input": "2021-06-09T16:57:44.029860Z",
          "iopub.status.idle": "2021-06-09T18:22:57.920500Z",
          "shell.execute_reply.started": "2021-06-09T16:57:44.029831Z",
          "shell.execute_reply": "2021-06-09T18:22:57.919406Z"
        },
        "trusted": true,
        "id": "v41IkNp740e2",
        "outputId": "8ee18da1-7ade-4c79-853b-63628bdb3cf8"
      },
      "source": [
        "from tensorflow import keras\n",
        "from tensorflow.keras import layers\n",
        "img_shape = train_generator.x.shape[1:] #32,32,3\n",
        "num_classes = train_generator.y.shape[1]\n",
        "\n",
        "\n",
        "#Create your own input format\n",
        "keras_input = Input(shape=img_shape, name = 'image_input')\n",
        "\n",
        "#Use the generated model \n",
        "output_vgg = model_vgg19(keras_input)\n",
        "\n",
        "# Add the fully-connected layers \n",
        "My_Vgg = layers.Flatten(name='flatten')(output_vgg)\n",
        "My_Vgg = layers.Dense(256, activation='relu', name='fc1')(My_Vgg)\n",
        "My_Vgg = layers.Dense(64, activation='relu', name='fc2')(My_Vgg)\n",
        "My_Vgg = layers.Dense(29, activation='softmax', name='predictions')(My_Vgg)\n",
        "\n",
        "callback = tf.keras.callbacks.EarlyStopping(monitor='loss', patience=3)\n",
        "\n",
        "#Create your own model \n",
        "transfer_model = Model(inputs=keras_input, outputs=My_Vgg)\n",
        "transfer_model.compile(loss='categorical_crossentropy', optimizer='sgd', metrics=['accuracy'])\n",
        "\n",
        "# Train the model\n",
        "import datetime\n",
        "start_time = datetime.datetime.now().strftime('%Y_%m_%d_%H_%M_%S')\n",
        "\n",
        "transfer_history = transfer_model.fit(train_generator.x, train_generator.y, batch_size=batch_size, callbacks= tf.keras.callbacks.ReduceLROnPlateau(monitor='val_acc', factor=0.2, patience=5, verbose=1, mode='auto'), epochs=15, validation_data=(val_generator.x, val_generator.y))\n"
      ],
      "execution_count": null,
      "outputs": [
        {
          "name": "stdout",
          "text": "Epoch 1/15\n725/725 [==============================] - 344s 472ms/step - loss: 1.8795 - accuracy: 0.4623 - val_loss: 0.2171 - val_accuracy: 0.9228\nEpoch 2/15\n725/725 [==============================] - 341s 470ms/step - loss: 0.1867 - accuracy: 0.9427 - val_loss: 0.0642 - val_accuracy: 0.9778\nEpoch 3/15\n725/725 [==============================] - 341s 470ms/step - loss: 0.0587 - accuracy: 0.9824 - val_loss: 0.4592 - val_accuracy: 0.8498\nEpoch 4/15\n725/725 [==============================] - 341s 470ms/step - loss: 0.1001 - accuracy: 0.9720 - val_loss: 0.0723 - val_accuracy: 0.9743\nEpoch 5/15\n725/725 [==============================] - 341s 470ms/step - loss: 0.0242 - accuracy: 0.9924 - val_loss: 0.0134 - val_accuracy: 0.9969\nEpoch 6/15\n725/725 [==============================] - 341s 470ms/step - loss: 0.0139 - accuracy: 0.9969 - val_loss: 0.0110 - val_accuracy: 0.9967\nEpoch 7/15\n725/725 [==============================] - 341s 470ms/step - loss: 0.0063 - accuracy: 0.9984 - val_loss: 0.0087 - val_accuracy: 0.9969\nEpoch 8/15\n725/725 [==============================] - 341s 470ms/step - loss: 0.0150 - accuracy: 0.9961 - val_loss: 0.0076 - val_accuracy: 0.9969\nEpoch 9/15\n725/725 [==============================] - 341s 470ms/step - loss: 0.0013 - accuracy: 0.9998 - val_loss: 0.0058 - val_accuracy: 0.9974\nEpoch 10/15\n725/725 [==============================] - 341s 470ms/step - loss: 0.0010 - accuracy: 0.9999 - val_loss: 0.0353 - val_accuracy: 0.9888\nEpoch 11/15\n725/725 [==============================] - 341s 470ms/step - loss: 0.0019 - accuracy: 0.9998 - val_loss: 0.0037 - val_accuracy: 0.9984\nEpoch 12/15\n725/725 [==============================] - 341s 470ms/step - loss: 2.3000e-04 - accuracy: 1.0000 - val_loss: 0.0037 - val_accuracy: 0.9984\nEpoch 13/15\n725/725 [==============================] - 341s 470ms/step - loss: 1.5562e-04 - accuracy: 1.0000 - val_loss: 0.0035 - val_accuracy: 0.9983\nEpoch 14/15\n725/725 [==============================] - 341s 470ms/step - loss: 1.2793e-04 - accuracy: 1.0000 - val_loss: 0.0038 - val_accuracy: 0.9981\nEpoch 15/15\n725/725 [==============================] - 340s 470ms/step - loss: 1.1174e-04 - accuracy: 1.0000 - val_loss: 0.0036 - val_accuracy: 0.9983\n",
          "output_type": "stream"
        }
      ]
    },
    {
      "cell_type": "code",
      "metadata": {
        "execution": {
          "iopub.status.busy": "2021-06-09T18:22:57.924293Z",
          "iopub.execute_input": "2021-06-09T18:22:57.924651Z",
          "iopub.status.idle": "2021-06-09T18:22:57.931123Z",
          "shell.execute_reply.started": "2021-06-09T18:22:57.924622Z",
          "shell.execute_reply": "2021-06-09T18:22:57.929542Z"
        },
        "trusted": true,
        "id": "Bra_khRp40e3"
      },
      "source": [
        "h= pd.DataFrame(transfer_history.history) "
      ],
      "execution_count": null,
      "outputs": []
    },
    {
      "cell_type": "code",
      "metadata": {
        "execution": {
          "iopub.status.busy": "2021-06-09T18:22:57.933067Z",
          "iopub.execute_input": "2021-06-09T18:22:57.933849Z",
          "iopub.status.idle": "2021-06-09T18:22:58.141114Z",
          "shell.execute_reply.started": "2021-06-09T18:22:57.933807Z",
          "shell.execute_reply": "2021-06-09T18:22:58.139786Z"
        },
        "trusted": true,
        "id": "1M9xiBKU40e3",
        "outputId": "ccf44f8a-b4fe-4bac-f458-658c7127fd87"
      },
      "source": [
        "#Plot train & validation loss\n",
        "from matplotlib import pyplot\n",
        "import matplotlib.pyplot as plt\n",
        "\n",
        "h[[\"accuracy\", \"val_accuracy\"]].plot()\n",
        "plt.show()"
      ],
      "execution_count": null,
      "outputs": [
        {
          "output_type": "display_data",
          "data": {
            "text/plain": "<Figure size 432x288 with 1 Axes>",
            "image/png": "[encoded data removed]"
          },
          "metadata": {
            "needs_background": "light"
          }
        }
      ]
    },
    {
      "cell_type": "markdown",
      "metadata": {
        "id": "tZZHJ06X40e3"
      },
      "source": [
        "# Prediction"
      ]
    },
    {
      "cell_type": "code",
      "metadata": {
        "execution": {
          "iopub.status.busy": "2021-06-09T18:23:39.401487Z",
          "iopub.execute_input": "2021-06-09T18:23:39.401922Z",
          "iopub.status.idle": "2021-06-09T18:26:26.711687Z",
          "shell.execute_reply.started": "2021-06-09T18:23:39.401892Z",
          "shell.execute_reply": "2021-06-09T18:26:26.710524Z"
        },
        "trusted": true,
        "id": "IWLP-Qo-40e3",
        "outputId": "56521992-97a5-4abe-8504-456af282f02b"
      },
      "source": [
        "#Evaluate on test data\n",
        "y_pred = transfer_model.predict(test_generator.x)\n",
        "ypred = np.argmax(y_pred, axis = 1)\n",
        "print(ypred)"
      ],
      "execution_count": null,
      "outputs": [
        {
          "name": "stdout",
          "text": "[21 12  6 ... 23 23 23]\n",
          "output_type": "stream"
        }
      ]
    },
    {
      "cell_type": "code",
      "metadata": {
        "execution": {
          "iopub.status.busy": "2021-06-09T18:26:40.021801Z",
          "iopub.execute_input": "2021-06-09T18:26:40.022192Z",
          "iopub.status.idle": "2021-06-09T18:26:40.144592Z",
          "shell.execute_reply.started": "2021-06-09T18:26:40.022142Z",
          "shell.execute_reply": "2021-06-09T18:26:40.143536Z"
        },
        "trusted": true,
        "id": "_qJ21AyN40e3",
        "outputId": "69a98af0-c8fa-4772-dd1c-8ad92270bbdd"
      },
      "source": [
        "y_pred_cat = []\n",
        "for x in ypred:\n",
        "    listOfKeys = list(labels.keys())[list(labels.values()).index(x)]\n",
        "    if len(listOfKeys) > 1:\n",
        "        y_pred_cat.append(listOfKeys.lower())\n",
        "    else:\n",
        "        y_pred_cat.append(listOfKeys.upper())\n",
        "print(y_pred_cat)"
      ],
      "execution_count": null,
      "outputs": [
        {
          "name": "stdout",
          "text": "['V', 'M', 'G', 'N', 'A', 'L', 'X', 'space', 'I', 'S', 'E', 'X', 'O', 'W', 'E', 'V', 'C', 'X', 'M', 'G', 'W', 'V', 'I', 'space', 'D', 'F', 'K', 'W', 'N', 'del', 'F', 'C', 'K', 'H', 'H', 'N', 'G', 'B', 'R', 'G', 'nothing', 'F', 'R', 'V', 'nothing', 'Q', 'O', 'V', 'D', 'C', 'X', 'W', 'A', 'W', 'J', 'Y', 'X', 'A', 'O', 'O', 'C', 'K', 'N', 'H', 'U', 'Y', 'M', 'Q', 'Z', 'nothing', 'I', 'F', 'N', 'P', 'nothing', 'Z', 'W', 'E', 'W', 'A', 'W', 'D', 'Z', 'E', 'P', 'D', 'X', 'F', 'T', 'I', 'W', 'space', 'L', 'U', 'M', 'nothing', 'B', 'K', 'I', 'K', 'H', 'F', 'P', 'W', 'K', 'U', 'Z', 'Z', 'N', 'space', 'Q', 'Z', 'P', 'I', 'M', 'R', 'H', 'Q', 'G', 'L', 'Q', 'R', 'del', 'del', 'H', 'D', 'N', 'D', 'nothing', 'M', 'C', 'V', 'nothing', 'Y', 'space', 'O', 'Q', 'A', 'W', 'I', 'F', 'R', 'O', 'Z', 'del', 'F', 'N', 'del', 'K', 'Q', 'I', 'D', 'L', 'W', 'D', 'J', 'D', 'J', 'C', 'D', 'nothing', 'N', 'U', 'nothing', 'Z', 'Z', 'W', 'Z', 'K', 'J', 'P', 'J', 'U', 'nothing', 'S', 'J', 'del', 'X', 'Y', 'A', 'K', 'D', 'T', 'I', 'C', 'D', 'H', 'X', 'G', 'L', 'F', 'C', 'D', 'del', 'C', 'F', 'R', 'X', 'S', 'M', 'A', 'E', 'X', 'S', 'X', 'Y', 'N', 'D', 'Y', 'U', 'O', 'K', 'M', 'E', 'M', 'O', 'S', 'T', 'W', 'W', 'V', 'S', 'Z', 'I', 'O', 'E', 'R', 'O', 'B', 'S', 'V', 'M', 'space', 'L', 'F', 'Z', 'X', 'P', 'C', 'V', 'N', 'H', 'V', 'U', 'Q', 'M', 'V', 'W', 'R', 'M', 'O', 'X', 'U', 'C', 'B', 'Q', 'T', 'W', 'D', 'W', 'B', 'Q', 'nothing', 'H', 'space', 'A', 'Z', 'P', 'S', 'V', 'D', 'W', 'K', 'K', 'T', 'N', 'V', 'U', 'del', 'B', 'C', 'E', 'D', 'U', 'A', 'M', 'S', 'G', 'S', 'N', 'nothing', 'P', 'W', 'M', 'V', 'D', 'T', 'K', 'Y', 'L', 'Y', 'Y', 'X', 'Q', 'E', 'space', 'T', 'C', 'F', 'D', 'P', 'nothing', 'del', 'W', 'M', 'C', 'M', 'B', 'Z', 'L', 'T', 'W', 'R', 'I', 'G', 'P', 'B', 'R', 'W', 'F', 'C', 'U', 'D', 'Z', 'G', 'S', 'W', 'U', 'E', 'C', 'L', 'Z', 'nothing', 'N', 'Y', 'M', 'Q', 'B', 'P', 'G', 'B', 'Q', 'K', 'T', 'G', 'I', 'B', 'V', 'L', 'V', 'M', 'K', 'I', 'C', 'Y', 'M', 'W', 'Q', 'F', 'P', 'P', 'I', 'A', 'F', 'O', 'Q', 'G', 'I', 'V', 'Q', 'I', 'V', 'J', 'C', 'Q', 'K', 'R', 'C', 'V', 'H', 'O', 'Z', 'I', 'G', 'Y', 'Q', 'G', 'E', 'I', 'R', 'J', 'P', 'M', 'D', 'Y', 'del', 'A', 'M', 'B', 'B', 'space', 'del', 'T', 'M', 'G', 'V', 'M', 'E', 'del', 'K', 'Z', 'H', 'J', 'I', 'G', 'J', 'M', 'R', 'Q', 'E', 'Q', 'M', 'I', 'Z', 'V', 'H', 'P', 'G', 'S', 'del', 'H', 'D', 'del', 'K', 'nothing', 'B', 'I', 'I', 'T', 'W', 'F', 'space', 'G', 'S', 'L', 'I', 'S', 'J', 'S', 'S', 'H', 'space', 'P', 'Z', 'H', 'Y', 'T', 'M', 'C', 'P', 'G', 'I', 'W', 'V', 'U', 'space', 'M', 'nothing', 'Y', 'E', 'Y', 'K', 'T', 'E', 'C', 'V', 'R', 'U', 'nothing', 'nothing', 'R', 'R', 'G', 'O', 'del', 'space', 'I', 'Y', 'N', 'N', 'P', 'V', 'K', 'S', 'F', 'L', 'G', 'E', 'del', 'D', 'Y', 'E', 'U', 'U', 'S', 'space', 'G', 'nothing', 'R', 'P', 'G', 'K', 'V', 'W', 'X', 'S', 'O', 'B', 'del', 'F', 'Y', 'E', 'R', 'space', 'Y', 'H', 'del', 'H', 'K', 'H', 'F', 'F', 'R', 'nothing', 'Z', 'T', 'Y', 'A', 'I', 'R', 'K', 'del', 'space', 'J', 'E', 'del', 'A', 'K', 'nothing', 'Z', 'F', 'I', 'H', 'F', 'X', 'T', 'B', 'Z', 'V', 'V', 'P', 'nothing', 'O', 'E', 'Z', 'S', 'T', 'Y', 'del', 'R', 'del', 'B', 'L', 'L', 'O', 'T', 'R', 'M', 'O', 'Y', 'D', 'V', 'R', 'V', 'K', 'L', 'I', 'T', 'L', 'A', 'V', 'M', 'O', 'T', 'J', 'P', 'E', 'P', 'del', 'space', 'E', 'W', 'K', 'E', 'P', 'B', 'E', 'F', 'P', 'J', 'Z', 'P', 'J', 'C', 'K', 'C', 'K', 'G', 'V', 'I', 'M', 'B', 'V', 'X', 'B', 'M', 'G', 'space', 'B', 'W', 'I', 'A', 'T', 'I', 'M', 'H', 'S', 'Q', 'Z', 'U', 'J', 'D', 'V', 'X', 'Q', 'M', 'K', 'O', 'D', 'R', 'L', 'D', 'D', 'X', 'Y', 'U', 'G', 'L', 'F', 'B', 'P', 'F', 'H', 'T', 'G', 'del', 'space', 'X', 'M', 'T', 'K', 'J', 'D', 'O', 'nothing', 'M', 'R', 'C', 'B', 'C', 'E', 'Z', 'W', 'Z', 'O', 'J', 'A', 'del', 'Z', 'E', 'space', 'Z', 'S', 'P', 'U', 'nothing', 'H', 'A', 'M', 'G', 'V', 'Z', 'C', 'H', 'S', 'L', 'Z', 'C', 'J', 'Y', 'K', 'U', 'F', 'nothing', 'K', 'L', 'W', 'T', 'W', 'E', 'H', 'O', 'M', 'C', 'D', 'W', 'D', 'G', 'space', 'D', 'X', 'del', 'K', 'Q', 'G', 'E', 'D', 'K', 'R', 'del', 'W', 'F', 'H', 'M', 'R', 'S', 'Z', 'V', 'E', 'R', 'N', 'Y', 'L', 'I', 'F', 'X', 'Q', 'nothing', 'I', 'G', 'W', 'X', 'G', 'I', 'L', 'B', 'G', 'A', 'V', 'A', 'S', 'R', 'G', 'M', 'J', 'V', 'D', 'P', 'R', 'N', 'del', 'space', 'G', 'space', 'K', 'W', 'J', 'P', 'D', 'V', 'B', 'A', 'space', 'X', 'P', 'K', 'H', 'P', 'C', 'B', 'del', 'Q', 'Z', 'S', 'P', 'S', 'S', 'space', 'space', 'E', 'del', 'I', 'U', 'nothing', 'F', 'Y', 'W', 'G', 'Y', 'X', 'P', 'Y', 'X', 'F', 'X', 'B', 'A', 'nothing', 'nothing', 'E', 'V', 'E', 'space', 'Y', 'G', 'E', 'F', 'G', 'D', 'P', 'K', 'W', 'W', 'H', 'C', 'U', 'G', 'X', 'T', 'W', 'O', 'E', 'Y', 'V', 'L', 'T', 'Q', 'U', 'A', 'P', 'U', 'X', 'A', 'H', 'V', 'space', 'T', 'C', 'S', 'A', 'O', 'I', 'M', 'del', 'W', 'C', 'N', 'W', 'space', 'X', 'W', 'E', 'S', 'Z', 'Q', 'H', 'W', 'E', 'K', 'A', 'del', 'K', 'A', 'L', 'B', 'M', 'F', 'R', 'K', 'space', 'P', 'E', 'nothing', 'P', 'S', 'K', 'G', 'Y', 'J', 'W', 'Y', 'T', 'Z', 'del', 'S', 'A', 'I', 'H', 'G', 'S', 'J', 'N', 'del', 'del', 'U', 'M', 'F', 'R', 'C', 'A', 'Q', 'N', 'P', 'G', 'D', 'L', 'K', 'O', 'U', 'A', 'U', 'A', 'N', 'H', 'J', 'U', 'C', 'nothing', 'I', 'H', 'I', 'L', 'M', 'X', 'F', 'N', 'Y', 'nothing', 'Q', 'L', 'G', 'space', 'L', 'D', 'E', 'O', 'space', 'A', 'H', 'Z', 'space', 'Q', 'T', 'P', 'space', 'W', 'L', 'O', 'N', 'M', 'W', 'R', 'K', 'A', 'Z', 'M', 'K', 'Z', 'del', 'P', 'Y', 'space', 'Y', 'Y', 'Y', 'C', 'space', 'D', 'R', 'C', 'P', 'Y', 'W', 'Z', 'W', 'Y', 'N', 'O', 'S', 'I', 'V', 'C', 'C', 'del', 'N', 'Z', 'O', 'B', 'W', 'B', 'G', 'V', 'X', 'space', 'I', 'N', 'C', 'nothing', 'Z', 'C', 'D', 'D', 'B', 'T', 'I', 'Z', 'L', 'Z', 'O', 'H', 'V', 'T', 'A', 'E', 'A', 'A', 'L', 'del', 'N', 'R', 'T', 'R', 'T', 'P', 'R', 'W', 'M', 'N', 'W', 'X', 'space', 'W', 'V', 'X', 'B', 'X', 'R', 'B', 'G', 'N', 'G', 'M', 'H', 'nothing', 'nothing', 'Z', 'M', 'D', 'P', 'U', 'X', 'U', 'B', 'Q', 'E', 'space', 'G', 'Y', 'Z', 'L', 'L', 'L', 'F', 'H', 'F', 'G', 'Z', 'F', 'Y', 'T', 'W', 'M', 'N', 'M', 'R', 'M', 'J', 'F', 'S', 'R', 'Z', 'F', 'L', 'nothing', 'space', 'Z', 'Y', 'A', 'P', 'C', 'C', 'P', 'A', 'del', 'E', 'M', 'W', 'space', 'R', 'H', 'V', 'V', 'D', 'V', 'F', 'nothing', 'I', 'Q', 'E', 'X', 'N', 'X', 'del', 'I', 'D', 'T', 'K', 'space', 'nothing', 'space', 'T', 'Q', 'nothing', 'M', 'U', 'N', 'M', 'E', 'F', 'C', 'nothing', 'I', 'I', 'A', 'H', 'Z', 'D', 'Q', 'D', 'Y', 'V', 'G', 'L', 'H', 'X', 'C', 'W', 'T', 'Z', 'Z', 'A', 'A', 'S', 'R', 'V', 'L', 'M', 'D', 'M', 'A', 'X', 'X', 'space', 'A', 'K', 'B', 'D', 'M', 'space', 'W', 'D', 'N', 'W', 'F', 'W', 'L', 'nothing', 'F', 'N', 'D', 'F', 'Y', 'K', 'S', 'F', 'R', 'T', 'V', 'W', 'Y', 'H', 'R', 'X', 'U', 'A', 'T', 'C', 'M', 'A', 'F', 'Q', 'P', 'G', 'W', 'R', 'U', 'space', 'P', 'K', 'M', 'J', 'F', 'A', 'Q', 'Z', 'J', 'O', 'Y', 'E', 'C', 'Q', 'F', 'W', 'space', 'Y', 'D', 'T', 'U', 'O', 'V', 'C', 'Y', 'R', 'O', 'F', 'J', 'K', 'C', 'E', 'B', 'E', 'V', 'J', 'C', 'A', 'T', 'nothing', 'L', 'B', 'W', 'V', 'F', 'R', 'X', 'V', 'L', 'D', 'I', 'T', 'X', 'D', 'Z', 'S', 'space', 'K', 'J', 'K', 'S', 'D', 'K', 'G', 'N', 'G', 'S', 'C', 'X', 'J', 'D', 'A', 'W', 'H', 'U', 'Q', 'nothing', 'X', 'C', 'N', 'R', 'Z', 'I', 'N', 'B', 'B', 'I', 'Y', 'A', 'I', 'C', 'del', 'D', 'G', 'W', 'Z', 'D', 'N', 'C', 'J', 'Y', 'B', 'M', 'R', 'J', 'J', 'T', 'U', 'M', 'O', 'G', 'E', 'F', 'V', 'K', 'J', 'H', 'Q', 'D', 'F', 'L', 'R', 'P', 'H', 'C', 'U', 'B', 'L', 'L', 'del', 'K', 'space', 'U', 'K', 'X', 'D', 'N', 'F', 'nothing', 'F', 'F', 'D', 'U', 'V', 'O', 'J', 'L', 'del', 'B', 'U', 'nothing', 'T', 'D', 'F', 'F', 'Q', 'I', 'X', 'K', 'L', 'T', 'U', 'space', 'P', 'O', 'Y', 'C', 'Y', 'K', 'E', 'J', 'R', 'X', 'M', 'del', 'Z', 'K', 'P', 'P', 'Y', 'B', 'I', 'I', 'space', 'O', 'W', 'F', 'X', 'A', 'del', 'B', 'Q', 'A', 'P', 'H', 'R', 'F', 'P', 'K', 'S', 'E', 'Q', 'T', 'Q', 'J', 'Q', 'P', 'C', 'N', 'M', 'H', 'E', 'R', 'M', 'S', 'S', 'T', 'A', 'V', 'H', 'A', 'T', 'I', 'U', 'O', 'H', 'P', 'Q', 'D', 'Y', 'Q', 'M', 'X', 'K', 'G', 'W', 'K', 'X', 'X', 'P', 'B', 'T', 'P', 'nothing', 'space', 'L', 'Y', 'V', 'space', 'M', 'nothing', 'A', 'O', 'D', 'W', 'W', 'V', 'P', 'J', 'L', 'T', 'del', 'nothing', 'Q', 'J', 'Z', 'D', 'X', 'M', 'T', 'D', 'B', 'V', 'T', 'P', 'A', 'O', 'B', 'Q', 'U', 'A', 'S', 'nothing', 'G', 'S', 'F', 'H', 'J', 'S', 'V', 'A', 'G', 'M', 'L', 'nothing', 'R', 'F', 'space', 'Z', 'X', 'nothing', 'Q', 'Y', 'C', 'Q', 'D', 'W', 'L', 'E', 'C', 'nothing', 'space', 'O', 'X', 'G', 'N', 'C', 'space', 'T', 'O', 'P', 'T', 'nothing', 'F', 'X', 'R', 'J', 'W', 'P', 'Z', 'R', 'I', 'C', 'C', 'W', 'E', 'nothing', 'I', 'X', 'W', 'Z', 'L', 'T', 'M', 'H', 'W', 'L', 'S', 'S', 'J', 'Z', 'H', 'N', 'V', 'P', 'C', 'N', 'B', 'space', 'P', 'E', 'S', 'D', 'T', 'P', 'T', 'U', 'T', 'P', 'O', 'V', 'D', 'Z', 'C', 'R', 'V', 'Z', 'T', 'T', 'B', 'N', 'A', 'W', 'J', 'N', 'V', 'N', 'V', 'M', 'Q', 'A', 'U', 'Y', 'I', 'A', 'S', 'D', 'Z', 'space', 'nothing', 'nothing', 'W', 'A', 'Q', 'A', 'Y', 'N', 'R', 'C', 'H', 'nothing', 'L', 'Y', 'R', 'J', 'J', 'P', 'O', 'V', 'C', 'N', 'H', 'Z', 'T', 'V', 'K', 'X', 'del', 'S', 'space', 'U', 'C', 'N', 'del', 'del', 'J', 'E', 'V', 'F', 'R', 'N', 'V', 'D', 'F', 'T', 'O', 'K', 'space', 'Z', 'F', 'Z', 'nothing', 'D', 'Z', 'I', 'I', 'W', 'U', 'space', 'S', 'M', 'Z', 'N', 'U', 'M', 'del', 'B', 'F', 'M', 'V', 'K', 'I', 'Q', 'X', 'G', 'F', 'D', 'del', 'del', 'I', 'Y', 'X', 'S', 'Q', 'O', 'N', 'M', 'nothing', 'V', 'A', 'G', 'W', 'Z', 'X', 'V', 'Q', 'nothing', 'X', 'L', 'R', 'S', 'R', 'Q', 'S', 'Q', 'G', 'Y', 'S', 'G', 'V', 'L', 'W', 'space', 'G', 'X', 'C', 'del', 'S', 'Y', 'A', 'F', 'R', 'M', 'Y', 'space', 'S', 'nothing', 'I', 'B', 'F', 'U', 'nothing', 'S', 'del', 'S', 'W', 'X', 'A', 'D', 'nothing', 'G', 'W', 'Q', 'S', 'O', 'R', 'C', 'M', 'B', 'nothing', 'J', 'H', 'G', 'A', 'E', 'S', 'N', 'Y', 'S', 'L', 'space', 'Z', 'O', 'K', 'M', 'O', 'J', 'G', 'S', 'N', 'W', 'space', 'M', 'Z', 'U', 'P', 'B', 'N', 'U', 'W', 'J', 'G', 'B', 'Y', 'B', 'U', 'G', 'N', 'F', 'F', 'H', 'H', 'space', 'E', 'Q', 'O', 'M', 'A', 'Z', 'G', 'J', 'D', 'H', 'Z', 'U', 'B', 'H', 'W', 'X', 'del', 'C', 'D', 'nothing', 'space', 'N', 'C', 'B', 'E', 'T', 'R', 'M', 'nothing', 'U', 'nothing', 'U', 'E', 'F', 'V', 'U', 'C', 'X', 'R', 'R', 'E', 'R', 'space', 'M', 'X', 'E', 'space', 'Z', 'J', 'Q', 'A', 'space', 'B', 'Q', 'B', 'W', 'G', 'Q', 'E', 'N', 'P', 'W', 'L', 'Q', 'N', 'J', 'L', 'Z', 'E', 'G', 'G', 'E', 'L', 'T', 'F', 'space', 'K', 'C', 'del', 'del', 'T', 'Q', 'F', 'G', 'A', 'W', 'X', 'I', 'B', 'W', 'F', 'P', 'G', 'S', 'J', 'F', 'Q', 'Y', 'space', 'C', 'A', 'C', 'X', 'B', 'B', 'M', 'O', 'space', 'B', 'Y', 'X', 'M', 'Q', 'Z', 'E', 'S', 'L', 'B', 'R', 'D', 'G', 'A', 'C', 'J', 'I', 'nothing', 'A', 'R', 'Q', 'X', 'Q', 'del', 'nothing', 'space', 'W', 'Q', 'K', 'T', 'O', 'C', 'H', 'D', 'I', 'D', 'X', 'V', 'V', 'G', 'F', 'O', 'T', 'T', 'M', 'S', 'O', 'O', 'nothing', 'B', 'M', 'R', 'K', 'C', 'S', 'F', 'H', 'R', 'P', 'Q', 'X', 'P', 'Y', 'H', 'V', 'Y', 'F', 'Y', 'A', 'del', 'C', 'B', 'X', 'B', 'N', 'M', 'V', 'G', 'Y', 'V', 'X', 'F', 'D', 'F', 'K', 'S', 'X', 'A', 'B', 'space', 'D', 'N', 'K', 'H', 'B', 'J', 'nothing', 'B', 'S', 'del', 'nothing', 'B', 'P', 'del', 'D', 'N', 'space', 'Q', 'S', 'W', 'D', 'V', 'T', 'I', 'W', 'J', 'Q', 'A', 'O', 'X', 'M', 'X', 'nothing', 'O', 'N', 'R', 'J', 'P', 'T', 'A', 'U', 'K', 'U', 'W', 'B', 'E', 'space', 'R', 'del', 'nothing', 'A', 'A', 'P', 'V', 'N', 'U', 'S', 'K', 'D', 'V', 'W', 'C', 'V', 'W', 'B', 'M', 'Z', 'U', 'Z', 'U', 'L', 'M', 'Q', 'M', 'J', 'P', 'U', 'space', 'D', 'H', 'O', 'S', 'E', 'W', 'nothing', 'B', 'H', 'E', 'Y', 'H', 'X', 'L', 'H', 'F', 'J', 'T', 'nothing', 'Q', 'F', 'Y', 'N', 'K', 'J', 'R', 'C', 'F', 'Y', 'S', 'nothing', 'L', 'X', 'G', 'T', 'C', 'W', 'T', 'S', 'A', 'B', 'space', 'Z', 'W', 'J', 'R', 'R', 'C', 'E', 'U', 'M', 'M', 'Y', 'A', 'C', 'H', 'nothing', 'Y', 'L', 'Y', 'Z', 'H', 'P', 'H', 'I', 'I', 'B', 'K', 'space', 'A', 'P', 'R', 'space', 'X', 'space', 'E', 'U', 'J', 'W', 'A', 'A', 'C', 'O', 'B', 'nothing', 'E', 'J', 'I', 'A', 'E', 'M', 'space', 'Z', 'L', 'V', 'K', 'L', 'P', 'M', 'H', 'I', 'nothing', 'S', 'P', 'Z', 'T', 'U', 'W', 'F', 'A', 'V', 'space', 'U', 'Q', 'B', 'C', 'L', 'C', 'A', 'space', 'Q', 'C', 'T', 'J', 'R', 'G', 'A', 'del', 'nothing', 'R', 'B', 'X', 'G', 'T', 'Z', 'I', 'O', 'U', 'F', 'A', 'space', 'X', 'H', 'X', 'del', 'Q', 'R', 'Y', 'N', 'V', 'Q', 'M', 'B', 'R', 'R', 'C', 'L', 'F', 'M', 'J', 'A', 'E', 'U', 'O', 'Z', 'N', 'Z', 'Y', 'S', 'D', 'J', 'H', 'S', 'M', 'I', 'C', 'O', 'C', 'B', 'L', 'L', 'Y', 'N', 'space', 'Y', 'A', 'V', 'O', 'space', 'O', 'U', 'R', 'space', 'X', 'M', 'H', 'Q', 'O', 'O', 'Q', 'C', 'M', 'C', 'D', 'Y', 'V', 'S', 'U', 'L', 'D', 'R', 'space', 'I', 'I', 'R', 'L', 'L', 'Y', 'space', 'D', 'X', 'del', 'Y', 'L', 'G', 'B', 'D', 'N', 'O', 'I', 'D', 'G', 'Y', 'space', 'L', 'P', 'L', 'T', 'W', 'R', 'I', 'J', 'Z', 'J', 'T', 'O', 'del', 'space', 'A', 'nothing', 'J', 'G', 'D', 'nothing', 'J', 'space', 'Z', 'J', 'E', 'E', 'J', 'X', 'Z', 'G', 'H', 'A', 'H', 'E', 'W', 'B', 'Y', 'Q', 'T', 'D', 'J', 'W', 'N', 'L', 'A', 'B', 'L', 'I', 'I', 'R', 'R', 'E', 'V', 'K', 'W', 'K', 'K', 'U', 'space', 'J', 'I', 'I', 'del', 'M', 'J', 'H', 'Q', 'Q', 'O', 'A', 'G', 'S', 'R', 'X', 'H', 'Y', 'S', 'N', 'del', 'S', 'nothing', 'R', 'F', 'V', 'H', 'U', 'F', 'K', 'space', 'C', 'nothing', 'nothing', 'E', 'V', 'space', 'G', 'P', 'K', 'K', 'U', 'F', 'C', 'A', 'J', 'space', 'A', 'B', 'M', 'N', 'I', 'T', 'N', 'D', 'K', 'M', 'D', 'I', 'L', 'V', 'N', 'del', 'O', 'F', 'X', 'L', 'O', 'W', 'N', 'A', 'U', 'del', 'P', 'L', 'P', 'L', 'S', 'H', 'W', 'I', 'C', 'P', 'Z', 'V', 'J', 'S', 'N', 'J', 'T', 'R', 'I', 'M', 'nothing', 'D', 'V', 'E', 'O', 'Q', 'X', 'Y', 'J', 'M', 'J', 'D', 'U', 'Y', 'nothing', 'R', 'K', 'G', 'Y', 'Z', 'E', 'T', 'P', 'M', 'V', 'B', 'space', 'Z', 'P', 'D', 'B', 'A', 'R', 'K', 'V', 'L', 'X', 'K', 'Q', 'space', 'J', 'J', 'K', 'K', 'O', 'R', 'D', 'G', 'nothing', 'I', 'J', 'T', 'M', 'F', 'X', 'nothing', 'O', 'B', 'Q', 'D', 'S', 'D', 'N', 'I', 'N', 'I', 'E', 'J', 'R', 'del', 'L', 'X', 'B', 'Y', 'I', 'G', 'B', 'K', 'O', 'Q', 'P', 'X', 'S', 'Q', 'D', 'B', 'C', 'A', 'W', 'B', 'X', 'C', 'Q', 'E', 'A', 'A', 'Y', 'F', 'N', 'N', 'Z', 'O', 'Z', 'F', 'R', 'W', 'E', 'K', 'U', 'del', 'I', 'W', 'I', 'N', 'space', 'H', 'space', 'I', 'del', 'S', 'del', 'V', 'L', 'P', 'I', 'C', 'K', 'O', 'space', 'X', 'D', 'I', 'Y', 'W', 'Z', 'E', 'Y', 'N', 'Q', 'Y', 'W', 'Q', 'J', 'C', 'X', 'Y', 'K', 'del', 'W', 'G', 'W', 'H', 'X', 'N', 'U', 'Z', 'nothing', 'Z', 'C', 'V', 'F', 'O', 'F', 'nothing', 'B', 'M', 'B', 'R', 'T', 'B', 'Q', 'W', 'X', 'H', 'del', 'N', 'L', 'W', 'G', 'H', 'Q', 'T', 'X', 'C', 'B', 'W', 'J', 'K', 'U', 'E', 'space', 'V', 'E', 'nothing', 'I', 'M', 'P', 'P', 'T', 'B', 'G', 'V', 'A', 'T', 'K', 'Z', 'Q', 'D', 'O', 'B', 'del', 'O', 'A', 'T', 'del', 'del', 'U', 'Q', 'E', 'O', 'L', 'space', 'L', 'T', 'L', 'P', 'S', 'L', 'Y', 'O', 'E', 'D', 'X', 'N', 'K', 'G', 'space', 'N', 'O', 'O', 'Z', 'nothing', 'D', 'D', 'Z', 'E', 'Q', 'I', 'D', 'E', 'N', 'E', 'U', 'D', 'E', 'M', 'K', 'M', 'H', 'D', 'O', 'R', 'J', 'T', 'C', 'B', 'D', 'O', 'C', 'Q', 'B', 'D', 'J', 'nothing', 'G', 'G', 'L', 'J', 'Q', 'I', 'C', 'G', 'A', 'T', 'O', 'B', 'W', 'H', 'F', 'nothing', 'E', 'S', 'A', 'R', 'V', 'D', 'G', 'T', 'Q', 'del', 'X', 'V', 'I', 'Y', 'N', 'M', 'Q', 'W', 'E', 'H', 'R', 'A', 'O', 'H', 'P', 'D', 'U', 'T', 'C', 'F', 'F', 'S', 'del', 'F', 'Z', 'N', 'C', 'F', 'X', 'space', 'A', 'L', 'T', 'R', 'S', 'G', 'T', 'E', 'N', 'M', 'L', 'G', 'I', 'Q', 'H', 'L', 'E', 'space', 'B', 'Z', 'P', 'A', 'J', 'Y', 'P', 'del', 'del', 'J', 'H', 'Z', 'R', 'W', 'F', 'nothing', 'Q', 'W', 'J', 'V', 'T', 'space', 'nothing', 'K', 'X', 'space', 'E', 'G', 'P', 'M', 'C', 'space', 'T', 'X', 'F', 'V', 'H', 'C', 'D', 'X', 'U', 'D', 'L', 'J', 'L', 'M', 'J', 'nothing', 'U', 'C', 'del', 'R', 'H', 'U', 'I', 'X', 'del', 'I', 'nothing', 'K', 'S', 'C', 'R', 'N', 'R', 'A', 'del', 'del', 'Y', 'O', 'X', 'P', 'U', 'M', 'M', 'H', 'L', 'V', 'X', 'L', 'del', 'del', 'U', 'B', 'Y', 'F', 'F', 'N', 'C', 'space', 'S', 'J', 'del', 'B', 'P', 'P', 'T', 'X', 'space', 'B', 'N', 'G', 'H', 'P', 'W', 'W', 'C', 'H', 'G', 'B', 'Y', 'R', 'X', 'del', 'D', 'N', 'U', 'G', 'F', 'G', 'A', 'T', 'M', 'B', 'nothing', 'P', 'J', 'H', 'I', 'D', 'C', 'del', 'J', 'del', 'del', 'M', 'space', 'Y', 'Y', 'R', 'N', 'C', 'del', 'space', 'N', 'N', 'C', 'Q', 'del', 'Q', 'Z', 'P', 'M', 'B', 'F', 'Y', 'O', 'Q', 'S', 'D', 'Y', 'P', 'C', 'O', 'del', 'A', 'N', 'V', 'V', 'Y', 'M', 'B', 'G', 'G', 'W', 'G', 'O', 'H', 'N', 'Y', 'nothing', 'nothing', 'C', 'I', 'H', 'E', 'R', 'F', 'I', 'F', 'V', 'E', 'V', 'U', 'I', 'W', 'S', 'I', 'Y', 'space', 'S', 'I', 'Y', 'Y', 'R', 'F', 'N', 'U', 'nothing', 'del', 'Y', 'M', 'M', 'del', 'H', 'K', 'G', 'G', 'G', 'O', 'O', 'space', 'G', 'Q', 'G', 'C', 'Z', 'E', 'X', 'D', 'I', 'Z', 'S', 'H', 'N', 'space', 'K', 'U', 'Y', 'del', 'T', 'del', 'K', 'U', 'G', 'U', 'H', 'H', 'O', 'L', 'D', 'Q', 'H', 'J', 'V', 'X', 'I', 'Q', 'G', 'del', 'U', 'P', 'N', 'H', 'V', 'D', 'del', 'O', 'Z', 'Y', 'I', 'W', 'del', 'B', 'O', 'O', 'V', 'D', 'del', 'A', 'I', 'R', 'L', 'T', 'nothing', 'C', 'B', 'X', 'B', 'C', 'J', 'V', 'O', 'Y', 'V', 'Z', 'J', 'Q', 'J', 'M', 'nothing', 'X', 'G', 'L', 'D', 'G', 'C', 'R', 'A', 'U', 'nothing', 'J', 'space', 'B', 'K', 'A', 'del', 'A', 'del', 'C', 'X', 'W', 'H', 'W', 'E', 'Q', 'J', 'Q', 'I', 'J', 'V', 'D', 'I', 'L', 'nothing', 'F', 'U', 'S', 'space', 'O', 'Y', 'B', 'B', 'E', 'G', 'Z', 'H', 'L', 'G', 'W', 'E', 'J', 'Y', 'W', 'Y', 'A', 'P', 'Q', 'M', 'A', 'G', 'I', 'N', 'A', 'del', 'G', 'P', 'L', 'L', 'B', 'Z', 'B', 'space', 'Q', 'nothing', 'F', 'I', 'I', 'M', 'F', 'Q', 'B', 'P', 'U', 'S', 'H', 'O', 'R', 'W', 'nothing', 'V', 'P', 'W', 'Y', 'U', 'nothing', 'C', 'D', 'L', 'U', 'I', 'I', 'Y', 'Z', 'X', 'F', 'del', 'I', 'N', 'X', 'E', 'J', 'S', 'H', 'U', 'I', 'Q', 'X', 'V', 'C', 'X', 'nothing', 'Z', 'R', 'nothing', 'I', 'R', 'U', 'nothing', 'P', 'L', 'Z', 'del', 'C', 'O', 'O', 'M', 'Y', 'E', 'W', 'space', 'L', 'Y', 'nothing', 'F', 'O', 'Z', 'G', 'X', 'I', 'nothing', 'del', 'V', 'H', 'H', 'Y', 'Y', 'U', 'B', 'P', 'G', 'space', 'I', 'X', 'W', 'S', 'T', 'Y', 'D', 'T', 'H', 'G', 'H', 'S', 'S', 'B', 'del', 'P', 'T', 'S', 'X', 'H', 'H', 'nothing', 'K', 'M', 'B', 'B', 'N', 'R', 'O', 'E', 'Y', 'P', 'V', 'I', 'D', 'A', 'A', 'R', 'P', 'U', 'Y', 'L', 'L', 'X', 'S', 'M', 'V', 'R', 'B', 'C', 'I', 'nothing', 'Q', 'R', 'nothing', 'K', 'E', 'space', 'A', 'N', 'Z', 'S', 'D', 'Z', 'V', 'U', 'M', 'K', 'C', 'C', 'G', 'W', 'V', 'H', 'H', 'L', 'Q', 'I', 'N', 'G', 'I', 'D', 'B', 'F', 'nothing', 'D', 'M', 'A', 'U', 'M', 'H', 'F', 'B', 'O', 'B', 'P', 'V', 'nothing', 'Q', 'J', 'I', 'X', 'H', 'X', 'N', 'nothing', 'Y', 'R', 'W', 'L', 'U', 'P', 'L', 'R', 'space', 'S', 'P', 'I', 'Q', 'del', 'C', 'V', 'F', 'X', 'X', 'K', 'V', 'D', 'C', 'P', 'W', 'E', 'I', 'A', 'F', 'C', 'L', 'R', 'G', 'R', 'V', 'E', 'X', 'L', 'N', 'I', 'del', 'H', 'H', 'E', 'B', 'M', 'del', 'F', 'Z', 'nothing', 'T', 'L', 'T', 'C', 'M', 'G', 'space', 'del', 'X', 'X', 'M', 'O', 'E', 'I', 'S', 'K', 'K', 'P', 'Y', 'L', 'A', 'U', 'Y', 'V', 'C', 'O', 'nothing', 'P', 'nothing', 'J', 'H', 'M', 'Y', 'N', 'M', 'del', 'V', 'Y', 'C', 'D', 'I', 'P', 'H', 'D', 'L', 'E', 'L', 'R', 'F', 'C', 'N', 'R', 'A', 'Y', 'C', 'F', 'Y', 'nothing', 'U', 'G', 'B', 'K', 'O', 'K', 'L', 'N', 'J', 'B', 'B', 'F', 'T', 'P', 'K', 'S', 'T', 'K', 'M', 'L', 'H', 'S', 'C', 'B', 'R', 'Y', 'U', 'O', 'Q', 'A', 'F', 'D', 'B', 'space', 'nothing', 'W', 'Y', 'X', 'nothing', 'P', 'space', 'X', 'del', 'N', 'R', 'C', 'B', 'nothing', 'G', 'O', 'space', 'E', 'space', 'E', 'I', 'O', 'P', 'P', 'F', 'N', 'nothing', 'Y', 'V', 'I', 'nothing', 'H', 'T', 'V', 'C', 'nothing', 'T', 'E', 'P', 'K', 'W', 'L', 'space', 'nothing', 'H', 'Q', 'E', 'R', 'S', 'S', 'O', 'del', 'V', 'N', 'A', 'V', 'J', 'T', 'S', 'A', 'P', 'nothing', 'U', 'X', 'P', 'Y', 'J', 'T', 'space', 'G', 'X', 'A', 'W', 'nothing', 'nothing', 'S', 'Y', 'S', 'X', 'U', 'del', 'R', 'W', 'A', 'nothing', 'F', 'M', 'A', 'I', 'C', 'J', 'A', 'F', 'J', 'O', 'N', 'Y', 'U', 'Y', 'P', 'A', 'M', 'nothing', 'O', 'R', 'nothing', 'M', 'I', 'O', 'Z', 'Z', 'del', 'M', 'del', 'P', 'W', 'C', 'Q', 'W', 'L', 'Y', 'S', 'Y', 'G', 'space', 'J', 'U', 'N', 'O', 'D', 'T', 'nothing', 'V', 'M', 'F', 'W', 'N', 'Z', 'del', 'Z', 'B', 'L', 'O', 'F', 'D', 'A', 'nothing', 'N', 'M', 'I', 'D', 'D', 'Z', 'D', 'X', 'Q', 'D', 'O', 'P', 'G', 'T', 'G', 'E', 'B', 'L', 'P', 'U', 'G', 'D', 'nothing', 'K', 'del', 'F', 'Q', 'U', 'space', 'T', 'T', 'L', 'space', 'X', 'L', 'E', 'F', 'E', 'P', 'del', 'del', 'X', 'Q', 'F', 'O', 'X', 'P', 'E', 'V', 'X', 'N', 'I', 'C', 'R', 'C', 'K', 'del', 'Z', 'Q', 'G', 'Y', 'Z', 'Z', 'Y', 'Q', 'D', 'P', 'A', 'M', 'C', 'V', 'J', 'G', 'S', 'Y', 'D', 'N', 'O', 'H', 'nothing', 'W', 'J', 'X', 'B', 'D', 'A', 'S', 'M', 'C', 'A', 'A', 'nothing', 'H', 'F', 'R', 'L', 'X', 'Y', 'Q', 'G', 'U', 'O', 'E', 'G', 'T', 'G', 'C', 'O', 'del', 'Y', 'del', 'A', 'space', 'Q', 'Q', 'S', 'S', 'R', 'nothing', 'nothing', 'C', 'I', 'space', 'G', 'I', 'N', 'P', 'V', 'F', 'D', 'B', 'K', 'O', 'Y', 'R', 'C', 'J', 'C', 'J', 'H', 'J', 'J', 'R', 'E', 'R', 'U', 'D', 'W', 'C', 'Z', 'L', 'G', 'V', 'E', 'I', 'nothing', 'L', 'M', 'nothing', 'X', 'D', 'U', 'B', 'V', 'A', 'V', 'H', 'Q', 'del', 'B', 'K', 'K', 'space', 'U', 'O', 'K', 'G', 'T', 'N', 'G', 'H', 'P', 'R', 'G', 'H', 'space', 'P', 'X', 'N', 'E', 'nothing', 'C', 'Y', 'T', 'I', 'J', 'V', 'T', 'D', 'space', 'R', 'L', 'R', 'A', 'K', 'W', 'X', 'T', 'K', 'F', 'F', 'L', 'J', 'H', 'G', 'C', 'W', 'B', 'K', 'D', 'H', 'C', 'D', 'K', 'K', 'R', 'del', 'M', 'X', 'H', 'E', 'C', 'O', 'R', 'K', 'del', 'Q', 'Z', 'M', 'nothing', 'M', 'H', 'G', 'P', 'P', 'S', 'S', 'I', 'H', 'O', 'E', 'C', 'M', 'E', 'del', 'B', 'D', 'del', 'L', 'L', 'X', 'del', 'Q', 'del', 'G', 'del', 'V', 'D', 'H', 'L', 'E', 'I', 'W', 'W', 'W', 'nothing', 'W', 'C', 'X', 'R', 'space', 'Q', 'V', 'G', 'J', 'B', 'X', 'A', 'I', 'Q', 'U', 'G', 'D', 'L', 'Y', 'Y', 'H', 'H', 'del', 'W', 'T', 'Q', 'R', 'U', 'B', 'S', 'space', 'L', 'E', 'del', 'nothing', 'P', 'G', 'L', 'I', 'V', 'N', 'T', 'D', 'K', 'A', 'Y', 'Q', 'J', 'D', 'K', 'O', 'F', 'Q', 'U', 'X', 'M', 'S', 'R', 'W', 'O', 'J', 'V', 'R', 'U', 'V', 'Y', 'J', 'A', 'P', 'K', 'space', 'D', 'X', 'L', 'F', 'S', 'C', 'U', 'S', 'O', 'C', 'E', 'S', 'O', 'Y', 'I', 'space', 'O', 'Z', 'W', 'G', 'T', 'J', 'space', 'C', 'S', 'S', 'O', 'R', 'F', 'G', 'Q', 'R', 'M', 'G', 'I', 'S', 'X', 'Q', 'space', 'Q', 'Q', 'Z', 'G', 'G', 'E', 'A', 'G', 'S', 'F', 'del', 'L', 'C', 'Q', 'T', 'O', 'E', 'S', 'M', 'A', 'C', 'space', 'L', 'M', 'U', 'W', 'R', 'M', 'H', 'D', 'del', 'I', 'T', 'E', 'S', 'space', 'T', 'X', 'I', 'R', 'G', 'U', 'U', 'nothing', 'nothing', 'A', 'Q', 'Z', 'nothing', 'R', 'H', 'O', 'D', 'O', 'W', 'del', 'C', 'A', 'Q', 'space', 'N', 'U', 'Y', 'R', 'O', 'space', 'S', 'M', 'O', 'nothing', 'K', 'O', 'V', 'C', 'L', 'S', 'E', 'H', 'R', 'P', 'E', 'J', 'Z', 'Y', 'R', 'L', 'space', 'X', 'P', 'U', 'F', 'F', 'space', 'N', 'F', 'Y', 'nothing', 'D', 'V', 'Q', 'del', 'Q', 'Z', 'space', 'W', 'T', 'U', 'W', 'G', 'N', 'L', 'del', 'Z', 'Q', 'I', 'space', 'space', 'C', 'Y', 'D', 'A', 'U', 'Y', 'L', 'I', 'R', 'del', 'U', 'U', 'H', 'W', 'M', 'X', 'J', 'I', 'T', 'T', 'S', 'T', 'F', 'X', 'J', 'T', 'M', 'O', 'P', 'P', 'D', 'H', 'O', 'V', 'A', 'S', 'R', 'K', 'M', 'M', 'Y', 'E', 'F', 'Q', 'X', 'Z', 'nothing', 'H', 'space', 'I', 'O', 'E', 'W', 'R', 'S', 'J', 'nothing', 'H', 'X', 'D', 'P', 'T', 'F', 'G', 'V', 'nothing', 'K', 'B', 'H', 'L', 'B', 'R', 'V', 'C', 'E', 'Z', 'R', 'del', 'F', 'I', 'K', 'T', 'R', 'Z', 'nothing', 'E', 'I', 'nothing', 'B', 'Z', 'R', 'B', 'E', 'Z', 'nothing', 'X', 'I', 'D', 'O', 'R', 'F', 'C', 'U', 'space', 'K', 'I', 'K', 'U', 'del', 'S', 'Z', 'N', 'D', 'X', 'U', 'S', 'Z', 'R', 'Z', 'P', 'S', 'M', 'N', 'Q', 'space', 'K', 'J', 'G', 'Q', 'D', 'P', 'K', 'C', 'space', 'L', 'H', 'P', 'G', 'O', 'M', 'nothing', 'O', 'O', 'N', 'G', 'F', 'I', 'nothing', 'F', 'P', 'nothing', 'X', 'del', 'W', 'F', 'R', 'M', 'P', 'K', 'V', 'K', 'N', 'Y', 'C', 'I', 'X', 'space', 'H', 'I', 'Q', 'I', 'O', 'B', 'L', 'Z', 'X', 'P', 'C', 'Y', 'X', 'N', 'L', 'Q', 'P', 'D', 'del', 'B', 'H', 'L', 'Y', 'X', 'P', 'S', 'N', 'W', 'Y', 'P', 'space', 'S', 'Q', 'E', 'W', 'U', 'L', 'K', 'V', 'nothing', 'A', 'M', 'V', 'F', 'N', 'U', 'R', 'S', 'D', 'B', 'J', 'N', 'W', 'R', 'M', 'B', 'T', 'M', 'M', 'X', 'Q', 'T', 'O', 'nothing', 'space', 'O', 'J', 'del', 'V', 'T', 'C', 'Z', 'K', 'V', 'K', 'X', 'Q', 'R', 'S', 'Y', 'W', 'space', 'E', 'Z', 'F', 'B', 'M', 'R', 'F', 'U', 'nothing', 'Q', 'L', 'E', 'L', 'I', 'O', 'H', 'E', 'del', 'D', 'J', 'O', 'H', 'F', 'E', 'W', 'P', 'F', 'space', 'F', 'S', 'B', 'P', 'R', 'E', 'L', 'J', 'A', 'Z', 'K', 'W', 'H', 'R', 'M', 'X', 'E', 'H', 'X', 'G', 'M', 'L', 'L', 'G', 'B', 'del', 'S', 'U', 'Z', 'A', 'Y', 'B', 'K', 'A', 'M', 'L', 'B', 'O', 'Z', 'A', 'Q', 'space', 'N', 'Z', 'X', 'T', 'R', 'G', 'I', 'G', 'C', 'space', 'D', 'H', 'R', 'I', 'J', 'N', 'nothing', 'G', 'K', 'D', 'G', 'V', 'Q', 'R', 'E', 'C', 'L', 'O', 'del', 'Y', 'space', 'E', 'C', 'X', 'V', 'W', 'V', 'L', 'space', 'F', 'C', 'J', 'X', 'K', 'Y', 'H', 'H', 'Y', 'B', 'G', 'D', 'B', 'E', 'Y', 'G', 'E', 'S', 'B', 'S', 'A', 'W', 'C', 'N', 'H', 'Y', 'T', 'G', 'V', 'M', 'U', 'G', 'F', 'I', 'U', 'F', 'J', 'E', 'P', 'I', 'D', 'L', 'I', 'B', 'Y', 'space', 'X', 'K', 'del', 'G', 'E', 'H', 'P', 'A', 'D', 'G', 'Q', 'M', 'O', 'T', 'L', 'V', 'J', 'U', 'C', 'Q', 'S', 'A', 'H', 'A', 'del', 'F', 'space', 'J', 'Q', 'U', 'N', 'F', 'O', 'B', 'A', 'K', 'B', 'T', 'Z', 'K', 'del', 'del', 'T', 'R', 'Y', 'W', 'space', 'E', 'C', 'P', 'A', 'X', 'A', 'F', 'S', 'N', 'C', 'H', 'V', 'I', 'S', 'O', 'J', 'X', 'X', 'W', 'T', 'S', 'C', 'N', 'Z', 'G', 'K', 'A', 'V', 'A', 'X', 'Y', 'R', 'H', 'V', 'X', 'J', 'R', 'Q', 'S', 'E', 'L', 'J', 'U', 'D', 'T', 'P', 'L', 'B', 'G', 'Q', 'O', 'Y', 'O', 'T', 'nothing', 'A', 'S', 'S', 'G', 'G', 'H', 'N', 'E', 'C', 'M', 'N', 'F', 'R', 'B', 'space', 'H', 'M', 'Y', 'P', 'C', 'U', 'Q', 'K', 'I', 'O', 'space', 'U', 'O', 'Q', 'R', 'N', 'X', 'M', 'T', 'B', 'U', 'Q', 'U', 'C', 'B', 'L', 'W', 'Y', 'S', 'O', 'N', 'K', 'del', 'I', 'Q', 'V', 'Z', 'L', 'G', 'S', 'M', 'S', 'I', 'N', 'S', 'H', 'nothing', 'N', 'X', 'T', 'X', 'D', 'B', 'L', 'E', 'I', 'M', 'Z', 'B', 'P', 'K', 'del', 'P', 'N', 'nothing', 'del', 'P', 'Q', 'S', 'Y', 'J', 'E', 'J', 'Q', 'N', 'V', 'D', 'L', 'R', 'L', 'B', 'B', 'Y', 'A', 'L', 'del', 'U', 'U', 'F', 'W', 'X', 'G', 'F', 'space', 'Q', 'A', 'N', 'R', 'B', 'M', 'Z', 'S', 'E', 'L', 'O', 'N', 'U', 'Y', 'X', 'J', 'R', 'F', 'D', 'U', 'X', 'T', 'N', 'L', 'H', 'D', 'U', 'S', 'T', 'W', 'G', 'del', 'U', 'S', 'Z', 'A', 'D', 'W', 'E', 'O', 'J', 'F', 'J', 'T', 'J', 'K', 'Q', 'O', 'P', 'Z', 'A', 'D', 'S', 'E', 'N', 'V', 'F', 'Q', 'Q', 'C', 'P', 'C', 'Y', 'F', 'X', 'space', 'K', 'A', 'B', 'T', 'W', 'B', 'D', 'U', 'O', 'O', 'Y', 'U', 'N', 'A', 'T', 'T', 'A', 'Q', 'N', 'H', 'D', 'Q', 'E', 'K', 'A', 'Q', 'del', 'K', 'U', 'W', 'J', 'C', 'I', 'K', 'J', 'H', 'I', 'V', 'K', 'A', 'A', 'T', 'Q', 'del', 'D', 'M', 'V', 'del', 'U', 'nothing', 'P', 'O', 'X', 'B', 'space', 'Y', 'P', 'N', 'nothing', 'C', 'P', 'space', 'O', 'nothing', 'D', 'U', 'E', 'Q', 'T', 'T', 'K', 'G', 'S', 'N', 'W', 'del', 'J', 'P', 'K', 'del', 'H', 'J', 'nothing', 'nothing', 'G', 'space', 'G', 'U', 'J', 'V', 'W', 'S', 'K', 'space', 'N', 'F', 'G', 'V', 'H', 'H', 'E', 'del', 'E', 'A', 'E', 'G', 'Y', 'U', 'W', 'space', 'L', 'E', 'L', 'S', 'S', 'O', 'O', 'G', 'V', 'R', 'O', 'Q', 'Z', 'X', 'M', 'H', 'N', 'space', 'D', 'space', 'Q', 'Z', 'V', 'I', 'L', 'N', 'H', 'P', 'L', 'N', 'M', 'G', 'E', 'H', 'E', 'W', 'P', 'P', 'W', 'C', 'space', 'V', 'Z', 'K', 'K', 'B', 'space', 'P', 'M', 'U', 'J', 'del', 'F', 'X', 'L', 'nothing', 'A', 'H', 'Q', 'P', 'U', 'O', 'J', 'F', 'U', 'B', 'Y', 'Q', 'U', 'D', 'T', 'U', 'C', 'K', 'Q', 'del', 'H', 'E', 'J', 'Q', 'del', 'del', 'F', 'E', 'F', 'O', 'C', 'O', 'R', 'M', 'E', 'W', 'Y', 'O', 'nothing', 'W', 'W', 'U', 'S', 'H', 'U', 'I', 'V', 'P', 'del', 'J', 'N', 'Q', 'J', 'P', 'V', 'R', 'Q', 'del', 'S', 'R', 'S', 'A', 'T', 'F', 'D', 'U', 'N', 'P', 'E', 'D', 'I', 'N', 'G', 'J', 'nothing', 'S', 'A', 'N', 'C', 'Q', 'L', 'Y', 'W', 'N', 'S', 'T', 'space', 'L', 'G', 'W', 'M', 'U', 'D', 'U', 'space', 'W', 'B', 'M', 'N', 'C', 'S', 'C', 'R', 'B', 'G', 'space', 'Y', 'K', 'G', 'J', 'B', 'R', 'del', 'N', 'O', 'U', 'C', 'G', 'K', 'Y', 'S', 'I', 'G', 'Y', 'F', 'L', 'A', 'T', 'Q', 'space', 'B', 'U', 'T', 'U', 'G', 'D', 'W', 'E', 'U', 'S', 'Q', 'C', 'P', 'H', 'H', 'K', 'F', 'I', 'C', 'F', 'B', 'del', 'Q', 'L', 'V', 'S', 'space', 'C', 'L', 'del', 'R', 'N', 'Y', 'Y', 'del', 'M', 'J', 'D', 'space', 'T', 'F', 'C', 'C', 'V', 'A', 'C', 'T', 'B', 'M', 'E', 'T', 'del', 'del', 'X', 'Z', 'del', 'B', 'V', 'I', 'E', 'F', 'K', 'Z', 'Z', 'U', 'F', 'nothing', 'I', 'O', 'O', 'X', 'W', 'N', 'L', 'S', 'V', 'S', 'S', 'V', 'U', 'Y', 'Z', 'nothing', 'nothing', 'H', 'J', 'X', 'L', 'P', 'B', 'R', 'D', 'J', 'I', 'Z', 'B', 'Z', 'nothing', 'P', 'V', 'Q', 'B', 'nothing', 'P', 'Z', 'J', 'W', 'B', 'A', 'A', 'G', 'J', 'I', 'C', 'T', 'S', 'P', 'K', 'N', 'S', 'C', 'K', 'T', 'I', 'L', 'K', 'V', 'G', 'P', 'I', 'N', 'O', 'space', 'P', 'space', 'Y', 'T', 'N', 'U', 'U', 'W', 'T', 'del', 'K', 'Q', 'Q', 'F', 'H', 'A', 'R', 'M', 'Y', 'K', 'K', 'F', 'J', 'X', 'A', 'J', 'Q', 'A', 'W', 'I', 'O', 'nothing', 'O', 'K', 'Z', 'P', 'Y', 'X', 'P', 'C', 'space', 'J', 'N', 'del', 'T', 'nothing', 'nothing', 'D', 'O', 'Z', 'E', 'B', 'S', 'space', 'M', 'F', 'K', 'X', 'D', 'X', 'R', 'V', 'I', 'U', 'M', 'T', 'S', 'X', 'J', 'R', 'K', 'D', 'R', 'X', 'J', 'P', 'G', 'S', 'P', 'Z', 'del', 'K', 'T', 'G', 'Z', 'W', 'S', 'L', 'Y', 'R', 'W', 'C', 'L', 'S', 'P', 'W', 'I', 'X', 'T', 'K', 'W', 'J', 'J', 'K', 'B', 'C', 'T', 'W', 'O', 'G', 'R', 'R', 'X', 'H', 'Y', 'M', 'H', 'J', 'N', 'L', 'D', 'O', 'C', 'I', 'J', 'M', 'del', 'A', 'R', 'X', 'C', 'del', 'C', 'space', 'X', 'Y', 'M', 'nothing', 'Q', 'M', 'Y', 'Y', 'L', 'L', 'S', 'T', 'R', 'E', 'L', 'I', 'Z', 'Y', 'del', 'A', 'E', 'I', 'U', 'C', 'H', 'G', 'B', 'D', 'Z', 'X', 'del', 'V', 'W', 'K', 'X', 'G', 'A', 'Q', 'L', 'A', 'C', 'D', 'T', 'Q', 'Q', 'D', 'J', 'Q', 'H', 'Q', 'L', 'M', 'B', 'B', 'F', 'X', 'T', 'del', 'Y', 'U', 'M', 'nothing', 'M', 'Q', 'G', 'B', 'D', 'R', 'A', 'S', 'L', 'L', 'I', 'J', 'I', 'H', 'W', 'M', 'B', 'Y', 'C', 'H', 'U', 'O', 'Y', 'J', 'Z', 'A', 'U', 'nothing', 'U', 'C', 'F', 'U', 'Z', 'space', 'space', 'C', 'T', 'O', 'J', 'B', 'H', 'N', 'I', 'V', 'R', 'C', 'J', 'Z', 'C', 'W', 'T', 'del', 'S', 'W', 'H', 'J', 'H', 'nothing', 'M', 'G', 'R', 'del', 'L', 'F', 'M', 'del', 'B', 'V', 'H', 'M', 'Y', 'Q', 'W', 'Q', 'I', 'C', 'H', 'U', 'K', 'space', 'space', 'B', 'E', 'Z', 'L', 'N', 'C', 'Z', 'A', 'E', 'C', 'Y', 'C', 'L', 'C', 'B', 'E', 'C', 'space', 'Z', 'P', 'Z', 'W', 'space', 'T', 'K', 'S', 'Q', 'R', 'J', 'Q', 'Q', 'N', 'T', 'del', 'U', 'G', 'T', 'G', 'M', 'D', 'J', 'del', 'M', 'F', 'Q', 'del', 'Q', 'nothing', 'Z', 'U', 'U', 'A', 'M', 'T', 'space', 'R', 'A', 'U', 'D', 'K', 'W', 'V', 'H', 'R', 'D', 'P', 'O', 'M', 'I', 'C', 'B', 'Y', 'P', 'H', 'N', 'G', 'del', 'J', 'X', 'D', 'space', 'O', 'C', 'nothing', 'space', 'H', 'P', 'B', 'P', 'space', 'H', 'nothing', 'Q', 'H', 'K', 'M', 'del', 'Q', 'Q', 'E', 'D', 'A', 'S', 'D', 'R', 'D', 'nothing', 'X', 'E', 'N', 'N', 'R', 'B', 'H', 'R', 'J', 'R', 'K', 'U', 'G', 'F', 'E', 'F', 'nothing', 'M', 'K', 'nothing', 'F', 'P', 'U', 'E', 'T', 'space', 'Q', 'F', 'D', 'Q', 'space', 'M', 'W', 'O', 'del', 'B', 'I', 'W', 'Z', 'S', 'M', 'X', 'O', 'K', 'space', 'O', 'O', 'N', 'del', 'G', 'R', 'U', 'I', 'K', 'V', 'space', 'N', 'N', 'E', 'I', 'K', 'N', 'A', 'S', 'G', 'R', 'Z', 'E', 'L', 'Q', 'A', 'U', 'O', 'F', 'E', 'V', 'space', 'P', 'F', 'R', 'Q', 'V', 'T', 'S', 'P', 'del', 'G', 'E', 'A', 'X', 'K', 'I', 'S', 'E', 'W', 'Q', 'Y', 'U', 'nothing', 'L', 'V', 'J', 'G', 'R', 'H', 'W', 'G', 'B', 'V', 'X', 'H', 'U', 'D', 'G', 'Z', 'O', 'O', 'L', 'K', 'P', 'N', 'G', 'O', 'I', 'N', 'L', 'del', 'O', 'I', 'B', 'R', 'Q', 'nothing', 'Z', 'H', 'A', 'T', 'D', 'V', 'R', 'H', 'B', 'L', 'T', 'X', 'V', 'L', 'V', 'X', 'K', 'L', 'L', 'nothing', 'W', 'O', 'O', 'E', 'S', 'B', 'G', 'del', 'M', 'E', 'C', 'Y', 'S', 'A', 'T', 'Q', 'V', 'O', 'del', 'X', 'M', 'del', 'U', 'K', 'I', 'O', 'P', 'Y', 'M', 'S', 'G', 'K', 'N', 'E', 'N', 'V', 'V', 'X', 'nothing', 'Q', 'L', 'Z', 'T', 'B', 'C', 'space', 'Q', 'del', 'J', 'I', 'X', 'J', 'M', 'Z', 'N', 'O', 'A', 'U', 'R', 'Y', 'del', 'E', 'J', 'P', 'nothing', 'K', 'S', 'K', 'Z', 'X', 'V', 'P', 'D', 'T', 'E', 'E', 'H', 'Y', 'D', 'space', 'nothing', 'Y', 'A', 'M', 'H', 'nothing', 'N', 'J', 'B', 'L', 'O', 'U', 'P', 'W', 'B', 'S', 'A', 'U', 'N', 'H', 'P', 'del', 'W', 'J', 'K', 'Q', 'P', 'A', 'H', 'I', 'V', 'X', 'W', 'W', 'E', 'O', 'Z', 'A', 'S', 'R', 'X', 'S', 'Z', 'P', 'Q', 'O', 'S', 'B', 'F', 'G', 'W', 'R', 'R', 'O', 'O', 'nothing', 'P', 'M', 'P', 'del', 'T', 'Y', 'O', 'nothing', 'T', 'D', 'D', 'V', 'K', 'F', 'H', 'space', 'S', 'Y', 'J', 'U', 'N', 'R', 'M', 'R', 'nothing', 'H', 'N', 'D', 'space', 'W', 'del', 'nothing', 'L', 'N', 'X', 'Y', 'X', 'T', 'E', 'B', 'space', 'Q', 'R', 'I', 'N', 'L', 'D', 'P', 'N', 'V', 'S', 'J', 'B', 'R', 'Y', 'N', 'J', 'R', 'G', 'J', 'Q', 'E', 'A', 'Y', 'K', 'O', 'Q', 'J', 'C', 'D', 'R', 'D', 'I', 'N', 'F', 'G', 'A', 'space', 'D', 'J', 'space', 'K', 'L', 'space', 'C', 'U', 'I', 'space', 'I', 'G', 'R', 'U', 'M', 'space', 'G', 'W', 'Q', 'V', 'L', 'H', 'S', 'S', 'Q', 'space', 'A', 'B', 'N', 'D', 'T', 'J', 'T', 'R', 'M', 'Y', 'O', 'D', 'B', 'S', 'R', 'R', 'C', 'A', 'K', 'N', 'F', 'D', 'P', 'space', 'H', 'del', 'O', 'B', 'Q', 'O', 'O', 'A', 'del', 'G', 'space', 'Y', 'Y', 'I', 'Z', 'T', 'del', 'G', 'G', 'E', 'M', 'L', 'nothing', 'R', 'U', 'U', 'J', 'nothing', 'U', 'space', 'space', 'T', 'Y', 'B', 'A', 'L', 'J', 'S', 'C', 'E', 'Q', 'R', 'F', 'B', 'M', 'Q', 'I', 'F', 'P', 'J', 'U', 'X', 'del', 'S', 'U', 'space', 'V', 'X', 'J', 'B', 'Z', 'M', 'G', 'Q', 'B', 'X', 'del', 'X', 'C', 'N', 'A', 'Z', 'del', 'A', 'N', 'P', 'Y', 'Y', 'H', 'T', 'space', 'W', 'J', 'K', 'del', 'I', 'B', 'W', 'T', 'O', 'K', 'S', 'C', 'C', 'T', 'B', 'J', 'A', 'O', 'O', 'E', 'O', 'C', 'U', 'T', 'W', 'U', 'I', 'F', 'P', 'J', 'R', 'V', 'F', 'P', 'space', 'L', 'del', 'V', 'Z', 'L', 'B', 'L', 'Z', 'C', 'P', 'P', 'Y', 'I', 'W', 'U', 'L', 'T', 'H', 'N', 'del', 'U', 'R', 'N', 'B', 'F', 'E', 'B', 'V', 'F', 'P', 'del', 'R', 'Y', 'B', 'N', 'L', 'del', 'G', 'R', 'O', 'space', 'nothing', 'D', 'W', 'D', 'nothing', 'C', 'del', 'Q', 'D', 'V', 'R', 'N', 'del', 'del', 'del', 'J', 'C', 'M', 'E', 'E', 'space', 'Z', 'W', 'R', 'E', 'N', 'Q', 'M', 'Q', 'E', 'X', 'I', 'G', 'A', 'Q', 'I', 'Z', 'T', 'V', 'Z', 'Q', 'F', 'X', 'S', 'del', 'N', 'W', 'I', 'nothing', 'G', 'Z', 'J', 'M', 'D', 'Q', 'V', 'Q', 'space', 'X', 'Q', 'Q', 'M', 'V', 'W', 'L', 'J', 'Y', 'nothing', 'R', 'M', 'F', 'Z', 'I', 'X', 'L', 'D', 'H', 'D', 'S', 'C', 'J', 'del', 'C', 'Y', 'A', 'G', 'V', 'K', 'L', 'del', 'nothing', 'J', 'P', 'del', 'del', 'N', 'del', 'V', 'K', 'D', 'M', 'M', 'S', 'O', 'O', 'P', 'U', 'V', 'R', 'D', 'U', 'K', 'L', 'Y', 'L', 'space', 'V', 'X', 'S', 'W', 'S', 'M', 'M', 'del', 'I', 'G', 'N', 'I', 'Q', 'Q', 'X', 'I', 'B', 'F', 'G', 'X', 'V', 'R', 'F', 'nothing', 'nothing', 'N', 'Y', 'space', 'A', 'T', 'K', 'A', 'V', 'J', 'Z', 'L', 'S', 'J', 'W', 'D', 'K', 'A', 'N', 'space', 'S', 'I', 'S', 'J', 'M', 'space', 'P', 'Y', 'Q', 'Y', 'H', 'del', 'P', 'Z', 'G', 'R', 'T', 'I', 'Q', 'K', 'T', 'U', 'Z', 'S', 'del', 'S', 'X', 'Z', 'I', 'X', 'S', 'C', 'V', 'T', 'S', 'N', 'W', 'L', 'V', 'H', 'J', 'F', 'B', 'K', 'B', 'K', 'O', 'B', 'nothing', 'O', 'H', 'R', 'Q', 'F', 'D', 'I', 'H', 'D', 'E', 'J', 'R', 'E', 'R', 'T', 'L', 'del', 'K', 'X', 'W', 'X', 'I', 'Q', 'G', 'S', 'H', 'C', 'O', 'V', 'Q', 'B', 'P', 'T', 'M', 'B', 'G', 'J', 'C', 'del', 'H', 'A', 'W', 'C', 'D', 'R', 'space', 'P', 'W', 'S', 'L', 'K', 'G', 'J', 'Y', 'A', 'L', 'G', 'W', 'H', 'N', 'Y', 'I', 'C', 'space', 'E', 'Z', 'W', 'B', 'B', 'F', 'P', 'K', 'Q', 'D', 'N', 'X', 'I', 'del', 'Z', 'V', 'F', 'W', 'P', 'Z', 'Y', 'E', 'D', 'R', 'F', 'Z', 'P', 'W', 'Z', 'B', 'nothing', 'W', 'F', 'A', 'D', 'Q', 'G', 'Z', 'Y', 'F', 'R', 'W', 'L', 'del', 'T', 'K', 'A', 'H', 'L', 'B', 'X', 'B', 'X', 'L', 'H', 'Y', 'Z', 'K', 'K', 'S', 'Y', 'X', 'B', 'S', 'D', 'S', 'L', 'Y', 'X', 'S', 'Y', 'F', 'nothing', 'T', 'A', 'P', 'O', 'U', 'V', 'A', 'H', 'E', 'N', 'S', 'G', 'H', 'J', 'Z', 'del', 'D', 'E', 'N', 'W', 'E', 'C', 'P', 'Q', 'nothing', 'E', 'U', 'E', 'Y', 'Z', 'H', 'F', 'Y', 'N', 'M', 'J', 'J', 'U', 'C', 'H', 'D', 'X', 'L', 'Z', 'E', 'W', 'nothing', 'space', 'nothing', 'F', 'J', 'G', 'N', 'R', 'U', 'P', 'D', 'J', 'Y', 'O', 'S', 'Y', 'L', 'L', 'F', 'V', 'Q', 'T', 'S', 'A', 'B', 'Z', 'space', 'nothing', 'Z', 'del', 'Z', 'del', 'L', 'O', 'L', 'F', 'R', 'P', 'del', 'N', 'V', 'D', 'G', 'N', 'space', 'nothing', 'G', 'Q', 'E', 'X', 'Q', 'I', 'K', 'del', 'D', 'N', 'W', 'N', 'space', 'K', 'Z', 'M', 'L', 'T', 'M', 'B', 'N', 'T', 'U', 'X', 'X', 'Z', 'C', 'D', 'Z', 'V', 'space', 'M', 'G', 'J', 'L', 'D', 'Q', 'U', 'U', 'I', 'U', 'T', 'H', 'T', 'D', 'T', 'N', 'F', 'nothing', 'J', 'M', 'O', 'B', 'N', 'A', 'S', 'V', 'W', 'F', 'J', 'T', 'A', 'F', 'V', 'Q', 'Z', 'X', 'V', 'M', 'K', 'N', 'J', 'U', 'G', 'N', 'F', 'nothing', 'U', 'D', 'Q', 'R', 'S', 'H', 'N', 'Q', 'O', 'space', 'L', 'I', 'E', 'Z', 'B', 'E', 'D', 'O', 'M', 'I', 'X', 'T', 'L', 'Y', 'J', 'W', 'N', 'L', 'N', 'A', 'C', 'R', 'K', 'G', 'nothing', 'I', 'space', 'L', 'I', 'O', 'B', 'Y', 'K', 'A', 'T', 'Z', 'D', 'I', 'H', 'D', 'N', 'E', 'B', 'G', 'H', 'Z', 'R', 'U', 'R', 'del', 'R', 'W', 'M', 'Z', 'R', 'J', 'J', 'C', 'P', 'I', 'O', 'D', 'Z', 'P', 'M', 'R', 'Y', 'U', 'Z', 'Z', 'W', 'C', 'F', 'F', 'H', 'H', 'G', 'M', 'nothing', 'X', 'K', 'space', 'E', 'W', 'R', 'I', 'N', 'S', 'U', 'T', 'O', 'T', 'H', 'W', 'K', 'C', 'T', 'del', 'G', 'L', 'A', 'N', 'R', 'Q', 'F', 'Z', 'U', 'M', 'G', 'nothing', 'C', 'J', 'T', 'E', 'L', 'O', 'L', 'K', 'K', 'H', 'R', 'T', 'T', 'Y', 'A', 'B', 'U', 'C', 'L', 'Y', 'V', 'V', 'R', 'Z', 'I', 'M', 'H', 'T', 'del', 'R', 'nothing', 'R', 'G', 'H', 'K', 'D', 'N', 'V', 'R', 'J', 'O', 'T', 'K', 'A', 'F', 'Q', 'X', 'T', 'B', 'N', 'V', 'A', 'L', 'Z', 'M', 'E', 'W', 'I', 'S', 'B', 'D', 'Q', 'N', 'L', 'T', 'F', 'Q', 'space', 'S', 'N', 'L', 'K', 'L', 'H', 'nothing', 'Q', 'M', 'G', 'Y', 'A', 'nothing', 'C', 'K', 'nothing', 'J', 'V', 'E', 'U', 'nothing', 'E', 'X', 'V', 'T', 'nothing', 'B', 'J', 'M', 'F', 'U', 'H', 'del', 'V', 'Y', 'E', 'N', 'K', 'Z', 'B', 'O', 'X', 'V', 'M', 'Q', 'P', 'I', 'del', 'A', 'X', 'R', 'J', 'P', 'B', 'Z', 'V', 'G', 'X', 'E', 'K', 'Y', 'R', 'J', 'G', 'N', 'U', 'space', 'M', 'L', 'P', 'W', 'I', 'space', 'T', 'D', 'J', 'D', 'O', 'space', 'V', 'R', 'F', 'V', 'T', 'V', 'N', 'I', 'R', 'H', 'A', 'R', 'J', 'X', 'nothing', 'X', 'B', 'D', 'A', 'J', 'O', 'del', 'Q', 'E', 'nothing', 'S', 'N', 'J', 'G', 'S', 'R', 'X', 'N', 'D', 'Z', 'Z', 'I', 'del', 'nothing', 'R', 'I', 'U', 'A', 'C', 'I', 'P', 'L', 'I', 'U', 'X', 'Y', 'Y', 'B', 'H', 'O', 'N', 'I', 'A', 'V', 'A', 'Q', 'I', 'M', 'Z', 'I', 'F', 'V', 'U', 'V', 'J', 'B', 'N', 'A', 'L', 'P', 'A', 'G', 'del', 'J', 'D', 'J', 'Z', 'C', 'G', 'K', 'Z', 'K', 'K', 'S', 'N', 'R', 'W', 'L', 'N', 'nothing', 'F', 'Q', 'L', 'E', 'T', 'Y', 'Y', 'E', 'A', 'E', 'Y', 'space', 'F', 'M', 'I', 'Z', 'C', 'Q', 'del', 'U', 'L', 'X', 'D', 'X', 'K', 'H', 'G', 'J', 'K', 'B', 'P', 'A', 'I', 'Z', 'I', 'F', 'E', 'M', 'S', 'K', 'A', 'del', 'M', 'F', 'T', 'Y', 'B', 'L', 'X', 'X', 'F', 'Q', 'I', 'Y', 'H', 'D', 'I', 'D', 'K', 'O', 'T', 'V', 'V', 'K', 'T', 'del', 'M', 'T', 'K', 'B', 'I', 'space', 'D', 'G', 'Z', 'F', 'Z', 'H', 'H', 'P', 'N', 'I', 'T', 'O', 'T', 'L', 'K', 'A', 'O', 'T', 'W', 'Z', 'V', 'K', 'nothing', 'Y', 'B', 'Y', 'J', 'Y', 'B', 'V', 'P', 'J', 'V', 'S', 'Z', 'F', 'G', 'X', 'E', 'E', 'X', 'A', 'A', 'M', 'D', 'V', 'S', 'W', 'V', 'E', 'N', 'S', 'E', 'R', 'H', 'I', 'M', 'T', 'I', 'del', 'F', 'Y', 'J', 'G', 'del', 'L', 'M', 'nothing', 'P', 'Z', 'H', 'J', 'A', 'E', 'E', 'nothing', 'N', 'F', 'nothing', 'S', 'del', 'N', 'J', 'P', 'H', 'J', 'N', 'O', 'T', 'D', 'R', 'C', 'Z', 'nothing', 'F', 'X', 'E', 'Z', 'F', 'E', 'N', 'A', 'J', 'X', 'M', 'space', 'del', 'G', 'U', 'Y', 'Y', 'Q', 'W', 'V', 'G', 'X', 'W', 'Z', 'H', 'P', 'O', 'E', 'space', 'R', 'Q', 'Q', 'W', 'nothing', 'D', 'V', 'X', 'T', 'D', 'space', 'F', 'J', 'space', 'C', 'M', 'nothing', 'del', 'U', 'P', 'O', 'X', 'space', 'E', 'U', 'P', 'nothing', 'del', 'Z', 'D', 'E', 'V', 'V', 'del', 'F', 'nothing', 'R', 'L', 'A', 'F', 'A', 'B', 'E', 'K', 'F', 'V', 'space', 'B', 'S', 'M', 'L', 'U', 'W', 'N', 'Q', 'J', 'C', 'L', 'J', 'G', 'E', 'A', 'T', 'L', 'Z', 'S', 'F', 'K', 'Z', 'N', 'S', 'I', 'E', 'E', 'W', 'T', 'Q', 'H', 'E', 'Z', 'T', 'T', 'del', 'L', 'D', 'W', 'C', 'L', 'V', 'A', 'E', 'T', 'space', 'M', 'O', 'Z', 'X', 'D', 'space', 'I', 'del', 'nothing', 'E', 'G', 'F', 'H', 'R', 'D', 'U', 'nothing', 'T', 'Z', 'Q', 'C', 'F', 'N', 'I', 'E', 'space', 'N', 'M', 'I', 'W', 'nothing', 'S', 'D', 'T', 'space', 'W', 'Q', 'nothing', 'Z', 'U', 'nothing', 'Y', 'N', 'H', 'P', 'L', 'Z', 'L', 'A', 'F', 'del', 'O', 'S', 'G', 'F', 'T', 'G', 'del', 'A', 'P', 'J', 'W', 'U', 'Y', 'N', 'D', 'nothing', 'J', 'M', 'O', 'N', 'nothing', 'T', 'Y', 'H', 'K', 'E', 'A', 'C', 'space', 'Y', 'N', 'M', 'A', 'del', 'F', 'T', 'I', 'space', 'M', 'M', 'K', 'P', 'A', 'I', 'O', 'D', 'G', 'G', 'Q', 'nothing', 'nothing', 'T', 'J', 'H', 'J', 'V', 'V', 'M', 'J', 'E', 'Q', 'F', 'B', 'K', 'O', 'E', 'B', 'M', 'del', 'F', 'I', 'Q', 'Y', 'L', 'W', 'I', 'Q', 'Z', 'nothing', 'A', 'E', 'H', 'J', 'I', 'Z', 'C', 'P', 'Z', 'W', 'nothing', 'nothing', 'P', 'space', 'D', 'C', 'H', 'W', 'Z', 'del', 'nothing', 'L', 'E', 'B', 'R', 'G', 'R', 'N', 'I', 'D', 'V', 'K', 'Y', 'K', 'H', 'V', 'F', 'A', 'N', 'space', 'W', 'space', 'R', 'X', 'L', 'P', 'N', 'Z', 'R', 'X', 'G', 'L', 'P', 'E', 'del', 'W', 'A', 'D', 'T', 'B', 'F', 'nothing', 'V', 'nothing', 'B', 'I', 'J', 'K', 'W', 'L', 'U', 'N', 'W', 'E', 'N', 'X', 'Y', 'K', 'G', 'O', 'X', 'P', 'H', 'V', 'F', 'N', 'N', 'P', 'T', 'V', 'D', 'H', 'J', 'Z', 'I', 'Z', 'space', 'D', 'H', 'U', 'M', 'del', 'del', 'Q', 'J', 'K', 'K', 'R', 'L', 'S', 'B', 'S', 'N', 'D', 'Q', 'V', 'P', 'del', 'M', 'H', 'E', 'X', 'J', 'J', 'S', 'J', 'U', 'P', 'E', 'Z', 'Y', 'V', 'nothing', 'L', 'nothing', 'K', 'X', 'space', 'L', 'D', 'C', 'C', 'L', 'U', 'U', 'space', 'T', 'J', 'K', 'S', 'H', 'Z', 'F', 'Y', 'A', 'T', 'N', 'H', 'Q', 'W', 'L', 'J', 'X', 'space', 'K', 'D', 'N', 'nothing', 'space', 'R', 'F', 'D', 'Y', 'D', 'F', 'space', 'T', 'H', 'U', 'N', 'W', 'Z', 'B', 'S', 'R', 'P', 'L', 'X', 'A', 'nothing', 'C', 'K', 'B', 'I', 'Z', 'D', 'P', 'O', 'N', 'space', 'O', 'O', 'E', 'H', 'U', 'B', 'C', 'J', 'Y', 'C', 'P', 'P', 'Z', 'R', 'V', 'N', 'P', 'space', 'M', 'T', 'M', 'B', 'T', 'G', 'R', 'O', 'P', 'T', 'G', 'G', 'M', 'space', 'M', 'W', 'T', 'N', 'O', 'I', 'J', 'J', 'S', 'Z', 'space', 'F', 'R', 'D', 'G', 'G', 'Y', 'D', 'B', 'W', 'J', 'P', 'O', 'del', 'M', 'J', 'R', 'J', 'H', 'space', 'B', 'T', 'U', 'S', 'E', 'H', 'L', 'J', 'G', 'O', 'V', 'T', 'F', 'space', 'H', 'nothing', 'space', 'V', 'E', 'Y', 'space', 'nothing', 'nothing', 'G', 'Z', 'U', 'A', 'J', 'O', 'V', 'Y', 'C', 'space', 'B', 'H', 'I', 'C', 'L', 'B', 'U', 'P', 'U', 'Z', 'C', 'Y', 'V', 'Q', 'C', 'M', 'Y', 'O', 'K', 'F', 'U', 'L', 'M', 'J', 'L', 'I', 'H', 'space', 'E', 'W', 'I', 'H', 'space', 'R', 'S', 'S', 'F', 'I', 'Q', 'V', 'Z', 'O', 'nothing', 'O', 'C', 'T', 'nothing', 'J', 'J', 'F', 'Q', 'P', 'del', 'I', 'Y', 'L', 'L', 'N', 'X', 'S', 'nothing', 'space', 'J', 'A', 'V', 'U', 'M', 'D', 'R', 'M', 'del', 'A', 'del', 'space', 'R', 'P', 'R', 'T', 'A', 'space', 'space', 'X', 'U', 'L', 'O', 'H', 'U', 'D', 'F', 'G', 'O', 'Q', 'W', 'Z', 'T', 'D', 'nothing', 'Y', 'B', 'E', 'U', 'L', 'X', 'U', 'W', 'Y', 'G', 'R', 'O', 'Y', 'Q', 'U', 'P', 'Y', 'P', 'R', 'P', 'B', 'W', 'H', 'W', 'nothing', 'M', 'K', 'V', 'H', 'X', 'P', 'Z', 'P', 'J', 'M', 'U', 'K', 'O', 'W', 'S', 'F', 'J', 'Q', 'L', 'Z', 'Q', 'K', 'I', 'C', 'P', 'L', 'R', 'F', 'O', 'del', 'B', 'U', 'T', 'G', 'B', 'F', 'D', 'O', 'F', 'nothing', 'space', 'F', 'Q', 'T', 'B', 'N', 'D', 'H', 'M', 'P', 'C', 'nothing', 'U', 'Y', 'nothing', 'O', 'N', 'A', 'E', 'C', 'V', 'U', 'K', 'X', 'T', 'Y', 'Q', 'L', 'del', 'I', 'H', 'R', 'space', 'W', 'X', 'A', 'G', 'K', 'Q', 'E', 'F', 'del', 'L', 'C', 'P', 'W', 'del', 'nothing', 'P', 'D', 'P', 'E', 'B', 'Y', 'R', 'Y', 'Y', 'G', 'Y', 'G', 'V', 'W', 'del', 'U', 'X', 'S', 'S', 'Z', 'U', 'O', 'I', 'space', 'M', 'space', 'W', 'del', 'D', 'Q', 'S', 'G', 'N', 'U', 'X', 'D', 'I', 'space', 'O', 'N', 'E', 'N', 'Z', 'B', 'R', 'Z', 'G', 'del', 'B', 'L', 'X', 'B', 'K', 'Y', 'D', 'E', 'V', 'D', 'nothing', 'space', 'del', 'W', 'X', 'R', 'K', 'K', 'O', 'T', 'H', 'X', 'J', 'J', 'Y', 'N', 'Q', 'A', 'del', 'Y', 'P', 'L', 'L', 'I', 'X', 'T', 'space', 'F', 'V', 'J', 'K', 'H', 'L', 'E', 'Q', 'Y', 'J', 'B', 'D', 'A', 'D', 'Q', 'nothing', 'I', 'R', 'A', 'O', 'S', 'del', 'Y', 'R', 'U', 'N', 'del', 'G', 'E', 'K', 'I', 'T', 'Z', 'G', 'J', 'nothing', 'V', 'J', 'H', 'Y', 'nothing', 'Y', 'space', 'O', 'nothing', 'del', 'del', 'S', 'F', 'C', 'B', 'O', 'M', 'Z', 'Y', 'H', 'G', 'D', 'Z', 'C', 'A', 'O', 'space', 'V', 'T', 'Y', 'W', 'D', 'W', 'F', 'R', 'del', 'K', 'R', 'O', 'E', 'A', 'W', 'I', 'L', 'F', 'Q', 'R', 'T', 'A', 'L', 'G', 'Q', 'T', 'J', 'B', 'U', 'Z', 'F', 'B', 'X', 'P', 'A', 'K', 'C', 'E', 'Q', 'V', 'L', 'K', 'W', 'nothing', 'E', 'space', 'space', 'P', 'X', 'E', 'H', 'F', 'N', 'M', 'P', 'N', 'M', 'del', 'K', 'T', 'space', 'Q', 'G', 'V', 'R', 'S', 'J', 'X', 'O', 'U', 'Z', 'Z', 'F', 'T', 'Y', 'space', 'E', 'U', 'N', 'I', 'S', 'nothing', 'del', 'M', 'B', 'space', 'I', 'T', 'I', 'nothing', 'U', 'X', 'N', 'K', 'E', 'T', 'F', 'nothing', 'N', 'U', 'space', 'L', 'J', 'L', 'E', 'X', 'M', 'R', 'F', 'P', 'B', 'G', 'H', 'O', 'A', 'N', 'N', 'R', 'M', 'W', 'U', 'I', 'D', 'N', 'P', 'C', 'Y', 'U', 'L', 'X', 'A', 'R', 'S', 'N', 'M', 'L', 'Z', 'I', 'Y', 'V', 'F', 'C', 'R', 'B', 'C', 'B', 'space', 'R', 'nothing', 'F', 'L', 'R', 'J', 'B', 'V', 'del', 'O', 'Z', 'H', 'L', 'del', 'H', 'O', 'K', 'I', 'A', 'W', 'P', 'W', 'nothing', 'C', 'A', 'Z', 'X', 'P', 'J', 'nothing', 'H', 'nothing', 'G', 'space', 'P', 'del', 'nothing', 'Q', 'Y', 'X', 'R', 'B', 'I', 'K', 'space', 'Y', 'N', 'K', 'O', 'N', 'P', 'B', 'Y', 'F', 'B', 'K', 'Y', 'P', 'S', 'D', 'C', 'O', 'F', 'T', 'B', 'T', 'Q', 'A', 'J', 'J', 'V', 'nothing', 'C', 'A', 'X', 'space', 'Z', 'E', 'A', 'M', 'S', 'J', 'K', 'H', 'V', 'K', 'del', 'A', 'K', 'T', 'G', 'G', 'N', 'W', 'W', 'R', 'W', 'J', 'E', 'M', 'J', 'G', 'I', 'U', 'S', 'M', 'O', 'C', 'K', 'N', 'M', 'O', 'Y', 'E', 'K', 'A', 'L', 'G', 'M', 'U', 'Y', 'Y', 'A', 'B', 'Q', 'W', 'H', 'U', 'M', 'P', 'N', 'C', 'nothing', 'J', 'L', 'J', 'R', 'J', 'P', 'T', 'U', 'V', 'H', 'V', 'I', 'F', 'D', 'R', 'F', 'E', 'B', 'nothing', 'J', 'del', 'U', 'H', 'J', 'J', 'space', 'J', 'P', 'E', 'Z', 'B', 'O', 'H', 'F', 'R', 'Y', 'I', 'A', 'U', 'space', 'D', 'G', 'U', 'A', 'H', 'Y', 'H', 'O', 'P', 'S', 'I', 'G', 'X', 'del', 'X', 'M', 'J', 'A', 'F', 'Y', 'I', 'C', 'F', 'K', 'P', 'H', 'S', 'O', 'O', 'T', 'B', 'R', 'Q', 'D', 'L', 'F', 'S', 'X', 'N', 'nothing', 'O', 'A', 'E', 'nothing', 'J', 'N', 'W', 'P', 'E', 'P', 'S', 'M', 'S', 'H', 'T', 'S', 'Q', 'D', 'T', 'F', 'Y', 'C', 'I', 'space', 'del', 'V', 'L', 'U', 'S', 'E', 'Y', 'C', 'Y', 'J', 'P', 'F', 'nothing', 'G', 'W', 'G', 'G', 'nothing', 'O', 'O', 'D', 'K', 'I', 'C', 'N', 'M', 'Z', 'F', 'I', 'F', 'D', 'G', 'W', 'L', 'nothing', 'N', 'A', 'Z', 'E', 'P', 'Z', 'U', 'N', 'H', 'B', 'O', 'I', 'K', 'E', 'Q', 'nothing', 'F', 'space', 'T', 'space', 'O', 'I', 'B', 'E', 'N', 'S', 'B', 'I', 'nothing', 'Z', 'A', 'U', 'A', 'del', 'U', 'K', 'space', 'B', 'C', 'A', 'Y', 'O', 'T', 'H', 'space', 'K', 'T', 'X', 'E', 'K', 'V', 'del', 'K', 'G', 'del', 'P', 'del', 'R', 'R', 'M', 'A', 'B', 'H', 'F', 'L', 'H', 'T', 'nothing', 'N', 'H', 'J', 'nothing', 'F', 'F', 'C', 'A', 'A', 'S', 'Y', 'del', 'B', 'B', 'X', 'C', 'D', 'B', 'J', 'A', 'H', 'E', 'E', 'J', 'U', 'W', 'W', 'E', 'P', 'A', 'T', 'P', 'Q', 'R', 'G', 'U', 'G', 'V', 'F', 'I', 'Q', 'M', 'S', 'M', 'M', 'P', 'Q', 'del', 'Y', 'Q', 'S', 'S', 'L', 'L', 'A', 'H', 'Y', 'R', 'B', 'Z', 'T', 'Q', 'Z', 'T', 'U', 'D', 'B', 'D', 'W', 'N', 'del', 'M', 'del', 'I', 'X', 'H', 'P', 'H', 'W', 'N', 'O', 'U', 'del', 'E', 'E', 'I', 'del', 'M', 'del', 'nothing', 'W', 'O', 'T', 'P', 'B', 'Y', 'nothing', 'H', 'M', 'M', 'nothing', 'X', 'U', 'U', 'S', 'Z', 'A', 'del', 'C', 'A', 'N', 'del', 'H', 'P', 'C', 'del', 'F', 'B', 'T', 'O', 'del', 'U', 'I', 'X', 'I', 'S', 'E', 'L', 'P', 'C', 'I', 'S', 'A', 'Y', 'H', 'H', 'M', 'H', 'W', 'K', 'D', 'U', 'K', 'J', 'nothing', 'F', 'O', 'K', 'C', 'U', 'B', 'D', 'T', 'U', 'U', 'X', 'del', 'I', 'C', 'G', 'N', 'L', 'Z', 'H', 'H', 'G', 'M', 'Y', 'del', 'O', 'I', 'nothing', 'X', 'D', 'U', 'A', 'E', 'T', 'U', 'V', 'F', 'K', 'del', 'K', 'nothing', 'B', 'K', 'O', 'G', 'nothing', 'R', 'R', 'O', 'P', 'Y', 'D', 'D', 'A', 'E', 'U', 'S', 'S', 'V', 'S', 'O', 'del', 'V', 'del', 'K', 'del', 'E', 'V', 'R', 'A', 'X', 'B', 'D', 'G', 'M', 'T', 'O', 'nothing', 'L', 'L', 'T', 'R', 'K', 'D', 'Z', 'A', 'W', 'E', 'S', 'Z', 'V', 'F', 'E', 'F', 'S', 'V', 'V', 'A', 'I', 'nothing', 'K', 'R', 'L', 'I', 'nothing', 'Z', 'G', 'X', 'V', 'T', 'N', 'K', 'S', 'T', 'del', 'G', 'C', 'R', 'D', 'F', 'G', 'S', 'J', 'F', 'T', 'D', 'nothing', 'del', 'A', 'U', 'D', 'U', 'N', 'U', 'Q', 'S', 'nothing', 'R', 'G', 'H', 'W', 'V', 'space', 'Q', 'T', 'X', 'P', 'E', 'Q', 'Y', 'Z', 'Z', 'E', 'N', 'K', 'N', 'C', 'H', 'F', 'P', 'del', 'V', 'S', 'del', 'P', 'nothing', 'R', 'Z', 'Y', 'H', 'X', 'H', 'H', 'V', 'O', 'H', 'O', 'J', 'space', 'O', 'E', 'P', 'I', 'Y', 'P', 'nothing', 'Q', 'F', 'C', 'R', 'R', 'P', 'E', 'O', 'A', 'O', 'M', 'V', 'E', 'P', 'I', 'C', 'Z', 'nothing', 'R', 'O', 'Z', 'B', 'N', 'E', 'W', 'S', 'A', 'D', 'N', 'U', 'K', 'K', 'R', 'R', 'A', 'V', 'W', 'del', 'E', 'K', 'R', 'B', 'V', 'B', 'N', 'space', 'D', 'E', 'U', 'S', 'Q', 'B', 'Y', 'U', 'Q', 'N', 'Q', 'F', 'I', 'M', 'C', 'B', 'P', 'nothing', 'P', 'del', 'Y', 'J', 'E', 'C', 'V', 'M', 'M', 'V', 'O', 'E', 'B', 'X', 'K', 'Z', 'L', 'Q', 'V', 'C', 'S', 'B', 'Q', 'Z', 'H', 'P', 'R', 'G', 'nothing', 'S', 'del', 'Z', 'G', 'H', 'H', 'M', 'V', 'W', 'D', 'X', 'M', 'A', 'N', 'nothing', 'Q', 'N', 'M', 'O', 'Z', 'X', 'del', 'L', 'J', 'M', 'W', 'O', 'S', 'T', 'X', 'I', 'space', 'del', 'O', 'W', 'A', 'V', 'F', 'H', 'P', 'K', 'S', 'W', 'Z', 'B', 'F', 'B', 'F', 'R', 'T', 'W', 'D', 'J', 'G', 'X', 'C', 'H', 'W', 'F', 'Q', 'U', 'nothing', 'W', 'Y', 'V', 'G', 'N', 'K', 'S', 'R', 'H', 'O', 'N', 'T', 'R', 'E', 'Z', 'T', 'I', 'T', 'G', 'V', 'W', 'space', 'Z', 'J', 'G', 'L', 'U', 'Z', 'M', 'Z', 'nothing', 'Z', 'Z', 'T', 'F', 'L', 'del', 'Y', 'N', 'S', 'K', 'N', 'D', 'J', 'Z', 'U', 'K', 'I', 'V', 'W', 'U', 'F', 'N', 'E', 'E', 'P', 'M', 'V', 'E', 'V', 'F', 'N', 'I', 'S', 'N', 'C', 'W', 'D', 'X', 'nothing', 'J', 'space', 'T', 'O', 'C', 'V', 'N', 'G', 'nothing', 'A', 'U', 'del', 'L', 'V', 'U', 'O', 'K', 'H', 'G', 'V', 'U', 'B', 'X', 'T', 'Z', 'I', 'R', 'M', 'V', 'K', 'P', 'del', 'B', 'nothing', 'V', 'E', 'M', 'S', 'Z', 'J', 'M', 'M', 'L', 'E', 'I', 'S', 'O', 'H', 'L', 'K', 'E', 'J', 'I', 'W', 'space', 'P', 'N', 'O', 'Q', 'nothing', 'H', 'Z', 'Q', 'A', 'B', 'nothing', 'E', 'J', 'F', 'R', 'F', 'P', 'E', 'Y', 'S', 'nothing', 'del', 'I', 'D', 'D', 'C', 'I', 'P', 'U', 'G', 'W', 'X', 'G', 'B', 'Q', 'S', 'B', 'E', 'del', 'T', 'Q', 'space', 'E', 'E', 'A', 'F', 'S', 'K', 'P', 'E', 'B', 'B', 'H', 'Y', 'del', 'M', 'D', 'H', 'X', 'F', 'Z', 'U', 'G', 'W', 'C', 'C', 'I', 'Y', 'D', 'K', 'P', 'I', 'V', 'A', 'O', 'D', 'X', 'X', 'Y', 'R', 'O', 'P', 'L', 'F', 'O', 'I', 'P', 'D', 'S', 'H', 'E', 'Z', 'N', 'N', 'F', 'H', 'A', 'X', 'N', 'G', 'W', 'Y', 'R', 'O', 'Y', 'X', 'J', 'F', 'K', 'T', 'V', 'P', 'W', 'V', 'D', 'S', 'D', 'K', 'V', 'N', 'F', 'R', 'del', 'T', 'Y', 'K', 'A', 'Y', 'X', 'nothing', 'M', 'V', 'Y', 'K', 'R', 'S', 'U', 'P', 'H', 'A', 'L', 'Z', 'O', 'D', 'S', 'V', 'X', 'nothing', 'C', 'S', 'X', 'H', 'U', 'G', 'A', 'T', 'L', 'O', 'Z', 'E', 'space', 'F', 'N', 'E', 'A', 'Z', 'C', 'H', 'P', 'nothing', 'R', 'S', 'O', 'S', 'C', 'W', 'H', 'V', 'nothing', 'nothing', 'R', 'I', 'R', 'N', 'B', 'P', 'P', 'C', 'W', 'space', 'J', 'L', 'del', 'X', 'C', 'Y', 'Q', 'P', 'K', 'I', 'B', 'M', 'T', 'U', 'del', 'U', 'W', 'nothing', 'A', 'P', 'nothing', 'L', 'U', 'O', 'T', 'S', 'I', 'K', 'Z', 'H', 'R', 'C', 'Z', 'nothing', 'T', 'U', 'H', 'C', 'nothing', 'del', 'K', 'W', 'B', 'J', 'Q', 'nothing', 'A', 'H', 'L', 'M', 'V', 'Q', 'Z', 'D', 'A', 'P', 'E', 'S', 'R', 'S', 'E', 'G', 'N', 'D', 'I', 'P', 'space', 'A', 'Z', 'I', 'R', 'S', 'W', 'del', 'N', 'E', 'T', 'Q', 'S', 'W', 'J', 'T', 'Z', 'R', 'S', 'X', 'B', 'V', 'K', 'T', 'I', 'Y', 'V', 'O', 'H', 'nothing', 'I', 'I', 'W', 'J', 'P', 'N', 'U', 'K', 'T', 'E', 'N', 'C', 'T', 'I', 'E', 'A', 'C', 'H', 'N', 'Y', 'R', 'K', 'Z', 'F', 'O', 'A', 'P', 'V', 'U', 'I', 'V', 'V', 'H', 'N', 'U', 'space', 'B', 'G', 'R', 'N', 'U', 'F', 'I', 'M', 'G', 'J', 'W', 'A', 'P', 'U', 'B', 'M', 'N', 'D', 'R', 'J', 'D', 'W', 'S', 'B', 'M', 'B', 'Y', 'X', 'S', 'G', 'C', 'W', 'O', 'F', 'P', 'space', 'O', 'G', 'N', 'D', 'Z', 'G', 'L', 'Y', 'Z', 'W', 'M', 'B', 'I', 'K', 'I', 'T', 'A', 'D', 'I', 'X', 'S', 'O', 'F', 'N', 'R', 'H', 'L', 'B', 'G', 'B', 'X', 'E', 'G', 'X', 'C', 'R', 'Q', 'T', 'V', 'A', 'C', 'T', 'H', 'nothing', 'P', 'I', 'S', 'W', 'W', 'W', 'space', 'Y', 'G', 'U', 'Y', 'C', 'I', 'X', 'I', 'W', 'Y', 'space', 'D', 'U', 'space', 'nothing', 'del', 'K', 'W', 'A', 'F', 'E', 'M', 'Z', 'L', 'C', 'L', 'D', 'F', 'space', 'M', 'O', 'E', 'Q', 'T', 'U', 'E', 'W', 'A', 'K', 'N', 'R', 'S', 'S', 'W', 'O', 'K', 'U', 'J', 'O', 'Z', 'U', 'V', 'J', 'nothing', 'del', 'I', 'J', 'F', 'W', 'B', 'Q', 'F', 'E', 'V', 'space', 'A', 'C', 'M', 'E', 'Q', 'U', 'R', 'space', 'M', 'Z', 'K', 'Q', 'nothing', 'B', 'V', 'nothing', 'P', 'X', 'I', 'C', 'G', 'R', 'I', 'E', 'Q', 'E', 'G', 'V', 'D', 'D', 'P', 'del', 'D', 'Q', 'W', 'I', 'G', 'del', 'S', 'X', 'H', 'R', 'E', 'del', 'U', 'M', 'E', 'G', 'B', 'M', 'R', 'I', 'P', 'B', 'G', 'C', 'C', 'M', 'C', 'K', 'F', 'T', 'R', 'M', 'F', 'del', 'nothing', 'J', 'S', 'S', 'P', 'P', 'M', 'N', 'L', 'D', 'I', 'O', 'H', 'R', 'Q', 'G', 'Y', 'I', 'P', 'D', 'F', 'P', 'X', 'T', 'G', 'J', 'G', 'G', 'B', 'M', 'S', 'I', 'R', 'nothing', 'U', 'G', 'L', 'K', 'B', 'R', 'W', 'M', 'D', 'I', 'R', 'V', 'K', 'A', 'V', 'V', 'W', 'A', 'K', 'C', 'space', 'S', 'P', 'B', 'P', 'del', 'del', 'H', 'space', 'T', 'M', 'P', 'N', 'R', 'E', 'D', 'O', 'O', 'G', 'C', 'Q', 'U', 'J', 'A', 'D', 'D', 'space', 'K', 'del', 'B', 'F', 'B', 'D', 'O', 'E', 'N', 'X', 'Z', 'B', 'W', 'S', 'R', 'H', 'O', 'Z', 'B', 'D', 'V', 'space', 'X', 'K', 'G', 'W', 'X', 'H', 'V', 'G', 'R', 'space', 'A', 'J', 'M', 'I', 'Z', 'G', 'Y', 'B', 'A', 'D', 'R', 'R', 'R', 'space', 'A', 'G', 'G', 'X', 'B', 'S', 'I', 'nothing', 'K', 'R', 'E', 'del', 'P', 'G', 'G', 'M', 'A', 'I', 'O', 'space', 'C', 'J', 'V', 'N', 'I', 'U', 'D', 'nothing', 'nothing', 'L', 'C', 'Z', 'F', 'Z', 'F', 'U', 'R', 'space', 'Z', 'C', 'del', 'Q', 'M', 'L', 'space', 'U', 'G', 'E', 'U', 'G', 'Z', 'Q', 'del', 'P', 'A', 'T', 'nothing', 'A', 'del', 'Q', 'N', 'Z', 'T', 'N', 'L', 'X', 'L', 'E', 'S', 'L', 'Z', 'T', 'Q', 'M', 'W', 'M', 'M', 'K', 'R', 'M', 'I', 'T', 'Q', 'S', 'H', 'V', 'F', 'Q', 'Z', 'M', 'V', 'U', 'F', 'I', 'X', 'I', 'nothing', 'Z', 'Q', 'T', 'K', 'B', 'nothing', 'A', 'F', 'A', 'U', 'Q', 'J', 'B', 'H', 'E', 'B', 'V', 'L', 'Q', 'H', 'S', 'Q', 'V', 'F', 'F', 'F', 'A', 'del', 'X', 'C', 'L', 'L', 'T', 'U', 'Z', 'F', 'H', 'B', 'O', 'J', 'S', 'P', 'C', 'V', 'H', 'T', 'X', 'P', 'E', 'I', 'D', 'U', 'G', 'K', 'O', 'R', 'X', 'space', 'H', 'space', 'P', 'A', 'X', 'W', 'F', 'R', 'Q', 'V', 'P', 'nothing', 'L', 'S', 'O', 'I', 'I', 'V', 'P', 'M', 'space', 'F', 'U', 'K', 'space', 'Q', 'del', 'Q', 'O', 'W', 'H', 'J', 'K', 'K', 'E', 'L', 'nothing', 'T', 'Q', 'D', 'U', 'del', 'T', 'N', 'U', 'J', 'H', 'E', 'C', 'U', 'K', 'del', 'M', 'W', 'N', 'space', 'H', 'K', 'del', 'M', 'C', 'V', 'M', 'N', 'Z', 'N', 'K', 'C', 'R', 'S', 'Z', 'H', 'C', 'E', 'B', 'T', 'R', 'P', 'H', 'F', 'V', 'J', 'W', 'M', 'D', 'C', 'A', 'J', 'E', 'F', 'space', 'P', 'J', 'V', 'nothing', 'X', 'Z', 'Y', 'L', 'M', 'nothing', 'N', 'W', 'del', 'B', 'X', 'del', 'B', 'nothing', 'W', 'E', 'N', 'A', 'I', 'E', 'S', 'nothing', 'space', 'N', 'C', 'Q', 'I', 'D', 'Z', 'P', 'J', 'U', 'nothing', 'X', 'del', 'F', 'Y', 'S', 'L', 'Z', 'Y', 'T', 'F', 'Q', 'V', 'nothing', 'I', 'X', 'P', 'Z', 'M', 'Q', 'del', 'U', 'Y', 'I', 'I', 'K', 'P', 'nothing', 'F', 'A', 'E', 'K', 'X', 'Q', 'B', 'U', 'G', 'U', 'A', 'W', 'K', 'space', 'P', 'D', 'Z', 'E', 'X', 'G', 'U', 'L', 'U', 'D', 'W', 'Y', 'R', 'T', 'E', 'G', 'J', 'O', 'nothing', 'M', 'space', 'B', 'U', 'Y', 'B', 'T', 'Z', 'G', 'O', 'V', 'I', 'S', 'Q', 'W', 'N', 'K', 'V', 'K', 'K', 'Z', 'Q', 'T', 'K', 'T', 'Q', 'Y', 'S', 'U', 'M', 'V', 'nothing', 'B', 'C', 'L', 'W', 'D', 'R', 'L', 'nothing', 'E', 'L', 'D', 'P', 'D', 'E', 'D', 'F', 'Y', 'P', 'Z', 'H', 'K', 'D', 'T', 'C', 'E', 'V', 'V', 'S', 'P', 'V', 'K', 'J', 'nothing', 'K', 'D', 'O', 'Q', 'O', 'R', 'C', 'space', 'T', 'A', 'L', 'R', 'E', 'J', 'C', 'A', 'U', 'S', 'H', 'I', 'N', 'P', 'Q', 'M', 'M', 'F', 'A', 'I', 'Q', 'E', 'H', 'Z', 'R', 'X', 'X', 'O', 'H', 'P', 'B', 'F', 'O', 'E', 'nothing', 'N', 'W', 'L', 'R', 'del', 'R', 'P', 'W', 'V', 'V', 'E', 'B', 'D', 'B', 'K', 'I', 'B', 'N', 'T', 'X', 'F', 'W', 'H', 'nothing', 'I', 'A', 'G', 'K', 'U', 'V', 'nothing', 'M', 'Y', 'V', 'K', 'nothing', 'nothing', 'L', 'O', 'M', 'nothing', 'I', 'N', 'Q', 'I', 'J', 'G', 'O', 'Y', 'O', 'G', 'Z', 'S', 'space', 'H', 'G', 'K', 'D', 'I', 'W', 'I', 'E', 'O', 'G', 'H', 'Y', 'D', 'B', 'nothing', 'Y', 'X', 'R', 'W', 'V', 'nothing', 'K', 'A', 'E', 'O', 'V', 'O', 'X', 'K', 'J', 'D', 'W', 'I', 'O', 'O', 'G', 'S', 'Z', 'C', 'A', 'del', 'V', 'R', 'Z', 'F', 'V', 'space', 'D', 'A', 'W', 'F', 'O', 'space', 'E', 'B', 'F', 'X', 'Y', 'K', 'U', 'V', 'space', 'O', 'Y', 'space', 'del', 'C', 'P', 'G', 'P', 'O', 'A', 'nothing', 'V', 'K', 'B', 'D', 'S', 'S', 'M', 'J', 'E', 'T', 'G', 'space', 'F', 'A', 'Q', 'O', 'space', 'I', 'Y', 'V', 'R', 'C', 'S', 'T', 'C', 'J', 'C', 'Z', 'G', 'space', 'G', 'E', 'M', 'F', 'B', 'T', 'O', 'L', 'Q', 'G', 'D', 'R', 'Y', 'J', 'O', 'L', 'M', 'Z', 'G', 'W', 'U', 'T', 'D', 'J', 'R', 'S', 'V', 'X', 'space', 'N', 'nothing', 'del', 'J', 'V', 'B', 'Q', 'G', 'I', 'U', 'X', 'O', 'nothing', 'B', 'D', 'O', 'S', 'E', 'B', 'del', 'H', 'R', 'T', 'K', 'K', 'E', 'H', 'del', 'D', 'R', 'P', 'space', 'H', 'Z', 'D', 'del', 'H', 'B', 'X', 'Z', 'space', 'W', 'Q', 'C', 'Q', 'K', 'O', 'U', 'U', 'A', 'T', 'Z', 'A', 'X', 'C', 'U', 'A', 'E', 'U', 'P', 'B', 'S', 'G', 'O', 'K', 'H', 'H', 'V', 'E', 'Y', 'T', 'Q', 'O', 'W', 'H', 'X', 'M', 'P', 'U', 'J', 'N', 'C', 'P', 'S', 'P', 'I', 'B', 'D', 'Q', 'J', 'J', 'J', 'Q', 'M', 'B', 'X', 'B', 'J', 'K', 'M', 'Q', 'M', 'Z', 'space', 'N', 'Y', 'D', 'Y', 'W', 'F', 'H', 'A', 'O', 'Z', 'S', 'D', 'F', 'Y', 'Y', 'P', 'U', 'J', 'V', 'K', 'H', 'S', 'A', 'C', 'Q', 'B', 'space', 'del', 'A', 'Z', 'Y', 'K', 'Q', 'L', 'P', 'Z', 'R', 'W', 'L', 'del', 'H', 'S', 'C', 'H', 'P', 'L', 'N', 'S', 'H', 'U', 'X', 'H', 'del', 'I', 'P', 'U', 'del', 'X', 'H', 'G', 'R', 'B', 'P', 'U', 'Q', 'Q', 'B', 'F', 'H', 'X', 'E', 'Q', 'J', 'H', 'del', 'Y', 'X', 'Z', 'A', 'F', 'J', 'P', 'G', 'H', 'K', 'M', 'nothing', 'A', 'F', 'I', 'P', 'L', 'W', 'E', 'T', 'V', 'Z', 'A', 'I', 'Q', 'Q', 'R', 'M', 'T', 'F', 'G', 'M', 'C', 'X', 'del', 'F', 'A', 'M', 'W', 'I', 'Y', 'S', 'Y', 'J', 'space', 'L', 'U', 'I', 'H', 'D', 'Y', 'U', 'E', 'P', 'S', 'T', 'X', 'E', 'M', 'S', 'M', 'V', 'T', 'J', 'V', 'E', 'B', 'S', 'X', 'Z', 'Z', 'J', 'M', 'S', 'D', 'R', 'K', 'H', 'space', 'C', 'space', 'K', 'space', 'P', 'P', 'F', 'M', 'V', 'P', 'space', 'X', 'P', 'P', 'A', 'B', 'X', 'D', 'U', 'W', 'J', 'P', 'L', 'V', 'E', 'del', 'G', 'K', 'R', 'F', 'S', 'L', 'N', 'L', 'B', 'E', 'W', 'K', 'S', 'del', 'Y', 'D', 'B', 'J', 'Q', 'Q', 'L', 'H', 'L', 'V', 'L', 'V', 'G', 'X', 'A', 'F', 'del', 'H', 'B', 'H', 'L', 'O', 'X', 'V', 'K', 'J', 'U', 'B', 'K', 'Z', 'L', 'P', 'B', 'J', 'R', 'I', 'O', 'C', 'R', 'J', 'M', 'W', 'V', 'O', 'Y', 'B', 'W', 'W', 'E', 'P', 'I', 'X', 'del', 'F', 'M', 'N', 'P', 'Z', 'V', 'X', 'space', 'C', 'L', 'C', 'del', 'C', 'T', 'Q', 'del', 'M', 'X', 'del', 'N', 'K', 'O', 'H', 'E', 'nothing', 'del', 'F', 'V', 'P', 'C', 'D', 'A', 'del', 'B', 'J', 'G', 'L', 'R', 'J', 'O', 'B', 'G', 'L', 'K', 'J', 'I', 'B', 'L', 'S', 'Z', 'N', 'M', 'J', 'P', 'T', 'U', 'S', 'space', 'W', 'W', 'S', 'V', 'O', 'B', 'Q', 'S', 'del', 'C', 'P', 'F', 'K', 'S', 'space', 'D', 'W', 'Z', 'M', 'G', 'B', 'nothing', 'K', 'del', 'Y', 'I', 'C', 'V', 'U', 'nothing', 'W', 'F', 'H', 'F', 'B', 'S', 'X', 'L', 'U', 'del', 'U', 'J', 'E', 'G', 'space', 'nothing', 'T', 'L', 'I', 'T', 'nothing', 'T', 'W', 'N', 'J', 'A', 'Z', 'G', 'C', 'K', 'Y', 'L', 'T', 'C', 'D', 'P', 'U', 'J', 'P', 'M', 'U', 'Y', 'N', 'G', 'X', 'nothing', 'M', 'T', 'S', 'X', 'W', 'J', 'N', 'W', 'H', 'J', 'N', 'C', 'G', 'Q', 'O', 'R', 'F', 'A', 'M', 'R', 'V', 'Z', 'C', 'X', 'space', 'W', 'G', 'K', 'W', 'del', 'J', 'N', 'W', 'R', 'K', 'P', 'T', 'Z', 'R', 'M', 'L', 'N', 'L', 'space', 'G', 'Q', 'H', 'G', 'del', 'I', 'R', 'R', 'nothing', 'M', 'L', 'T', 'S', 'E', 'space', 'R', 'L', 'D', 'T', 'nothing', 'I', 'F', 'U', 'C', 'L', 'G', 'nothing', 'S', 'W', 'M', 'H', 'S', 'E', 'V', 'M', 'H', 'K', 'M', 'Y', 'C', 'X', 'X', 'F', 'F', 'del', 'J', 'A', 'N', 'A', 'nothing', 'H', 'U', 'O', 'T', 'B', 'Y', 'X', 'E', 'E', 'C', 'P', 'A', 'C', 'T', 'N', 'M', 'C', 'P', 'H', 'G', 'Q', 'V', 'Z', 'L', 'U', 'M', 'space', 'W', 'O', 'F', 'C', 'Y', 'B', 'F', 'L', 'del', 'T', 'C', 'V', 'T', 'space', 'del', 'nothing', 'O', 'H', 'U', 'Y', 'D', 'del', 'N', 'L', 'S', 'T', 'O', 'S', 'Z', 'B', 'T', 'space', 'V', 'F', 'Q', 'Q', 'nothing', 'E', 'nothing', 'del', 'E', 'N', 'D', 'I', 'D', 'E', 'I', 'space', 'W', 'H', 'L', 'Q', 'L', 'X', 'E', 'nothing', 'J', 'Y', 'T', 'D', 'A', 'W', 'Y', 'O', 'M', 'B', 'D', 'V', 'K', 'I', 'J', 'Q', 'E', 'U', 'S', 'U', 'Z', 'F', 'B', 'E', 'L', 'T', 'N', 'P', 'G', 'B', 'C', 'O', 'Q', 'H', 'I', 'Z', 'F', 'E', 'C', 'R', 'G', 'P', 'N', 'T', 'G', 'Z', 'space', 'X', 'A', 'O', 'A', 'J', 'J', 'del', 'Y', 'E', 'A', 'H', 'space', 'W', 'U', 'M', 'H', 'H', 'T', 'space', 'N', 'M', 'Z', 'U', 'X', 'B', 'I', 'Q', 'S', 'H', 'L', 'H', 'H', 'T', 'J', 'V', 'O', 'E', 'R', 'Y', 'E', 'S', 'D', 'F', 'G', 'nothing', 'C', 'Q', 'U', 'Q', 'Q', 'K', 'L', 'G', 'T', 'B', 'W', 'X', 'space', 'U', 'A', 'W', 'Y', 'U', 'C', 'F', 'del', 'H', 'M', 'space', 'E', 'L', 'N', 'Y', 'O', 'X', 'Y', 'D', 'N', 'Y', 'nothing', 'nothing', 'V', 'Y', 'S', 'D', 'F', 'R', 'nothing', 'F', 'del', 'I', 'U', 'A', 'Z', 'A', 'R', 'space', 'O', 'N', 'Z', 'G', 'T', 'J', 'N', 'M', 'I', 'J', 'G', 'D', 'L', 'nothing', 'nothing', 'Z', 'Z', 'Y', 'D', 'C', 'W', 'B', 'M', 'M', 'G', 'del', 'U', 'S', 'O', 'M', 'W', 'T', 'del', 'O', 'Y', 'D', 'K', 'D', 'A', 'O', 'D', 'X', 'K', 'L', 'nothing', 'X', 'M', 'K', 'space', 'I', 'del', 'T', 'S', 'B', 'del', 'A', 'A', 'B', 'del', 'nothing', 'F', 'V', 'P', 'H', 'Z', 'F', 'L', 'del', 'nothing', 'J', 'F', 'H', 'O', 'C', 'S', 'S', 'P', 'J', 'D', 'X', 'S', 'del', 'K', 'K', 'J', 'X', 'L', 'K', 'R', 'F', 'I', 'N', 'space', 'K', 'I', 'H', 'R', 'del', 'P', 'Q', 'L', 'U', 'B', 'M', 'T', 'U', 'del', 'Y', 'space', 'T', 'J', 'P', 'A', 'I', 'U', 'D', 'R', 'A', 'R', 'J', 'D', 'Q', 'S', 'E', 'G', 'nothing', 'U', 'F', 'H', 'E', 'J', 'O', 'B', 'T', 'A', 'D', 'R', 'F', 'T', 'C', 'C', 'I', 'M', 'Q', 'V', 'Y', 'del', 'nothing', 'Q', 'S', 'O', 'Z', 'C', 'T', 'U', 'F', 'Y', 'space', 'B', 'R', 'G', 'F', 'B', 'space', 'U', 'O', 'Z', 'A', 'F', 'S', 'B', 'V', 'V', 'Y', 'A', 'I', 'W', 'M', 'V', 'L', 'M', 'A', 'P', 'L', 'T', 'D', 'H', 'M', 'D', 'C', 'L', 'M', 'K', 'T', 'S', 'R', 'W', 'G', 'B', 'space', 'N', 'Z', 'Y', 'F', 'W', 'Q', 'C', 'M', 'nothing', 'P', 'X', 'R', 'nothing', 'H', 'C', 'S', 'B', 'W', 'H', 'X', 'X', 'P', 'V', 'space', 'K', 'L', 'O', 'S', 'P', 'C', 'A', 'I', 'W', 'L', 'Y', 'A', 'S', 'R', 'J', 'J', 'B', 'V', 'K', 'X', 'M', 'J', 'O', 'V', 'L', 'R', 'K', 'Y', 'Q', 'D', 'nothing', 'U', 'W', 'R', 'U', 'G', 'X', 'X', 'nothing', 'F', 'B', 'O', 'V', 'A', 'B', 'Z', 'C', 'K', 'K', 'J', 'T', 'W', 'F', 'space', 'G', 'W', 'Z', 'P', 'W', 'Y', 'Z', 'U', 'B', 'Q', 'J', 'J', 'P', 'Q', 'T', 'T', 'nothing', 'F', 'N', 'N', 'M', 'del', 'Y', 'nothing', 'R', 'B', 'N', 'R', 'A', 'R', 'del', 'V', 'Q', 'Q', 'N', 'U', 'C', 'Z', 'Z', 'E', 'B', 'L', 'D', 'K', 'T', 'J', 'U', 'P', 'R', 'U', 'G', 'T', 'J', 'J', 'del', 'del', 'J', 'S', 'B', 'C', 'B', 'I', 'A', 'F', 'A', 'K', 'E', 'Z', 'U', 'N', 'Z', 'F', 'G', 'I', 'X', 'V', 'T', 'C', 'Q', 'D', 'G', 'P', 'B', 'H', 'X', 'W', 'O', 'Q', 'A', 'Z', 'S', 'Y', 'H', 'I', 'R', 'A', 'S', 'L', 'R', 'Z', 'L', 'C', 'M', 'E', 'S', 'L', 'P', 'E', 'M', 'L', 'nothing', 'F', 'A', 'Z', 'K', 'Q', 'Y', 'S', 'S', 'R', 'W', 'X', 'X', 'N', 'F', 'I', 'R', 'Y', 'W', 'V', 'D', 'D', 'nothing', 'D', 'L', 'B', 'R', 'C', 'G', 'S', 'M', 'N', 'F', 'S', 'Q', 'B', 'N', 'space', 'T', 'A', 'W', 'X', 'M', 'T', 'U', 'U', 'W', 'J', 'W', 'H', 'K', 'F', 'V', 'C', 'P', 'P', 'C', 'U', 'K', 'Z', 'F', 'L', 'W', 'D', 'S', 'M', 'U', 'Y', 'H', 'H', 'S', 'J', 'Q', 'I', 'T', 'Q', 'O', 'F', 'H', 'N', 'W', 'nothing', 'G', 'R', 'U', 'L', 'W', 'A', 'Z', 'nothing', 'G', 'L', 'D', 'D', 'H', 'S', 'A', 'W', 'W', 'P', 'del', 'W', 'O', 'P', 'K', 'H', 'F', 'X', 'P', 'nothing', 'U', 'V', 'S', 'C', 'W', 'V', 'U', 'Q', 'nothing', 'del', 'space', 'H', 'space', 'R', 'R', 'F', 'X', 'A', 'L', 'nothing', 'T', 'V', 'G', 'W', 'F', 'T', 'D', 'C', 'M', 'S', 'W', 'V', 'R', 'N', 'H', 'O', 'J', 'W', 'X', 'I', 'M', 'R', 'F', 'del', 'V', 'H', 'M', 'space', 'S', 'P', 'W', 'D', 'E', 'del', 'nothing', 'F', 'Z', 'del', 'L', 'F', 'E', 'H', 'K', 'M', 'L', 'N', 'A', 'P', 'G', 'H', 'V', 'P', 'H', 'N', 'O', 'V', 'J', 'T', 'T', 'S', 'Y', 'C', 'M', 'space', 'S', 'nothing', 'C', 'R', 'B', 'H', 'N', 'N', 'E', 'G', 'K', 'space', 'K', 'P', 'Q', 'S', 'C', 'G', 'L', 'S', 'V', 'Q', 'O', 'N', 'G', 'K', 'I', 'B', 'L', 'B', 'R', 'nothing', 'W', 'R', 'R', 'B', 'D', 'N', 'Q', 'M', 'O', 'I', 'del', 'del', 'D', 'F', 'R', 'T', 'C', 'space', 'R', 'X', 'Q', 'K', 'D', 'G', 'del', 'R', 'O', 'I', 'M', 'O', 'F', 'H', 'X', 'X', 'U', 'E', 'space', 'C', 'T', 'Z', 'H', 'P', 'Z', 'nothing', 'P', 'A', 'E', 'X', 'Q', 'C', 'Q', 'V', 'L', 'Y', 'Y', 'B', 'nothing', 'Y', 'P', 'O', 'space', 'R', 'K', 'L', 'W', 'Y', 'T', 'K', 'M', 'C', 'Y', 'A', 'B', 'T', 'N', 'D', 'del', 'O', 'I', 'H', 'L', 'U', 'H', 'K', 'nothing', 'P', 'C', 'D', 'R', 'Z', 'nothing', 'del', 'Z', 'Y', 'B', 'C', 'R', 'G', 'S', 'nothing', 'nothing', 'T', 'E', 'O', 'X', 'K', 'N', 'G', 'L', 'C', 'U', 'D', 'N', 'K', 'U', 'I', 'space', 'L', 'X', 'N', 'V', 'Y', 'B', 'I', 'W', 'N', 'V', 'V', 'H', 'M', 'D', 'del', 'U', 'Z', 'Q', 'A', 'T', 'S', 'G', 'O', 'G', 'U', 'W', 'S', 'N', 'K', 'R', 'E', 'space', 'N', 'H', 'G', 'G', 'C', 'L', 'G', 'C', 'I', 'del', 'B', 'I', 'A', 'L', 'Q', 'I', 'N', 'K', 'P', 'R', 'S', 'W', 'Y', 'Y', 'X', 'S', 'M', 'Z', 'C', 'L', 'V', 'H', 'space', 'del', 'S', 'N', 'S', 'S', 'del', 'C', 'R', 'X', 'nothing', 'Z', 'space', 'K', 'X', 'Z', 'H', 'C', 'D', 'R', 'del', 'F', 'Z', 'M', 'I', 'A', 'del', 'O', 'M', 'J', 'V', 'D', 'F', 'U', 'B', 'E', 'K', 'G', 'N', 'W', 'V', 'N', 'U', 'Z', 'D', 'X', 'S', 'space', 'X', 'T', 'D', 'A', 'B', 'D', 'Z', 'nothing', 'W', 'V', 'Y', 'L', 'V', 'O', 'C', 'O', 'C', 'M', 'del', 'Y', 'Z', 'P', 'H', 'S', 'L', 'O', 'P', 'W', 'C', 'L', 'K', 'N', 'A', 'F', 'A', 'space', 'del', 'space', 'nothing', 'K', 'Z', 'G', 'N', 'X', 'X', 'O', 'I', 'W', 'W', 'nothing', 'W', 'Q', 'K', 'S', 'N', 'M', 'D', 'nothing', 'D', 'Q', 'P', 'X', 'A', 'Y', 'M', 'T', 'D', 'G', 'space', 'J', 'U', 'E', 'D', 'del', 'J', 'space', 'T', 'O', 'R', 'B', 'B', 'E', 'W', 'Q', 'G', 'U', 'del', 'T', 'O', 'Z', 'X', 'S', 'S', 'O', 'O', 'Q', 'P', 'nothing', 'A', 'M', 'W', 'Q', 'O', 'Q', 'U', 'E', 'X', 'Z', 'M', 'D', 'T', 'V', 'D', 'J', 'Y', 'Y', 'F', 'K', 'Q', 'J', 'C', 'N', 'P', 'J', 'G', 'M', 'S', 'X', 'nothing', 'L', 'Z', 'B', 'H', 'space', 'W', 'Y', 'I', 'E', 'B', 'U', 'M', 'J', 'U', 'C', 'A', 'L', 'O', 'V', 'I', 'O', 'U', 'G', 'S', 'W', 'V', 'I', 'H', 'space', 'E', 'G', 'V', 'G', 'W', 'Z', 'X', 'A', 'N', 'H', 'T', 'T', 'del', 'X', 'Z', 'F', 'N', 'M', 'N', 'space', 'T', 'E', 'nothing', 'G', 'Q', 'P', 'Z', 'O', 'I', 'F', 'Z', 'N', 'S', 'G', 'R', 'J', 'E', 'Q', 'M', 'H', 'M', 'O', 'F', 'W', 'E', 'V', 'E', 'J', 'space', 'J', 'F', 'nothing', 'A', 'N', 'D', 'A', 'K', 'C', 'S', 'S', 'E', 'nothing', 'G', 'space', 'A', 'C', 'L', 'R', 'nothing', 'W', 'K', 'nothing', 'L', 'I', 'W', 'H', 'E', 'E', 'V', 'B', 'R', 'K', 'G', 'H', 'X', 'M', 'V', 'N', 'Q', 'P', 'O', 'F', 'J', 'C', 'A', 'Q', 'H', 'G', 'V', 'I', 'F', 'H', 'space', 'K', 'T', 'L', 'S', 'S', 'Q', 'U', 'B', 'R', 'O', 'X', 'F', 'E', 'W', 'Q', 'W', 'Q', 'X', 'I', 'J', 'F', 'U', 'S', 'B', 'E', 'J', 'C', 'I', 'U', 'D', 'K', 'B', 'E', 'M', 'P', 'Z', 'nothing', 'L', 'Z', 'X', 'R', 'X', 'X', 'T', 'P', 'space', 'V', 'H', 'V', 'N', 'R', 'P', 'nothing', 'S', 'G', 'R', 'N', 'Y', 'O', 'M', 'D', 'space', 'L', 'F', 'K', 'X', 'J', 'Z', 'O', 'L', 'P', 'S', 'X', 'D', 'M', 'Y', 'P', 'Q', 'B', 'R', 'Q', 'E', 'W', 'T', 'R', 'Z', 'B', 'L', 'C', 'G', 'G', 'Y', 'J', 'del', 'I', 'Y', 'C', 'I', 'T', 'S', 'M', 'H', 'K', 'T', 'I', 'Q', 'O', 'Y', 'P', 'E', 'H', 'T', 'L', 'F', 'N', 'J', 'N', 'L', 'V', 'del', 'C', 'C', 'C', 'P', 'T', 'A', 'F', 'D', 'P', 'U', 'space', 'P', 'F', 'U', 'V', 'G', 'nothing', 'M', 'U', 'G', 'Z', 'R', 'Y', 'space', 'I', 'T', 'J', 'N', 'H', 'V', 'G', 'M', 'del', 'J', 'X', 'P', 'D', 'T', 'H', 'R', 'D', 'N', 'N', 'nothing', 'W', 'M', 'G', 'I', 'del', 'E', 'P', 'U', 'Y', 'L', 'I', 'nothing', 'W', 'T', 'E', 'U', 'A', 'T', 'H', 'U', 'U', 'del', 'V', 'T', 'L', 'L', 'L', 'Z', 'nothing', 'H', 'A', 'B', 'space', 'P', 'B', 'nothing', 'W', 'A', 'J', 'J', 'nothing', 'D', 'A', 'D', 'H', 'del', 'Z', 'A', 'W', 'X', 'F', 'L', 'C', 'W', 'M', 'del', 'E', 'G', 'D', 'L', 'R', 'space', 'nothing', 'K', 'G', 'S', 'del', 'E', 'I', 'Y', 'Z', 'J', 'E', 'space', 'A', 'B', 'C', 'I', 'F', 'U', 'F', 'A', 'N', 'B', 'S', 'N', 'I', 'Q', 'S', 'S', 'K', 'G', 'C', 'V', 'Y', 'H', 'space', 'F', 'Q', 'Q', 'T', 'I', 'nothing', 'space', 'X', 'I', 'L', 'N', 'R', 'J', 'N', 'W', 'Q', 'T', 'I', 'G', 'Z', 'U', 'G', 'Z', 'T', 'O', 'X', 'X', 'W', 'S', 'V', 'S', 'B', 'space', 'J', 'P', 'F', 'I', 'A', 'W', 'F', 'L', 'F', 'T', 'N', 'space', 'B', 'J', 'H', 'H', 'B', 'K', 'S', 'K', 'D', 'Q', 'N', 'V', 'Y', 'P', 'P', 'D', 'E', 'Y', 'T', 'del', 'X', 'J', 'L', 'N', 'G', 'H', 'B', 'K', 'R', 'space', 'G', 'L', 'E', 'T', 'C', 'space', 'C', 'L', 'D', 'U', 'A', 'E', 'R', 'M', 'M', 'Q', 'U', 'C', 'V', 'X', 'N', 'T', 'O', 'C', 'N', 'K', 'F', 'del', 'Q', 'E', 'G', 'Q', 'K', 'P', 'S', 'B', 'F', 'L', 'space', 'X', 'Z', 'O', 'A', 'E', 'S', 'D', 'Z', 'U', 'Z', 'X', 'space', 'F', 'H', 'C', 'H', 'T', 'T', 'G', 'X', 'B', 'O', 'U', 'C', 'N', 'T', 'Y', 'A', 'W', 'D', 'F', 'Y', 'C', 'M', 'Z', 'X', 'V', 'G', 'A', 'O', 'G', 'E', 'K', 'O', 'Q', 'M', 'nothing', 'T', 'U', 'del', 'U', 'B', 'X', 'V', 'F', 'N', 'J', 'I', 'H', 'B', 'del', 'A', 'W', 'P', 'space', 'T', 'A', 'O', 'Q', 'L', 'Q', 'O', 'N', 'I', 'G', 'V', 'J', 'O', 'K', 'C', 'Y', 'Y', 'E', 'Z', 'N', 'C', 'I', 'I', 'del', 'C', 'del', 'Y', 'W', 'G', 'P', 'del', 'E', 'O', 'V', 'G', 'H', 'U', 'M', 'X', 'S', 'E', 'V', 'A', 'W', 'space', 'W', 'A', 'nothing', 'K', 'S', 'X', 'E', 'V', 'F', 'T', 'E', 'D', 'J', 'S', 'T', 'G', 'K', 'N', 'E', 'U', 'Q', 'P', 'J', 'M', 'U', 'del', 'H', 'U', 'nothing', 'X', 'T', 'T', 'X', 'S', 'L', 'D', 'G', 'H', 'B', 'space', 'del', 'W', 'Z', 'U', 'N', 'B', 'A', 'Z', 'O', 'A', 'V', 'V', 'I', 'V', 'D', 'L', 'M', 'Q', 'S', 'D', 'del', 'Z', 'V', 'T', 'E', 'Z', 'N', 'space', 'Y', 'R', 'C', 'V', 'C', 'E', 'J', 'N', 'W', 'R', 'O', 'D', 'X', 'Z', 'O', 'N', 'P', 'G', 'I', 'B', 'A', 'E', 'P', 'Y', 'Z', 'L', 'C', 'O', 'del', 'D', 'T', 'M', 'O', 'K', 'Q', 'W', 'I', 'V', 'F', 'del', 'L', 'space', 'space', 'K', 'W', 'L', 'I', 'I', 'M', 'Q', 'nothing', 'O', 'W', 'M', 'space', 'I', 'K', 'G', 'V', 'F', 'F', 'K', 'M', 'B', 'D', 'V', 'M', 'I', 'C', 'G', 'D', 'X', 'L', 'Z', 'C', 'O', 'N', 'K', 'P', 'space', 'R', 'N', 'J', 'M', 'K', 'R', 'Y', 'G', 'S', 'P', 'E', 'Q', 'del', 'Y', 'Q', 'space', 'L', 'Z', 'nothing', 'N', 'B', 'H', 'S', 'R', 'U', 'space', 'K', 'R', 'C', 'D', 'R', 'space', 'nothing', 'O', 'C', 'O', 'C', 'Y', 'L', 'X', 'F', 'A', 'O', 'G', 'X', 'B', 'nothing', 'L', 'C', 'T', 'S', 'E', 'M', 'E', 'Y', 'B', 'F', 'F', 'del', 'A', 'J', 'del', 'J', 'C', 'A', 'Q', 'O', 'B', 'space', 'K', 'R', 'U', 'I', 'S', 'X', 'del', 'D', 'I', 'T', 'W', 'F', 'J', 'A', 'U', 'N', 'del', 'Z', 'K', 'W', 'L', 'Y', 'O', 'nothing', 'X', 'V', 'space', 'W', 'T', 'L', 'X', 'M', 'O', 'del', 'D', 'S', 'N', 'I', 'F', 'N', 'A', 'W', 'del', 'G', 'space', 'S', 'H', 'E', 'C', 'X', 'O', 'C', 'space', 'Y', 'L', 'M', 'del', 'nothing', 'P', 'Q', 'space', 'C', 'space', 'C', 'I', 'I', 'P', 'L', 'M', 'M', 'K', 'L', 'K', 'Z', 'J', 'B', 'F', 'N', 'space', 'P', 'T', 'M', 'E', 'Y', 'K', 'space', 'B', 'N', 'L', 'U', 'O', 'M', 'Z', 'O', 'E', 'J', 'D', 'space', 'M', 'N', 'N', 'C', 'E', 'space', 'del', 'K', 'O', 'Z', 'N', 'R', 'P', 'space', 'Z', 'R', 'A', 'N', 'nothing', 'A', 'space', 'H', 'U', 'S', 'T', 'X', 'D', 'space', 'V', 'U', 'W', 'F', 'Q', 'F', 'Z', 'G', 'D', 'space', 'N', 'Z', 'Y', 'Y', 'G', 'G', 'K', 'E', 'A', 'L', 'Y', 'O', 'I', 'J', 'C', 'Y', 'space', 'Y', 'J', 'W', 'N', 'O', 'R', 'L', 'J', 'space', 'K', 'C', 'X', 'O', 'nothing', 'V', 'E', 'H', 'R', 'S', 'H', 'N', 'K', 'L', 'A', 'Y', 'F', 'U', 'F', 'W', 'I', 'R', 'L', 'F', 'H', 'K', 'del', 'Q', 'T', 'J', 'K', 'W', 'L', 'V', 'W', 'P', 'V', 'T', 'C', 'S', 'L', 'D', 'P', 'E', 'M', 'A', 'del', 'K', 'I', 'L', 'del', 'A', 'del', 'M', 'Z', 'O', 'U', 'space', 'I', 'B', 'M', 'G', 'O', 'C', 'N', 'G', 'N', 'Q', 'E', 'D', 'R', 'J', 'G', 'Q', 'C', 'C', 'R', 'I', 'del', 'G', 'D', 'C', 'S', 'Q', 'W', 'M', 'O', 'S', 'T', 'A', 'E', 'F', 'D', 'nothing', 'D', 'M', 'W', 'G', 'Z', 'space', 'E', 'O', 'O', 'H', 'S', 'W', 'F', 'Y', 'A', 'A', 'space', 'Z', 'V', 'del', 'K', 'Y', 'Q', 'Q', 'Z', 'Y', 'C', 'N', 'space', 'S', 'O', 'H', 'A', 'B', 'Y', 'V', 'V', 'B', 'C', 'H', 'V', 'V', 'F', 'J', 'F', 'U', 'L', 'W', 'Z', 'space', 'space', 'D', 'I', 'L', 'L', 'A', 'R', 'Q', 'L', 'del', 'Y', 'K', 'R', 'nothing', 'del', 'R', 'A', 'I', 'Y', 'Z', 'X', 'del', 'nothing', 'Y', 'K', 'D', 'del', 'E', 'V', 'D', 'O', 'V', 'T', 'R', 'G', 'Y', 'M', 'X', 'J', 'Z', 'M', 'nothing', 'F', 'E', 'B', 'R', 'K', 'del', 'A', 'K', 'K', 'Z', 'L', 'N', 'M', 'N', 'A', 'M', 'Z', 'H', 'H', 'Y', 'J', 'nothing', 'H', 'del', 'Q', 'U', 'T', 'C', 'Y', 'O', 'E', 'A', 'W', 'W', 'space', 'N', 'B', 'A', 'K', 'T', 'N', 'U', 'B', 'K', 'S', 'H', 'I', 'V', 'M', 'L', 'O', 'H', 'C', 'J', 'Q', 'C', 'L', 'C', 'B', 'E', 'P', 'G', 'X', 'V', 'G', 'S', 'P', 'H', 'A', 'W', 'T', 'E', 'P', 'G', 'Q', 'Q', 'N', 'V', 'W', 'A', 'N', 'space', 'N', 'Y', 'V', 'A', 'K', 'O', 'K', 'B', 'W', 'R', 'U', 'J', 'K', 'X', 'C', 'Y', 'Z', 'T', 'space', 'W', 'G', 'H', 'D', 'G', 'C', 'F', 'P', 'O', 'F', 'N', 'O', 'N', 'A', 'U', 'T', 'Q', 'P', 'nothing', 'H', 'N', 'H', 'Y', 'V', 'O', 'C', 'nothing', 'del', 'W', 'A', 'T', 'T', 'G', 'nothing', 'B', 'C', 'P', 'D', 'X', 'J', 'X', 'M', 'L', 'F', 'H', 'A', 'R', 'Q', 'J', 'Q', 'K', 'space', 'A', 'Z', 'G', 'W', 'Y', 'E', 'X', 'H', 'P', 'D', 'Y', 'nothing', 'H', 'F', 'T', 'X', 'K', 'nothing', 'J', 'C', 'nothing', 'K', 'D', 'S', 'del', 'P', 'E', 'L', 'P', 'F', 'T', 'E', 'D', 'T', 'Q', 'W', 'G', 'H', 'W', 'U', 'C', 'R', 'space', 'W', 'P', 'E', 'Y', 'M', 'M', 'Z', 'H', 'X', 'D', 'M', 'S', 'K', 'O', 'I', 'Y', 'O', 'J', 'J', 'V', 'A', 'H', 'P', 'U', 'C', 'X', 'O', 'T', 'E', 'P', 'D', 'S', 'I', 'Z', 'K', 'U', 'R', 'A', 'space', 'U', 'Y', 'B', 'T', 'B', 'Z', 'A', 'M', 'W', 'B', 'J', 'U', 'O', 'U', 'Z', 'H', 'D', 'R', 'del', 'O', 'Z', 'X', 'C', 'S', 'O', 'T', 'L', 'W', 'H', 'del', 'C', 'Q', 'X', 'T', 'Q', 'F', 'I', 'Y', 'V', 'U', 'C', 'V', 'del', 'M', 'U', 'space', 'F', 'L', 'Y', 'Y', 'J', 'J', 'I', 'O', 'nothing', 'S', 'O', 'C', 'I', 'M', 'K', 'P', 'F', 'N', 'M', 'nothing', 'E', 'space', 'X', 'S', 'nothing', 'K', 'G', 'Z', 'Q', 'S', 'S', 'D', 'T', 'N', 'del', 'K', 'T', 'space', 'Y', 'space', 'space', 'nothing', 'E', 'N', 'E', 'T', 'J', 'X', 'F', 'I', 'K', 'B', 'W', 'C', 'A', 'K', 'I', 'K', 'H', 'H', 'X', 'V', 'T', 'A', 'space', 'J', 'M', 'K', 'D', 'V', 'nothing', 'P', 'space', 'U', 'V', 'nothing', 'E', 'S', 'B', 'A', 'space', 'J', 'I', 'O', 'M', 'P', 'E', 'C', 'A', 'C', 'Z', 'X', 'Y', 'space', 'K', 'A', 'O', 'X', 'C', 'T', 'M', 'F', 'space', 'S', 'J', 'W', 'I', 'P', 'G', 'G', 'H', 'B', 'H', 'V', 'H', 'I', 'nothing', 'Z', 'G', 'E', 'O', 'X', 'J', 'Z', 'Q', 'nothing', 'W', 'B', 'B', 'L', 'W', 'G', 'J', 'W', 'R', 'T', 'C', 'Q', 'J', 'Z', 'T', 'T', 'E', 'A', 'R', 'I', 'Y', 'H', 'V', 'N', 'K', 'F', 'D', 'del', 'P', 'A', 'B', 'A', 'Q', 'V', 'space', 'G', 'H', 'Z', 'H', 'space', 'V', 'nothing', 'R', 'T', 'J', 'H', 'E', 'U', 'E', 'U', 'C', 'U', 'del', 'D', 'Y', 'L', 'G', 'U', 'X', 'J', 'L', 'Q', 'K', 'L', 'U', 'S', 'A', 'T', 'P', 'X', 'B', 'C', 'U', 'K', 'del', 'G', 'J', 'J', 'C', 'W', 'Y', 'F', 'I', 'U', 'M', 'P', 'S', 'B', 'M', 'X', 'Z', 'T', 'R', 'del', 'E', 'E', 'E', 'J', 'K', 'nothing', 'I', 'F', 'nothing', 'E', 'W', 'nothing', 'J', 'A', 'space', 'L', 'P', 'J', 'Q', 'F', 'X', 'F', 'L', 'U', 'H', 'B', 'nothing', 'Z', 'del', 'C', 'D', 'L', 'Q', 'T', 'C', 'T', 'Q', 'nothing', 'O', 'Z', 'del', 'Z', 'A', 'H', 'D', 'T', 'R', 'del', 'C', 'Y', 'X', 'nothing', 'K', 'Q', 'M', 'J', 'W', 'W', 'V', 'F', 'nothing', 'U', 'del', 'D', 'Y', 'P', 'U', 'W', 'S', 'space', 'A', 'P', 'G', 'B', 'del', 'D', 'C', 'G', 'U', 'I', 'U', 'del', 'S', 'F', 'Q', 'J', 'nothing', 'X', 'P', 'U', 'M', 'nothing', 'P', 'W', 'nothing', 'L', 'Z', 'L', 'V', 'E', 'U', 'del', 'Y', 'J', 'S', 'space', 'K', 'E', 'T', 'G', 'P', 'V', 'B', 'P', 'E', 'K', 'I', 'T', 'H', 'O', 'E', 'B', 'space', 'I', 'O', 'A', 'O', 'Z', 'C', 'T', 'Y', 'del', 'F', 'X', 'space', 'U', 'Y', 'C', 'O', 'Q', 'N', 'D', 'K', 'I', 'L', 'C', 'I', 'L', 'N', 'S', 'R', 'nothing', 'W', 'C', 'P', 'U', 'K', 'E', 'H', 'I', 'Z', 'A', 'M', 'V', 'O', 'I', 'I', 'M', 'E', 'S', 'M', 'L', 'T', 'Y', 'space', 'A', 'J', 'F', 'del', 'Q', 'nothing', 'E', 'A', 'N', 'T', 'R', 'K', 'Z', 'A', 'V', 'Y', 'D', 'K', 'F', 'S', 'J', 'G', 'T', 'S', 'Z', 'T', 'U', 'O', 'P', 'B', 'J', 'P', 'Q', 'Q', 'B', 'X', 'Y', 'nothing', 'O', 'I', 'Z', 'Z', 'N', 'H', 'I', 'K', 'V', 'O', 'K', 'space', 'Z', 'K', 'V', 'O', 'X', 'P', 'P', 'P', 'F', 'J', 'V', 'del', 'Y', 'L', 'A', 'G', 'X', 'A', 'F', 'J', 'T', 'M', 'E', 'del', 'Z', 'space', 'S', 'F', 'X', 'V', 'del', 'space', 'K', 'E', 'I', 'U', 'P', 'Q', 'space', 'U', 'Y', 'T', 'O', 'U', 'N', 'Q', 'del', 'Z', 'I', 'T', 'Q', 'X', 'Y', 'Q', 'Q', 'Q', 'N', 'nothing', 'G', 'S', 'S', 'B', 'Q', 'Y', 'B', 'G', 'S', 'nothing', 'I', 'S', 'J', 'H', 'K', 'Y', 'Q', 'A', 'V', 'del', 'space', 'J', 'Z', 'O', 'U', 'R', 'J', 'F', 'H', 'X', 'E', 'del', 'U', 'L', 'U', 'A', 'B', 'space', 'J', 'J', 'R', 'Q', 'J', 'W', 'N', 'J', 'F', 'del', 'W', 'H', 'space', 'D', 'Y', 'K', 'Z', 'Z', 'M', 'N', 'Z', 'P', 'F', 'D', 'T', 'S', 'D', 'W', 'J', 'C', 'U', 'Q', 'X', 'X', 'X', 'V', 'M', 'X', 'X', 'L', 'S', 'E', 'X', 'F', 'T', 'O', 'J', 'L', 'H', 'J', 'J', 'nothing', 'S', 'U', 'I', 'P', 'L', 'D', 'F', 'X', 'T', 'J', 'D', 'U', 'S', 'M', 'del', 'E', 'S', 'space', 'G', 'J', 'S', 'I', 'S', 'N', 'Z', 'F', 'O', 'B', 'E', 'W', 'O', 'space', 'N', 'M', 'T', 'Z', 'X', 'X', 'X', 'X']\n",
          "output_type": "stream"
        }
      ]
    },
    {
      "cell_type": "code",
      "metadata": {
        "execution": {
          "iopub.status.busy": "2021-06-09T18:27:07.931806Z",
          "iopub.execute_input": "2021-06-09T18:27:07.932203Z",
          "iopub.status.idle": "2021-06-09T18:27:08.444908Z",
          "shell.execute_reply.started": "2021-06-09T18:27:07.932173Z",
          "shell.execute_reply": "2021-06-09T18:27:08.443734Z"
        },
        "trusted": true,
        "id": "mmC7TTwd40e4",
        "outputId": "b8e9be5f-ce67-4b85-f7b7-e0d708e88729"
      },
      "source": [
        "output = pd.DataFrame({'Id': ids, 'Prediction': y_pred_cat})\n",
        "output = output.sort_values(by=\"Id\")\n",
        "output.to_csv('submission.csv', index=False)\n",
        "output.sample(10)"
      ],
      "execution_count": null,
      "outputs": [
        {
          "execution_count": 30,
          "output_type": "execute_result",
          "data": {
            "text/plain": "          Id Prediction\n10987   1882          C\n2130    8999          H\n12048    510          R\n7214    8889          T\n3802    3759          X\n4159    6550          M\n4203    1487        del\n8990      26          Q\n8474    1654          I\n10377  13042          E",
            "text/html": "<div>\n<style scoped>\n    .dataframe tbody tr th:only-of-type {\n        vertical-align: middle;\n    }\n\n    .dataframe tbody tr th {\n        vertical-align: top;\n    }\n\n    .dataframe thead th {\n        text-align: right;\n    }\n</style>\n<table border=\"1\" class=\"dataframe\">\n  <thead>\n    <tr style=\"text-align: right;\">\n      <th></th>\n      <th>Id</th>\n      <th>Prediction</th>\n    </tr>\n  </thead>\n  <tbody>\n    <tr>\n      <th>10987</th>\n      <td>1882</td>\n      <td>C</td>\n    </tr>\n    <tr>\n      <th>2130</th>\n      <td>8999</td>\n      <td>H</td>\n    </tr>\n    <tr>\n      <th>12048</th>\n      <td>510</td>\n      <td>R</td>\n    </tr>\n    <tr>\n      <th>7214</th>\n      <td>8889</td>\n      <td>T</td>\n    </tr>\n    <tr>\n      <th>3802</th>\n      <td>3759</td>\n      <td>X</td>\n    </tr>\n    <tr>\n      <th>4159</th>\n      <td>6550</td>\n      <td>M</td>\n    </tr>\n    <tr>\n      <th>4203</th>\n      <td>1487</td>\n      <td>del</td>\n    </tr>\n    <tr>\n      <th>8990</th>\n      <td>26</td>\n      <td>Q</td>\n    </tr>\n    <tr>\n      <th>8474</th>\n      <td>1654</td>\n      <td>I</td>\n    </tr>\n    <tr>\n      <th>10377</th>\n      <td>13042</td>\n      <td>E</td>\n    </tr>\n  </tbody>\n</table>\n</div>"
          },
          "metadata": {}
        }
      ]
    }
  ]
}